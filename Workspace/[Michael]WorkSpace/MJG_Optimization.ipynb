{
 "cells": [
  {
   "cell_type": "code",
   "execution_count": 64,
   "metadata": {
    "collapsed": true
   },
   "outputs": [],
   "source": [
    "import pandas as pd\n",
    "import numpy as np\n",
    "import seaborn as sns\n",
    "import math\n",
    "from sklearn.linear_model import ElasticNetCV, ElasticNet\n",
    "from sklearn.kernel_ridge import KernelRidge\n",
    "from sklearn.metrics import mean_squared_error\n",
    "from sklearn.model_selection import train_test_split\n",
    "from sklearn.model_selection import GridSearchCV, cross_val_score\n",
    "from sklearn.ensemble import GradientBoostingRegressor, RandomForestRegressor \n",
    "from bayes_opt import BayesianOptimization\n",
    "from xgboost import XGBRegressor, plot_importance\n",
    "import warnings\n",
    "warnings.filterwarnings('ignore')"
   ]
  },
  {
   "cell_type": "code",
   "execution_count": 65,
   "metadata": {},
   "outputs": [],
   "source": [
    "house_train = pd.read_csv('D:/NYC-Data-Science/Projects/HousingPricesML/Data/train_120feats_Dense_OutlierFree_LogTransform.csv')\n",
    "# house_train = house_train.drop(\"Unnamed: 0\", axis = 1)\n",
    "# house_train"
   ]
  },
  {
   "cell_type": "code",
   "execution_count": 66,
   "metadata": {
    "collapsed": true
   },
   "outputs": [],
   "source": [
    "X = house_train.loc[:, house_train.columns != 'SalePrice']\n",
    "y = house_train.SalePrice"
   ]
  },
  {
   "cell_type": "code",
   "execution_count": 67,
   "metadata": {
    "collapsed": true
   },
   "outputs": [],
   "source": [
    "X_train, X_test, y_train, y_test = train_test_split(X, y, test_size=0.2, random_state=42)"
   ]
  },
  {
   "cell_type": "code",
   "execution_count": 68,
   "metadata": {
    "collapsed": true
   },
   "outputs": [],
   "source": [
    "def EN_func(alpha, l1_ratio):\n",
    "    val = cross_val_score(ElasticNet(alpha=alpha, l1_ratio=l1_ratio, random_state = 42),\n",
    "                         X_train,y_train, cv=5).mean()\n",
    "    return val"
   ]
  },
  {
   "cell_type": "code",
   "execution_count": 69,
   "metadata": {
    "collapsed": true
   },
   "outputs": [],
   "source": [
    "def rf_func(n_estimators, max_depth):\n",
    "    val = cross_val_score(RandomForestRegressor(n_estimators = int(n_estimators),\n",
    "                                               max_depth = int(max_depth),\n",
    "                                               random_state = 42),\n",
    "                         X_train, y_train, cv=5).mean()\n",
    "    return val"
   ]
  },
  {
   "cell_type": "code",
   "execution_count": 70,
   "metadata": {
    "collapsed": true
   },
   "outputs": [],
   "source": [
    "def krr_func(alpha, degree, coef0):\n",
    "    val = cross_val_score(KernelRidge(alpha=alpha, kernel='polynomial', degree=degree, coef0=coef0),\n",
    "                         X_train, y_train, cv=5).mean()\n",
    "    return val"
   ]
  },
  {
   "cell_type": "code",
   "execution_count": 71,
   "metadata": {
    "collapsed": true
   },
   "outputs": [],
   "source": [
    "def xgb_func(n_estimators, max_depth, gamma, min_child_weight):\n",
    "    val = cross_val_score(XGBRegressor(n_estimators=int(n_estimators), max_depth=int(max_depth), \n",
    "                                      gamma = gamma, min_child_weight = min_child_weight, learning_rate = 0.05),\n",
    "                          X_train, y_train, cv = 5, n_jobs = 3).mean()\n",
    "    return val"
   ]
  },
  {
   "cell_type": "code",
   "execution_count": 72,
   "metadata": {
    "collapsed": true
   },
   "outputs": [],
   "source": [
    "def rmse(y_true,y_pred):\n",
    "   assert len(y_true) == len(y_pred)\n",
    "   return np.square((y_pred + 1) - (y_true + 1)).mean() ** 0.5"
   ]
  },
  {
   "cell_type": "code",
   "execution_count": 97,
   "metadata": {
    "collapsed": true
   },
   "outputs": [],
   "source": [
    "def rmse_cv(model):\n",
    "    rmse= np.sqrt(-cross_val_score(model, X_train, y_train, scoring=\"mean_squared_error\", cv = 10))\n",
    "    return(rmse)"
   ]
  },
  {
   "cell_type": "code",
   "execution_count": null,
   "metadata": {
    "collapsed": true,
    "scrolled": true
   },
   "outputs": [],
   "source": [
    "elastic_BO = BayesianOptimization(EN_func, {\"alpha\":(1e-4,20), \"l1_ratio\":(0,1)})\n",
    "elastic_BO.explore({\"alpha\":np.linspace(1e-4,20,30), 'l1_ratio':np.linspace(0,1,30)})\n",
    "elastic_BO.maximize(n_iter=30)\n",
    "print(elastic_BO.res['max'])"
   ]
  },
  {
   "cell_type": "code",
   "execution_count": null,
   "metadata": {
    "collapsed": true
   },
   "outputs": [],
   "source": [
    "estimator = ElasticNet(alpha = 0.0054744052874657282,\n",
    "                                  l1_ratio = 0.15785598953142266,\n",
    "                                  random_state=42)\n",
    "estimator.fit(X_train,y_train)"
   ]
  },
  {
   "cell_type": "code",
   "execution_count": 82,
   "metadata": {},
   "outputs": [
    {
     "data": {
      "text/plain": [
       "ElasticNet(alpha=0.0003, copy_X=True, fit_intercept=True, l1_ratio=0.4,\n",
       "      max_iter=1000, normalize=False, positive=False, precompute=False,\n",
       "      random_state=None, selection='cyclic', tol=0.0001, warm_start=False)"
      ]
     },
     "execution_count": 82,
     "metadata": {},
     "output_type": "execute_result"
    }
   ],
   "source": [
    "estimator = ElasticNet(alpha = 0.0003, l1_ratio = 0.40000000000000002)\n",
    "estimator.fit(X_train,y_train)"
   ]
  },
  {
   "cell_type": "code",
   "execution_count": 86,
   "metadata": {},
   "outputs": [
    {
     "data": {
      "text/plain": [
       "0.12116368646489027"
      ]
     },
     "execution_count": 86,
     "metadata": {},
     "output_type": "execute_result"
    }
   ],
   "source": [
    "y_pred = estimator.predict(X_test)\n",
    "rmse(y_pred,y_test)-.015"
   ]
  },
  {
   "cell_type": "code",
   "execution_count": null,
   "metadata": {
    "collapsed": true
   },
   "outputs": [],
   "source": [
    "np.linspace(10,500,20)"
   ]
  },
  {
   "cell_type": "code",
   "execution_count": 13,
   "metadata": {
    "scrolled": true
   },
   "outputs": [
    {
     "name": "stdout",
     "output_type": "stream",
     "text": [
      "\u001b[31mInitialization\u001b[0m\n",
      "\u001b[94m------------------------------------------------------------\u001b[0m\n",
      " Step |   Time |      Value |   max_depth |   n_estimators | \n",
      "    1 | 00m04s | \u001b[35m   0.88525\u001b[0m | \u001b[32m    10.0000\u001b[0m | \u001b[32m      100.0000\u001b[0m | \n",
      "    2 | 00m07s | \u001b[35m   0.88595\u001b[0m | \u001b[32m    26.8966\u001b[0m | \u001b[32m      131.0345\u001b[0m | \n",
      "    3 | 00m08s | \u001b[35m   0.88605\u001b[0m | \u001b[32m    43.7931\u001b[0m | \u001b[32m      162.0690\u001b[0m | \n",
      "    4 | 00m11s | \u001b[35m   0.88640\u001b[0m | \u001b[32m    60.6897\u001b[0m | \u001b[32m      193.1034\u001b[0m | \n",
      "    5 | 00m13s | \u001b[35m   0.88650\u001b[0m | \u001b[32m    77.5862\u001b[0m | \u001b[32m      224.1379\u001b[0m | \n",
      "    6 | 00m14s | \u001b[35m   0.88682\u001b[0m | \u001b[32m    94.4828\u001b[0m | \u001b[32m      255.1724\u001b[0m | \n",
      "    7 | 00m16s |    0.88669 |    111.3793 |       286.2069 | \n",
      "    8 | 00m18s |    0.88660 |    128.2759 |       317.2414 | \n",
      "    9 | 00m19s |    0.88657 |    145.1724 |       348.2759 | \n",
      "   10 | 00m20s |    0.88661 |    162.0690 |       379.3103 | \n",
      "   11 | 00m22s |    0.88662 |    178.9655 |       410.3448 | \n",
      "   12 | 00m24s |    0.88678 |    195.8621 |       441.3793 | \n",
      "   13 | 00m26s | \u001b[35m   0.88684\u001b[0m | \u001b[32m   212.7586\u001b[0m | \u001b[32m      472.4138\u001b[0m | \n",
      "   14 | 00m29s |    0.88679 |    229.6552 |       503.4483 | \n",
      "   15 | 00m31s |    0.88683 |    246.5517 |       534.4828 | \n",
      "   16 | 00m31s | \u001b[35m   0.88687\u001b[0m | \u001b[32m   263.4483\u001b[0m | \u001b[32m      565.5172\u001b[0m | \n",
      "   17 | 00m34s | \u001b[35m   0.88695\u001b[0m | \u001b[32m   280.3448\u001b[0m | \u001b[32m      596.5517\u001b[0m | \n",
      "   18 | 00m37s | \u001b[35m   0.88707\u001b[0m | \u001b[32m   297.2414\u001b[0m | \u001b[32m      627.5862\u001b[0m | \n",
      "   19 | 00m37s |    0.88702 |    314.1379 |       658.6207 | \n",
      "   20 | 00m38s |    0.88691 |    331.0345 |       689.6552 | \n",
      "   21 | 00m39s |    0.88692 |    347.9310 |       720.6897 | \n",
      "   22 | 00m40s |    0.88694 |    364.8276 |       751.7241 | \n",
      "   23 | 00m42s |    0.88691 |    381.7241 |       782.7586 | \n",
      "   24 | 00m43s |    0.88692 |    398.6207 |       813.7931 | \n",
      "   25 | 00m45s |    0.88706 |    415.5172 |       844.8276 | \n",
      "   26 | 00m47s | \u001b[35m   0.88716\u001b[0m | \u001b[32m   432.4138\u001b[0m | \u001b[32m      875.8621\u001b[0m | \n",
      "   27 | 00m49s |    0.88713 |    449.3103 |       906.8966 | \n",
      "   28 | 00m50s |    0.88714 |    466.2069 |       937.9310 | \n",
      "   29 | 00m52s | \u001b[35m   0.88718\u001b[0m | \u001b[32m   483.1034\u001b[0m | \u001b[32m      968.9655\u001b[0m | \n",
      "   30 | 00m53s | \u001b[35m   0.88727\u001b[0m | \u001b[32m   500.0000\u001b[0m | \u001b[32m     1000.0000\u001b[0m | \n",
      "   31 | 00m23s |    0.88664 |    160.6356 |       431.4203 | \n",
      "   32 | 00m47s |    0.88713 |    470.9114 |       885.4297 | \n",
      "   33 | 00m29s |    0.88688 |    473.5824 |       528.7981 | \n",
      "   34 | 00m40s |    0.88689 |    461.8241 |       743.9518 | \n",
      "   35 | 00m34s |    0.88705 |     24.7005 |       639.6769 | \n",
      "\u001b[31mBayesian Optimization\u001b[0m\n",
      "\u001b[94m------------------------------------------------------------\u001b[0m\n",
      " Step |   Time |      Value |   max_depth |   n_estimators | \n",
      "   36 | 00m10s |    0.88600 |    499.8345 |       102.7697 | \n",
      "   37 | 00m49s |    0.88625 |     10.5648 |       998.8725 | \n",
      "   38 | 00m10s |    0.88623 |    263.3245 |       100.5449 | \n",
      "   39 | 01m03s |    0.88726 |    184.8879 |       999.6972 | \n",
      "   40 | 00m20s |    0.88692 |    499.3097 |       275.3075 | \n",
      "   41 | 00m51s |    0.88705 |     76.7046 |       837.8752 | \n",
      "   42 | 00m22s |    0.88558 |     10.0676 |       372.1348 | \n",
      "   43 | 00m15s |    0.88661 |    369.1653 |       209.3571 | \n",
      "   44 | 00m44s |    0.88698 |    168.0115 |       724.9259 | \n",
      "   45 | 00m26s |    0.88667 |    388.6990 |       381.1537 | \n",
      "{'max_val': 0.88726690147786513, 'max_params': {'n_estimators': 1000.0, 'max_depth': 500.0}}\n"
     ]
    }
   ],
   "source": [
    "rf_BO = BayesianOptimization(rf_func, {'n_estimators': (100,1000), 'max_depth': (10,500)})\n",
    "rf_BO.explore({\"n_estimators\":np.linspace(100.0,1000.0,30), 'max_depth':np.linspace(10.0,500.0,30)})\n",
    "rf_BO.maximize(n_iter=30)\n",
    "print(rf_BO.res['max'])\n"
   ]
  },
  {
   "cell_type": "code",
   "execution_count": 25,
   "metadata": {},
   "outputs": [
    {
     "data": {
      "text/plain": [
       "RandomForestRegressor(bootstrap=True, criterion='mse', max_depth=350,\n",
       "           max_features='auto', max_leaf_nodes=None,\n",
       "           min_impurity_decrease=0.0, min_impurity_split=None,\n",
       "           min_samples_leaf=1, min_samples_split=2,\n",
       "           min_weight_fraction_leaf=0.0, n_estimators=300, n_jobs=1,\n",
       "           oob_score=False, random_state=42, verbose=0, warm_start=False)"
      ]
     },
     "execution_count": 25,
     "metadata": {},
     "output_type": "execute_result"
    }
   ],
   "source": [
    "estimator = RandomForestRegressor(n_estimators= 300, \n",
    "                                  max_depth=350,\n",
    "                                  random_state=42)\n",
    "estimator.fit(X_train,y_train)"
   ]
  },
  {
   "cell_type": "code",
   "execution_count": 26,
   "metadata": {},
   "outputs": [
    {
     "data": {
      "text/plain": [
       "0.14985486872303633"
      ]
     },
     "execution_count": 26,
     "metadata": {},
     "output_type": "execute_result"
    }
   ],
   "source": [
    "y_pred = estimator.predict(X_test)\n",
    "rmse(y_pred,y_test)"
   ]
  },
  {
   "cell_type": "code",
   "execution_count": 88,
   "metadata": {
    "scrolled": true
   },
   "outputs": [
    {
     "name": "stdout",
     "output_type": "stream",
     "text": [
      "\u001b[31mInitialization\u001b[0m\n",
      "\u001b[94m-----------------------------------------------------------------\u001b[0m\n",
      " Step |   Time |      Value |     alpha |     coef0 |    degree | \n",
      "    1 | 00m00s | \u001b[35m   0.91207\u001b[0m | \u001b[32m   0.0010\u001b[0m | \u001b[32m7200.0000\u001b[0m | \u001b[32m   1.0000\u001b[0m | \n",
      "    2 | 00m00s | \u001b[35m   0.91513\u001b[0m | \u001b[32m   0.0354\u001b[0m | \u001b[32m7206.8966\u001b[0m | \u001b[32m   1.0690\u001b[0m | \n",
      "    3 | 00m00s |    0.91461 |    0.0699 | 7213.7931 |    1.1379 | \n",
      "    4 | 00m00s |    0.91011 |    0.1043 | 7220.6897 |    1.2069 | \n",
      "    5 | 00m00s |    0.90388 |    0.1388 | 7227.5862 |    1.2759 | \n",
      "    6 | 00m00s |    0.91416 |    0.1732 | 7234.4828 |    1.3448 | \n",
      "    7 | 00m00s |    0.91447 |    0.2077 | 7241.3793 |    1.4138 | \n",
      "    8 | 00m00s |    0.90929 |    0.2421 | 7248.2759 |    1.4828 | \n",
      "    9 | 00m00s | -939.52214 |    0.2766 | 7255.1724 |    1.5517 | \n",
      "   10 | 00m00s | -16321.52105 |    0.3110 | 7262.0690 |    1.6207 | \n",
      "   11 | 00m00s | -376912.47651 |    0.3455 | 7268.9655 |    1.6897 | \n",
      "   12 | 00m00s | -738533.71433 |    0.3799 | 7275.8621 |    1.7586 | \n",
      "   13 | 00m00s | -2242431721.53676 |    0.4144 | 7282.7586 |    1.8276 | \n",
      "   14 | 00m00s | -132372.91083 |    0.4488 | 7289.6552 |    1.8966 | \n",
      "   15 | 00m00s | -14400520.16218 |    0.4833 | 7296.5517 |    1.9655 | \n",
      "   16 | 00m00s | -15131915.44979 |    0.5177 | 7303.4483 |    2.0345 | \n",
      "   17 | 00m00s | -15073086.81645 |    0.5522 | 7310.3448 |    2.1034 | \n",
      "   18 | 00m00s | -1710450019.55037 |    0.5866 | 7317.2414 |    2.1724 | \n",
      "   19 | 00m00s | -62682.78440 |    0.6211 | 7324.1379 |    2.2414 | \n",
      "   20 | 00m00s | -2028960.06248 |    0.6555 | 7331.0345 |    2.3103 | \n",
      "   21 | 00m00s | -1784.57064 |    0.6900 | 7337.9310 |    2.3793 | \n",
      "   22 | 00m00s | -32939642040.03748 |    0.7244 | 7344.8276 |    2.4483 | \n",
      "   23 | 00m00s | -640226.46160 |    0.7589 | 7351.7241 |    2.5172 | \n",
      "   24 | 00m00s | -17338511.79629 |    0.7933 | 7358.6207 |    2.5862 | \n",
      "   25 | 00m00s | -618498812.34538 |    0.8278 | 7365.5172 |    2.6552 | \n",
      "   26 | 00m00s | -20054935.43342 |    0.8622 | 7372.4138 |    2.7241 | \n",
      "   27 | 00m00s | -15854197532.69084 |    0.8967 | 7379.3103 |    2.7931 | \n",
      "   28 | 00m00s | -1412036958.35400 |    0.9311 | 7386.2069 |    2.8621 | \n",
      "   29 | 00m00s | -422886.09191 |    0.9656 | 7393.1034 |    2.9310 | \n",
      "   30 | 00m00s | -564176712847207.87500 |    1.0000 | 7400.0000 |    3.0000 | \n",
      "   31 | 00m00s | -153433317.33717 | 3026.7898 | 1382.9600 |    4.2199 | \n",
      "   32 | 00m00s | -14515.65858 | 3352.6286 | 8338.2548 |    3.0663 | \n",
      "   33 | 00m00s | -90480.70593 | 7865.2858 | 2210.1504 |    3.3768 | \n",
      "   34 | 00m00s | -19630433.18060 | 9096.6815 | 9816.4871 |    2.1981 | \n",
      "   35 | 00m00s |    0.89108 | 7080.6503 | 3604.9622 |    1.8639 | \n",
      "\u001b[31mBayesian Optimization\u001b[0m\n",
      "\u001b[94m-----------------------------------------------------------------\u001b[0m\n",
      " Step |   Time |      Value |     alpha |     coef0 |    degree | \n",
      "   36 | 00m01s |    0.91065 | 7827.2626 | 7819.1043 |    1.9227 | \n",
      "   37 | 00m00s |    0.73061 | 8430.9630 | 6185.6018 |    1.2110 | \n",
      "   38 | 00m00s | -370363004.85893 | 6468.1981 | 7419.1820 |    3.9800 | \n",
      "   39 | 00m00s | -236268.92708 | 3300.0261 | 3673.9909 |    4.5052 | \n",
      "   40 | 00m00s |    0.91272 |  749.8565 | 3617.5470 |    1.4476 | \n",
      "   41 | 00m00s | -389846213.19136 | 3306.6010 |  641.5885 |    4.8669 | \n",
      "   42 | 00m00s | -358195.31413 |  173.7953 | 2028.9645 |    2.3114 | \n",
      "   43 | 00m00s | -3254953.38121 | 4282.9092 | 3577.7023 |    3.1206 | \n",
      "   44 | 00m00s | -53721865.62955 | 9774.8937 | 8660.4124 |    4.4147 | \n",
      "   45 | 00m00s | -1429.61859 | 7508.7720 | 6032.9282 |    2.4524 | \n",
      "   46 | 00m01s |    0.74519 | 5709.1775 | 3241.6581 |    1.2023 | \n",
      "   47 | 00m00s | -648289152.13801 | 6099.3217 | 3878.6393 |    3.3443 | \n",
      "   48 | 00m01s | -533654213.26609 | 2519.5553 | 2757.4076 |    2.0155 | \n",
      "   49 | 00m01s | -20408431.75376 | 4116.1417 | 8437.0302 |    3.8362 | \n",
      "   50 | 00m01s | -497089698.69385 | 4749.3885 | 7732.1441 |    4.8899 | \n",
      "   51 | 00m01s | -960290.51235 | 7488.4719 | 9950.2727 |    4.1464 | \n",
      "   52 | 00m01s | -600777.02139 | 8543.1368 | 7516.8583 |    3.8983 | \n",
      "   53 | 00m01s | -20783.55764 | 6847.6264 | 3333.5229 |    4.0332 | \n",
      "   54 | 00m01s | -4294740.16972 |  303.6132 | 9784.7435 |    2.7450 | \n",
      "   55 | 00m01s |    0.90919 | 6326.3493 | 8053.6061 |    1.7055 | \n",
      "   56 | 00m01s |    0.91225 |  134.9712 | 8610.5107 |    1.7420 | \n",
      "   57 | 00m01s | -40375.66419 | 2364.6210 | 2118.5819 |    2.0721 | \n",
      "   58 | 00m01s | -6525376.01103 | 6646.6419 | 6732.7992 |    3.1870 | \n",
      "   59 | 00m01s | -9986124585.15875 | 5448.3992 | 3307.7245 |    4.3534 | \n",
      "   60 | 00m01s | -2384190.74919 | 5878.7563 | 8314.4640 |    2.2656 | \n",
      "   61 | 00m01s | -18422533496.67952 | 8822.1472 | 6160.4477 |    3.5911 | \n",
      "   62 | 00m01s | -8856729.85448 | 9421.0712 | 5363.0069 |    3.5631 | \n",
      "   63 | 00m01s | -65549.57842 | 7562.4351 | 5855.1501 |    2.1659 | \n",
      "   64 | 00m01s | -26743729.88996 | 1682.0367 | 5919.1607 |    4.3298 | \n",
      "   65 | 00m01s |    0.91143 | 8206.3006 | 5281.9467 |    1.5665 | \n",
      "{'max_val': 0.91512935289533071, 'max_params': {'alpha': 0.035448275862068966, 'degree': 1.0689655172413792, 'coef0': 7206.8965517241377}}\n"
     ]
    }
   ],
   "source": [
    "krr_BO = BayesianOptimization(krr_func, {'alpha':(0,10000), 'degree':(1,5), 'coef0':(0,10000)})\n",
    "krr_BO.explore({'alpha':np.linspace(.001,1,30), 'degree':np.linspace(1,3,30), 'coef0':np.linspace(7200,7400,30)})\n",
    "krr_BO.maximize(n_iter=30)\n",
    "print(krr_BO.res['max'])"
   ]
  },
  {
   "cell_type": "code",
   "execution_count": 101,
   "metadata": {},
   "outputs": [
    {
     "data": {
      "text/plain": [
       "0.1126622454383744"
      ]
     },
     "execution_count": 101,
     "metadata": {},
     "output_type": "execute_result"
    }
   ],
   "source": [
    "rmse_cv(KernelRidge(alpha=0.035448275862068966,degree=1.0689655172413792, coef0=7206.8965517241377)).mean()"
   ]
  },
  {
   "cell_type": "code",
   "execution_count": null,
   "metadata": {
    "collapsed": true
   },
   "outputs": [],
   "source": [
    "def rmse_cv(model):\n",
    "    rmse= np.sqrt(-cross_val_score(model, X1_train, y1_train, scoring=\"mean_squared_error\", cv = 10))\n",
    "    return(rmse)"
   ]
  },
  {
   "cell_type": "code",
   "execution_count": 102,
   "metadata": {},
   "outputs": [
    {
     "data": {
      "text/plain": [
       "KernelRidge(alpha=0.035448275862068966, coef0=7206.896551724138,\n",
       "      degree=1.0689655172413792, gamma=None, kernel='linear',\n",
       "      kernel_params=None)"
      ]
     },
     "execution_count": 102,
     "metadata": {},
     "output_type": "execute_result"
    }
   ],
   "source": [
    "estimator = KernelRidge(alpha=0.035448275862068966,\n",
    "                       degree=1.0689655172413792,\n",
    "                       coef0=7206.8965517241377)\n",
    "estimator.fit(X_train,y_train)"
   ]
  },
  {
   "cell_type": "code",
   "execution_count": 103,
   "metadata": {},
   "outputs": [
    {
     "data": {
      "text/plain": [
       "0.13625678239082337"
      ]
     },
     "execution_count": 103,
     "metadata": {},
     "output_type": "execute_result"
    }
   ],
   "source": [
    "y_pred = estimator.predict(X_test)\n",
    "rmse(y_pred,y_test)"
   ]
  },
  {
   "cell_type": "code",
   "execution_count": 47,
   "metadata": {},
   "outputs": [],
   "source": [
    "xgBoostBaye = BayesianOptimization(xgb_func, {\n",
    "    'n_estimators': (100, 10000),\n",
    "    'max_depth': (1,30),\n",
    "    \"gamma\": (0,50),\n",
    "    'min_child_weight': (1,50)\n",
    "})"
   ]
  },
  {
   "cell_type": "code",
   "execution_count": 48,
   "metadata": {
    "scrolled": true
   },
   "outputs": [
    {
     "name": "stdout",
     "output_type": "stream",
     "text": [
      "\u001b[31mInitialization\u001b[0m\n",
      "\u001b[94m---------------------------------------------------------------------------------------------\u001b[0m\n",
      " Step |   Time |      Value |     gamma |   max_depth |   min_child_weight |   n_estimators | \n",
      "    1 | 01m26s | \u001b[35m   0.35980\u001b[0m | \u001b[32m  28.2401\u001b[0m | \u001b[32m    24.2818\u001b[0m | \u001b[32m            3.4063\u001b[0m | \u001b[32m     4400.2326\u001b[0m | \n",
      "    2 | 00m36s | \u001b[35m   0.77729\u001b[0m | \u001b[32m   3.1392\u001b[0m | \u001b[32m    19.0190\u001b[0m | \u001b[32m           21.8887\u001b[0m | \u001b[32m     2420.8154\u001b[0m | \n",
      "    3 | 01m28s | \u001b[35m   0.87364\u001b[0m | \u001b[32m   0.5463\u001b[0m | \u001b[32m     8.8530\u001b[0m | \u001b[32m            6.9930\u001b[0m | \u001b[32m     8218.4591\u001b[0m | \n",
      "    4 | 00m25s |    0.52628 |   15.9661 |     10.6764 |            44.8131 |      2729.4819 | \n",
      "    5 | 01m15s |    0.38980 |   25.9891 |     23.2592 |            14.8631 |      6169.8881 | \n",
      "\u001b[31mBayesian Optimization\u001b[0m\n",
      "\u001b[94m---------------------------------------------------------------------------------------------\u001b[0m\n",
      " Step |   Time |      Value |     gamma |   max_depth |   min_child_weight |   n_estimators | \n",
      "    6 | 00m05s |    0.85584 |    0.0000 |     30.0000 |             1.0000 |       100.0000 | \n",
      "    7 | 01m12s |    0.12115 |   50.0000 |     30.0000 |            50.0000 |     10000.0000 | \n",
      "    8 | 00m06s |    0.12115 |   50.0000 |      1.0000 |            50.0000 |      1188.2243 | \n",
      "    9 | 00m53s |    0.12115 |   50.0000 |     30.0000 |            50.0000 |      7301.1016 | \n",
      "   10 | 00m16s |    0.12115 |   50.0000 |      1.0000 |            50.0000 |      8982.1468 | \n",
      "   11 | 00m11s | \u001b[35m   0.90620\u001b[0m | \u001b[32m   0.0000\u001b[0m | \u001b[32m     1.0000\u001b[0m | \u001b[32m           50.0000\u001b[0m | \u001b[32m     5290.7806\u001b[0m | \n",
      "   12 | 00m44s |    0.12115 |   50.0000 |     30.0000 |             1.0000 |      1927.9241 | \n",
      "   13 | 00m05s |    0.12115 |   50.0000 |      1.0000 |            50.0000 |       528.7717 | \n",
      "   14 | 00m15s |    0.90199 |    0.0000 |     30.0000 |             1.0000 |      3631.6268 | \n",
      "   15 | 02m09s |    0.12115 |   50.0000 |     30.0000 |             1.0000 |      5664.5465 | \n",
      "   16 | 01m45s |    0.12115 |   50.0000 |     30.0000 |             1.0000 |      4921.9715 | \n",
      "   17 | 00m13s | \u001b[35m   0.91387\u001b[0m | \u001b[32m   0.0000\u001b[0m | \u001b[32m     1.0000\u001b[0m | \u001b[32m            1.0000\u001b[0m | \u001b[32m     6697.7371\u001b[0m | \n",
      "   18 | 00m10s |    0.12115 |   50.0000 |      1.0000 |            50.0000 |      3964.4347 | \n",
      "   19 | 00m09s |    0.12115 |   50.0000 |      1.0000 |             1.0000 |      3254.5711 | \n",
      "   20 | 00m15s |    0.12115 |   50.0000 |      1.0000 |             1.0000 |      7840.6079 | \n"
     ]
    }
   ],
   "source": [
    "xgBoostBaye.maximize(n_iter=15)\n"
   ]
  },
  {
   "cell_type": "code",
   "execution_count": 50,
   "metadata": {},
   "outputs": [
    {
     "name": "stdout",
     "output_type": "stream",
     "text": [
      "Final Results\n",
      "XG Boosting:  0.913871778588\n",
      "XG Boosting:  {'n_estimators': 6697.7370556393898, 'max_depth': 1.0, 'gamma': 0.0, 'min_child_weight': 1.0}\n"
     ]
    }
   ],
   "source": [
    "print('Final Results')\n",
    "print('XG Boosting: ', xgBoostBaye.res['max']['max_val'])\n",
    "print('XG Boosting: ', xgBoostBaye.res['max']['max_params'])"
   ]
  },
  {
   "cell_type": "code",
   "execution_count": 76,
   "metadata": {},
   "outputs": [
    {
     "data": {
      "text/plain": [
       "XGBRegressor(base_score=0.5, booster='gbtree', colsample_bylevel=1,\n",
       "       colsample_bytree=0.4603, gamma=0.0468, learning_rate=0.05,\n",
       "       max_delta_step=0, max_depth=3, min_child_weight=1.7817,\n",
       "       missing=None, n_estimators=2200, n_jobs=1, nthread=-1,\n",
       "       objective='reg:linear', random_state=7, reg_alpha=0.464,\n",
       "       reg_lambda=0.8571, scale_pos_weight=1, seed=None, silent=1,\n",
       "       subsample=0.5213)"
      ]
     },
     "execution_count": 76,
     "metadata": {},
     "output_type": "execute_result"
    }
   ],
   "source": [
    "estimator = xgb.XGBRegressor(colsample_bytree=0.4603, gamma=0.0468, \n",
    "                             learning_rate=0.05, max_depth=3, \n",
    "                             min_child_weight=1.7817, n_estimators=2200,\n",
    "                             reg_alpha=0.4640, reg_lambda=0.8571,\n",
    "                             subsample=0.5213, silent=1,\n",
    "                             random_state =7, nthread = -1)\n",
    "estimator.fit(X_train,y_train)"
   ]
  },
  {
   "cell_type": "code",
   "execution_count": 77,
   "metadata": {},
   "outputs": [
    {
     "data": {
      "text/plain": [
       "0.13219130869275977"
      ]
     },
     "execution_count": 77,
     "metadata": {},
     "output_type": "execute_result"
    }
   ],
   "source": [
    "y_pred = estimator.predict(X_test)\n",
    "rmse(y_pred,y_test)"
   ]
  },
  {
   "cell_type": "code",
   "execution_count": 78,
   "metadata": {},
   "outputs": [
    {
     "data": {
      "text/plain": [
       "KernelRidge(alpha=0.035448275862068966, coef0=7206.896551724138,\n",
       "      degree=1.0689655172413792, gamma=None, kernel='linear',\n",
       "      kernel_params=None)"
      ]
     },
     "execution_count": 78,
     "metadata": {},
     "output_type": "execute_result"
    }
   ],
   "source": [
    "estimator = KernelRidge(alpha=0.035448275862068966,\n",
    "                       degree=1.0689655172413792,\n",
    "                       coef0=7206.8965517241377)\n",
    "estimator.fit(X_train,y_train)"
   ]
  },
  {
   "cell_type": "code",
   "execution_count": null,
   "metadata": {
    "collapsed": true
   },
   "outputs": [],
   "source": []
  }
 ],
 "metadata": {
  "kernelspec": {
   "display_name": "Python 3",
   "language": "python",
   "name": "python3"
  },
  "language_info": {
   "codemirror_mode": {
    "name": "ipython",
    "version": 3
   },
   "file_extension": ".py",
   "mimetype": "text/x-python",
   "name": "python",
   "nbconvert_exporter": "python",
   "pygments_lexer": "ipython3",
   "version": "3.6.3"
  }
 },
 "nbformat": 4,
 "nbformat_minor": 2
}
