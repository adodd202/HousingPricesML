{
 "cells": [
  {
   "cell_type": "code",
   "execution_count": 131,
   "metadata": {},
   "outputs": [],
   "source": [
    "import pandas as pd\n",
    "import numpy as np\n",
    "import seaborn as sns\n",
    "import math\n",
    "from sklearn.linear_model import ElasticNetCV, ElasticNet\n",
    "from sklearn.svm import SVR\n",
    "from sklearn.kernel_ridge import KernelRidge\n",
    "from sklearn.metrics import mean_squared_error\n",
    "from sklearn.model_selection import train_test_split\n",
    "from sklearn.model_selection import GridSearchCV, cross_val_score\n",
    "from sklearn.ensemble import GradientBoostingRegressor, RandomForestRegressor \n",
    "from bayes_opt import BayesianOptimization\n",
    "from xgboost import XGBRegressor, plot_importance\n",
    "import warnings\n",
    "warnings.filterwarnings('ignore')"
   ]
  },
  {
   "cell_type": "code",
   "execution_count": 65,
   "metadata": {
    "collapsed": true
   },
   "outputs": [],
   "source": [
    "house_train = pd.read_csv('D:/NYC-Data-Science/Projects/HousingPricesML/Data/train_120feats_Dense_OutlierFree_LogTransform.csv')\n",
    "# house_train = house_train.drop(\"Unnamed: 0\", axis = 1)\n",
    "# house_train"
   ]
  },
  {
   "cell_type": "code",
   "execution_count": 66,
   "metadata": {
    "collapsed": true
   },
   "outputs": [],
   "source": [
    "X = house_train.loc[:, house_train.columns != 'SalePrice']\n",
    "y = house_train.SalePrice"
   ]
  },
  {
   "cell_type": "code",
   "execution_count": 67,
   "metadata": {
    "collapsed": true
   },
   "outputs": [],
   "source": [
    "X_train, X_test, y_train, y_test = train_test_split(X, y, test_size=0.2, random_state=42)"
   ]
  },
  {
   "cell_type": "code",
   "execution_count": 68,
   "metadata": {
    "collapsed": true
   },
   "outputs": [],
   "source": [
    "def EN_func(alpha, l1_ratio):\n",
    "    val = cross_val_score(ElasticNet(alpha=alpha, l1_ratio=l1_ratio, random_state = 42),\n",
    "                         X_train,y_train, cv=5).mean()\n",
    "    return val"
   ]
  },
  {
   "cell_type": "code",
   "execution_count": 69,
   "metadata": {
    "collapsed": true
   },
   "outputs": [],
   "source": [
    "def rf_func(n_estimators, max_depth):\n",
    "    val = cross_val_score(RandomForestRegressor(n_estimators = int(n_estimators),\n",
    "                                               max_depth = int(max_depth),\n",
    "                                               random_state = 42),\n",
    "                         X_train, y_train, cv=5).mean()\n",
    "    return val"
   ]
  },
  {
   "cell_type": "code",
   "execution_count": 70,
   "metadata": {
    "collapsed": true
   },
   "outputs": [],
   "source": [
    "def krr_func(alpha, degree, coef0):\n",
    "    val = cross_val_score(KernelRidge(alpha=alpha, kernel='polynomial', degree=degree, coef0=coef0),\n",
    "                         X_train, y_train, cv=5).mean()\n",
    "    return val"
   ]
  },
  {
   "cell_type": "code",
   "execution_count": 150,
   "metadata": {
    "collapsed": true
   },
   "outputs": [],
   "source": [
    "def xgb_func(n_estimators, max_depth, min_child_weight):\n",
    "    val = cross_val_score(XGBRegressor(n_estimators=int(n_estimators), max_depth=int(max_depth), \n",
    "                                      gamma = gamma, min_child_weight = min_child_weight, learning_rate = 0.05),\n",
    "                          X_train, y_train, cv = 5, n_jobs = 3).mean()\n",
    "    return val"
   ]
  },
  {
   "cell_type": "code",
   "execution_count": 152,
   "metadata": {
    "collapsed": true
   },
   "outputs": [],
   "source": [
    "# def svr_func(C, gamma, cache_size):\n",
    "#     val = cross_val_score(SVR(C=C, gamma=gamma, cache_size=cache_size, max_iter=-1),\n",
    "#                          X_train, y_train, cv=5).mean()\n",
    "#     return val"
   ]
  },
  {
   "cell_type": "code",
   "execution_count": 154,
   "metadata": {
    "collapsed": true
   },
   "outputs": [],
   "source": [
    "def gb_func(n_estimators, max_depth, max_features, min_samples_leaf):\n",
    "    val = cross_val_score(GradientBoostingRegressor(n_estimators = int(n_estimators),\n",
    "                                                    max_depth=int(max_depth),\n",
    "                                                    max_features = int(max_features),\n",
    "                                                    min_samples_leaf = int(min_samples_leaf),\n",
    "                                                    random_state = 42, learning_rate = .05),\n",
    "                          X_train, y_train, cv = 5).mean()\n",
    "    return val"
   ]
  },
  {
   "cell_type": "code",
   "execution_count": null,
   "metadata": {
    "collapsed": true
   },
   "outputs": [],
   "source": [
    "\n",
    "################################\n",
    "# Setting Up Gradient Boosting #\n",
    "################################\n",
    "\n",
    "def gradBoostCV(n_estimators, max_depth, max_features, min_samples_leaf):\n",
    "    val = cross_val_score(GradientBoostingRegressor(\n",
    "    n_estimators = int(n_estimators), max_depth = int(max_depth), max_features = int(max_features), min_samples_leaf = int(min_samples_leaf),\n",
    "        random_state = 42, learning_rate = 0.05\n",
    "    ),X_train, Y_train, scoring = 'neg_mean_squared_error', cv = 10, n_jobs = 3).mean()\n",
    "    return val\n",
    "\n",
    "gradBoostBaye = BayesianOptimization(gradBoostCV, {\n",
    "    'n_estimators': (100, 10000),\n",
    "    'max_depth': (1,15),\n",
    "    \"max_features\": (1,65),\n",
    "    'min_samples_leaf': (5,10)\n",
    "})"
   ]
  },
  {
   "cell_type": "code",
   "execution_count": 72,
   "metadata": {
    "collapsed": true
   },
   "outputs": [],
   "source": [
    "def rmse(y_true,y_pred):\n",
    "   assert len(y_true) == len(y_pred)\n",
    "   return np.square((y_pred + 1) - (y_true + 1)).mean() ** 0.5"
   ]
  },
  {
   "cell_type": "code",
   "execution_count": 97,
   "metadata": {
    "collapsed": true
   },
   "outputs": [],
   "source": [
    "def rmse_cv(model):\n",
    "    rmse= np.sqrt(-cross_val_score(model, X_train, y_train, scoring=\"mean_squared_error\", cv = 10))\n",
    "    return(rmse)"
   ]
  },
  {
   "cell_type": "code",
   "execution_count": null,
   "metadata": {
    "collapsed": true,
    "scrolled": true
   },
   "outputs": [],
   "source": [
    "elastic_BO = BayesianOptimization(EN_func, {\"alpha\":(1e-4,20), \"l1_ratio\":(0,1)})\n",
    "elastic_BO.explore({\"alpha\":np.linspace(1e-4,20,30), 'l1_ratio':np.linspace(0,1,30)})\n",
    "elastic_BO.maximize(n_iter=30)\n",
    "print(elastic_BO.res['max'])"
   ]
  },
  {
   "cell_type": "code",
   "execution_count": 115,
   "metadata": {},
   "outputs": [
    {
     "data": {
      "text/plain": [
       "ElasticNet(alpha=0.005474405287465728, copy_X=True, fit_intercept=True,\n",
       "      l1_ratio=0.15785598953142266, max_iter=1000, normalize=False,\n",
       "      positive=False, precompute=False, random_state=42,\n",
       "      selection='cyclic', tol=0.0001, warm_start=False)"
      ]
     },
     "execution_count": 115,
     "metadata": {},
     "output_type": "execute_result"
    }
   ],
   "source": [
    "estimator = ElasticNet(alpha = 0.0054744052874657282,\n",
    "                                  l1_ratio = 0.15785598953142266,\n",
    "                                  random_state=42)\n",
    "estimator.fit(X_train,y_train)"
   ]
  },
  {
   "cell_type": "code",
   "execution_count": 118,
   "metadata": {
    "scrolled": true
   },
   "outputs": [
    {
     "name": "stdout",
     "output_type": "stream",
     "text": [
      "\u001b[31mInitialization\u001b[0m\n",
      "\u001b[94m------------------------------------------------------\u001b[0m\n",
      " Step |   Time |      Value |     alpha |   l1_ratio | \n",
      "    1 | 00m00s | \u001b[35m   0.91195\u001b[0m | \u001b[32m   0.0001\u001b[0m | \u001b[32m    0.0000\u001b[0m | \n",
      "    2 | 00m00s |    0.90956 |    0.0346 |     0.0172 | \n",
      "    3 | 00m00s |    0.89925 |    0.0691 |     0.0345 | \n",
      "    4 | 00m00s |    0.88733 |    0.1035 |     0.0517 | \n",
      "    5 | 00m00s |    0.87477 |    0.1380 |     0.0690 | \n",
      "    6 | 00m00s |    0.85998 |    0.1725 |     0.0862 | \n",
      "    7 | 00m00s |    0.84716 |    0.2070 |     0.1034 | \n",
      "    8 | 00m00s |    0.83452 |    0.2415 |     0.1207 | \n",
      "    9 | 00m00s |    0.82314 |    0.2759 |     0.1379 | \n",
      "   10 | 00m00s |    0.81048 |    0.3104 |     0.1552 | \n",
      "   11 | 00m00s |    0.79576 |    0.3449 |     0.1724 | \n",
      "   12 | 00m00s |    0.77796 |    0.3794 |     0.1897 | \n",
      "   13 | 00m00s |    0.75701 |    0.4139 |     0.2069 | \n",
      "   14 | 00m00s |    0.73959 |    0.4483 |     0.2241 | \n",
      "   15 | 00m00s |    0.71959 |    0.4828 |     0.2414 | \n",
      "   16 | 00m00s |    0.69838 |    0.5173 |     0.2586 | \n",
      "   17 | 00m00s |    0.67796 |    0.5518 |     0.2759 | \n",
      "   18 | 00m00s |    0.67025 |    0.5862 |     0.2931 | \n",
      "   19 | 00m00s |    0.66805 |    0.6207 |     0.3103 | \n",
      "   20 | 00m00s |    0.66743 |    0.6552 |     0.3276 | \n",
      "   21 | 00m00s |    0.66713 |    0.6897 |     0.3448 | \n",
      "   22 | 00m00s |    0.66696 |    0.7242 |     0.3621 | \n",
      "   23 | 00m00s |    0.66679 |    0.7586 |     0.3793 | \n",
      "   24 | 00m00s |    0.66656 |    0.7931 |     0.3966 | \n",
      "   25 | 00m00s |    0.66624 |    0.8276 |     0.4138 | \n",
      "   26 | 00m00s |    0.66587 |    0.8621 |     0.4310 | \n",
      "   27 | 00m00s |    0.66545 |    0.8966 |     0.4483 | \n",
      "   28 | 00m00s |    0.66496 |    0.9310 |     0.4655 | \n",
      "   29 | 00m00s |    0.66440 |    0.9655 |     0.4828 | \n",
      "   30 | 00m00s |    0.66374 |    1.0000 |     0.5000 | \n",
      "   31 | 00m00s |    0.76351 |    0.9030 |     0.0831 | \n",
      "   32 | 00m00s |    0.66735 |    0.4865 |     0.4542 | \n",
      "   33 | 00m00s |    0.76172 |    0.6280 |     0.1270 | \n",
      "   34 | 00m00s |    0.67725 |    0.3205 |     0.4789 | \n",
      "   35 | 00m00s |    0.80004 |    0.2278 |     0.2586 | \n",
      "\u001b[31mBayesian Optimization\u001b[0m\n",
      "\u001b[94m------------------------------------------------------\u001b[0m\n",
      " Step |   Time |      Value |     alpha |   l1_ratio | \n",
      "   36 | 00m03s | \u001b[35m   0.91422\u001b[0m | \u001b[32m   0.0001\u001b[0m | \u001b[32m    0.5000\u001b[0m | \n",
      "   37 | 00m05s |    0.91326 |    0.0001 |     0.2406 | \n",
      "   38 | 00m07s |    0.88581 |    0.4517 |     0.0000 | \n",
      "   39 | 00m09s |    0.86832 |    1.0000 |     0.0000 | \n",
      "   40 | 00m12s |    0.87558 |    0.7496 |     0.0000 | \n",
      "   41 | 00m12s |    0.91384 |    0.0001 |     0.3854 | \n",
      "   42 | 00m14s |    0.91250 |    0.0001 |     0.1013 | \n",
      "   43 | 00m15s |    0.89368 |    0.2657 |     0.0000 | \n",
      "   44 | 00m15s |    0.88034 |    0.6031 |     0.0000 | \n",
      "   45 | 00m16s |    0.91406 |    0.0001 |     0.4500 | \n",
      "   46 | 00m12s |    0.91353 |    0.0001 |     0.3070 | \n",
      "   47 | 00m07s |    0.91287 |    0.0001 |     0.1647 | \n",
      "   48 | 00m15s |    0.86794 |    0.0289 |     0.4987 | \n",
      "   49 | 00m10s |    0.90084 |    0.1347 |     0.0000 | \n",
      "   50 | 00m09s |    0.91219 |    0.0001 |     0.0364 | \n",
      "   51 | 00m13s |    0.91375 |    0.0001 |     0.3609 | \n",
      "   52 | 00m10s | \u001b[35m   0.91733\u001b[0m | \u001b[32m   0.0004\u001b[0m | \u001b[32m    0.4858\u001b[0m | \n",
      "   53 | 00m14s |    0.87140 |    0.8895 |     0.0000 | \n",
      "   54 | 00m13s |    0.91415 |    0.0001 |     0.4767 | \n",
      "   55 | 00m06s |    0.66673 |    1.0000 |     0.2954 | \n",
      "   56 | 00m08s |    0.66620 |    0.6927 |     0.5000 | \n",
      "   57 | 00m06s |    0.84340 |    0.0895 |     0.2919 | \n",
      "   58 | 00m05s |    0.81745 |    0.4833 |     0.0778 | \n",
      "   59 | 00m06s |    0.71608 |    0.3437 |     0.3514 | \n",
      "   60 | 00m05s |    0.88949 |    0.3599 |     0.0000 | \n",
      "   61 | 00m10s |    0.86575 |    0.0812 |     0.1729 | \n",
      "   62 | 00m09s |    0.73367 |    1.0000 |     0.0989 | \n",
      "   63 | 00m09s |    0.87793 |    0.6755 |     0.0000 | \n",
      "   64 | 00m08s |    0.79303 |    0.1649 |     0.3973 | \n",
      "   65 | 00m08s |    0.67237 |    0.7918 |     0.2054 | \n",
      "{'max_val': 0.91732672235445722, 'max_params': {'alpha': 0.00035623679213911001, 'l1_ratio': 0.48581607682018874}}\n"
     ]
    }
   ],
   "source": [
    "elastic_BO = BayesianOptimization(EN_func, {\"alpha\":(1e-4,1), \"l1_ratio\":(0,.5)})\n",
    "elastic_BO.explore({\"alpha\":np.linspace(1e-4,1,30), 'l1_ratio':np.linspace(0,.5,30)})\n",
    "elastic_BO.maximize(n_iter=30)\n",
    "print(elastic_BO.res['max'])"
   ]
  },
  {
   "cell_type": "code",
   "execution_count": 119,
   "metadata": {},
   "outputs": [
    {
     "data": {
      "text/plain": [
       "ElasticNet(alpha=0.00035623679213911, copy_X=True, fit_intercept=True,\n",
       "      l1_ratio=0.48581607682018874, max_iter=1000, normalize=False,\n",
       "      positive=False, precompute=False, random_state=None,\n",
       "      selection='cyclic', tol=0.0001, warm_start=False)"
      ]
     },
     "execution_count": 119,
     "metadata": {},
     "output_type": "execute_result"
    }
   ],
   "source": [
    "estimator = ElasticNet(alpha = 0.00035623679213911001, l1_ratio = 0.48581607682018874)\n",
    "estimator.fit(X_train,y_train)"
   ]
  },
  {
   "cell_type": "code",
   "execution_count": 124,
   "metadata": {},
   "outputs": [
    {
     "data": {
      "text/plain": [
       "0.13576277171183798"
      ]
     },
     "execution_count": 124,
     "metadata": {},
     "output_type": "execute_result"
    }
   ],
   "source": [
    "y_pred = estimator.predict(X_test)\n",
    "rmse(y_pred,y_test)"
   ]
  },
  {
   "cell_type": "code",
   "execution_count": 125,
   "metadata": {},
   "outputs": [
    {
     "data": {
      "text/plain": [
       "0.10933571952762185"
      ]
     },
     "execution_count": 125,
     "metadata": {},
     "output_type": "execute_result"
    }
   ],
   "source": [
    "#how the team calculated CV\n",
    "rmse_cv(ElasticNet(alpha = 0.00035623679213911001, l1_ratio = 0.48581607682018874)).mean()"
   ]
  },
  {
   "cell_type": "code",
   "execution_count": null,
   "metadata": {
    "collapsed": true
   },
   "outputs": [],
   "source": [
    "np.linspace(10,500,20)"
   ]
  },
  {
   "cell_type": "code",
   "execution_count": 128,
   "metadata": {
    "scrolled": true
   },
   "outputs": [
    {
     "name": "stdout",
     "output_type": "stream",
     "text": [
      "\u001b[31mInitialization\u001b[0m\n",
      "\u001b[94m------------------------------------------------------------\u001b[0m\n",
      " Step |   Time |      Value |   max_depth |   n_estimators | \n",
      "    1 | 00m12s | \u001b[35m   0.88650\u001b[0m | \u001b[32m   250.0000\u001b[0m | \u001b[32m      200.0000\u001b[0m | \n",
      "    2 | 00m13s |    0.88647 |    256.8966 |       206.8966 | \n",
      "    3 | 00m13s | \u001b[35m   0.88661\u001b[0m | \u001b[32m   263.7931\u001b[0m | \u001b[32m      213.7931\u001b[0m | \n",
      "    4 | 00m13s |    0.88648 |    270.6897 |       220.6897 | \n",
      "    5 | 00m14s | \u001b[35m   0.88663\u001b[0m | \u001b[32m   277.5862\u001b[0m | \u001b[32m      227.5862\u001b[0m | \n",
      "    6 | 00m15s | \u001b[35m   0.88683\u001b[0m | \u001b[32m   284.4828\u001b[0m | \u001b[32m      234.4828\u001b[0m | \n",
      "    7 | 00m14s | \u001b[35m   0.88691\u001b[0m | \u001b[32m   291.3793\u001b[0m | \u001b[32m      241.3793\u001b[0m | \n",
      "    8 | 00m15s |    0.88674 |    298.2759 |       248.2759 | \n",
      "    9 | 00m16s |    0.88682 |    305.1724 |       255.1724 | \n",
      "   10 | 00m16s |    0.88684 |    312.0690 |       262.0690 | \n",
      "   11 | 00m16s | \u001b[35m   0.88692\u001b[0m | \u001b[32m   318.9655\u001b[0m | \u001b[32m      268.9655\u001b[0m | \n",
      "   12 | 00m17s | \u001b[35m   0.88692\u001b[0m | \u001b[32m   325.8621\u001b[0m | \u001b[32m      275.8621\u001b[0m | \n",
      "   13 | 00m17s |    0.88675 |    332.7586 |       282.7586 | \n",
      "   14 | 00m17s |    0.88663 |    339.6552 |       289.6552 | \n",
      "   15 | 00m18s |    0.88662 |    346.5517 |       296.5517 | \n",
      "   16 | 00m18s |    0.88653 |    353.4483 |       303.4483 | \n",
      "   17 | 00m19s |    0.88665 |    360.3448 |       310.3448 | \n",
      "   18 | 00m19s |    0.88660 |    367.2414 |       317.2414 | \n",
      "   19 | 00m20s |    0.88666 |    374.1379 |       324.1379 | \n",
      "   20 | 00m20s |    0.88666 |    381.0345 |       331.0345 | \n",
      "   21 | 00m20s |    0.88668 |    387.9310 |       337.9310 | \n",
      "   22 | 00m21s |    0.88664 |    394.8276 |       344.8276 | \n",
      "   23 | 00m21s |    0.88653 |    401.7241 |       351.7241 | \n",
      "   24 | 00m22s |    0.88666 |    408.6207 |       358.6207 | \n",
      "   25 | 00m23s |    0.88665 |    415.5172 |       365.5172 | \n",
      "   26 | 00m23s |    0.88667 |    422.4138 |       372.4138 | \n",
      "   27 | 00m23s |    0.88661 |    429.3103 |       379.3103 | \n",
      "   28 | 00m24s |    0.88663 |    436.2069 |       386.2069 | \n",
      "   29 | 00m25s |    0.88657 |    443.1034 |       393.1034 | \n",
      "   30 | 00m25s |    0.88662 |    450.0000 |       400.0000 | \n",
      "   31 | 00m13s |    0.88656 |    286.2791 |       214.3813 | \n",
      "   32 | 00m19s |    0.88661 |    344.5759 |       313.3058 | \n",
      "   33 | 00m21s |    0.88669 |    100.9338 |       339.7112 | \n",
      "   34 | 00m19s |    0.88659 |    456.4993 |       320.3558 | \n",
      "   35 | 00m17s | \u001b[35m   0.88692\u001b[0m | \u001b[32m    99.5291\u001b[0m | \u001b[32m      276.9777\u001b[0m | \n",
      "\u001b[31mBayesian Optimization\u001b[0m\n",
      "\u001b[94m------------------------------------------------------------\u001b[0m\n",
      " Step |   Time |      Value |   max_depth |   n_estimators | \n",
      "   36 | 00m17s |    0.88617 |     11.3110 |       200.6147 | \n",
      "   37 | 00m26s |    0.88549 |     10.2194 |       399.8230 | \n",
      "   38 | 00m18s |    0.88650 |    499.9064 |       200.2865 | \n",
      "   39 | 00m31s |    0.88659 |    217.5884 |       399.8699 | \n",
      "   40 | 00m22s |    0.88572 |     10.0542 |       301.4522 | \n",
      "   41 | 00m19s |    0.88650 |    423.6483 |       200.0290 | \n",
      "   42 | 00m18s |    0.88650 |    105.1778 |       200.0882 | \n",
      "   43 | 00m31s |    0.88659 |    327.1925 |       399.9896 | \n",
      "   44 | 00m30s |    0.88663 |    499.8785 |       376.1939 | \n",
      "   45 | 00m32s |    0.88659 |     89.7679 |       399.7924 | \n",
      "   46 | 00m27s |    0.88663 |    197.7982 |       309.9146 | \n",
      "   47 | 00m25s |    0.88684 |    499.7708 |       262.1809 | \n",
      "   48 | 00m22s |    0.88657 |    170.5514 |       222.7940 | \n",
      "   49 | 00m30s |    0.88662 |    265.0972 |       355.4958 | \n",
      "   50 | 00m22s |    0.88686 |     38.5587 |       240.7556 | \n",
      "   51 | 00m31s |    0.88664 |     41.9349 |       359.2125 | \n",
      "   52 | 00m23s |    0.88683 |    448.2327 |       245.1631 | \n",
      "   53 | 00m31s |    0.88664 |    155.4751 |       382.2435 | \n",
      "   54 | 00m20s |    0.88650 |    361.4193 |       200.3854 | \n",
      "   55 | 00m32s |    0.88659 |    387.0625 |       399.7670 | \n",
      "   56 | 00m24s |    0.88660 |    260.2248 |       295.5683 | \n",
      "   57 | 00m16s |    0.88650 |     52.0721 |       200.1636 | \n",
      "   58 | 00m22s |    0.88664 |     52.9882 |       299.9912 | \n",
      "   59 | 00m21s |    0.88684 |    391.0087 |       239.1835 | \n",
      "   60 | 00m32s |    0.88659 |    499.0945 |       399.9341 | \n",
      "   61 | 00m29s |    0.88659 |    274.9920 |       399.9708 | \n",
      "   62 | 00m28s |    0.88664 |    499.4252 |       315.5045 | \n",
      "   63 | 00m21s |    0.88687 |    157.3083 |       272.8638 | \n",
      "   64 | 00m17s |    0.88650 |    182.3556 |       200.0291 | \n",
      "   65 | 00m25s |    0.88683 |    208.2755 |       260.6815 | \n",
      "{'max_val': 0.88692369761213696, 'max_params': {'n_estimators': 276.97768827726259, 'max_depth': 99.529053209087891}}\n"
     ]
    }
   ],
   "source": [
    "rf_BO = BayesianOptimization(rf_func, {'n_estimators': (200,400), 'max_depth': (10,500)})\n",
    "rf_BO.explore({\"n_estimators\":np.linspace(200,400,30), 'max_depth':np.linspace(250,450,30)})\n",
    "rf_BO.maximize(n_iter=30)\n",
    "print(rf_BO.res['max'])\n"
   ]
  },
  {
   "cell_type": "code",
   "execution_count": 25,
   "metadata": {},
   "outputs": [
    {
     "data": {
      "text/plain": [
       "RandomForestRegressor(bootstrap=True, criterion='mse', max_depth=350,\n",
       "           max_features='auto', max_leaf_nodes=None,\n",
       "           min_impurity_decrease=0.0, min_impurity_split=None,\n",
       "           min_samples_leaf=1, min_samples_split=2,\n",
       "           min_weight_fraction_leaf=0.0, n_estimators=300, n_jobs=1,\n",
       "           oob_score=False, random_state=42, verbose=0, warm_start=False)"
      ]
     },
     "execution_count": 25,
     "metadata": {},
     "output_type": "execute_result"
    }
   ],
   "source": [
    "estimator = RandomForestRegressor(n_estimators= 276.97768827726259, \n",
    "                                  max_depth=99.529053209087891,\n",
    "                                  random_state=42)\n",
    "estimator.fit(X_train,y_train)"
   ]
  },
  {
   "cell_type": "code",
   "execution_count": 26,
   "metadata": {},
   "outputs": [
    {
     "data": {
      "text/plain": [
       "0.14985486872303633"
      ]
     },
     "execution_count": 26,
     "metadata": {},
     "output_type": "execute_result"
    }
   ],
   "source": [
    "y_pred = estimator.predict(X_test)\n",
    "rmse(y_pred,y_test)"
   ]
  },
  {
   "cell_type": "code",
   "execution_count": 129,
   "metadata": {},
   "outputs": [
    {
     "data": {
      "text/plain": [
       "0.12921840631266052"
      ]
     },
     "execution_count": 129,
     "metadata": {},
     "output_type": "execute_result"
    }
   ],
   "source": [
    "rmse_cv(RandomForestRegressor(n_estimators= 277, \n",
    "                                  max_depth=100)).mean()"
   ]
  },
  {
   "cell_type": "code",
   "execution_count": 88,
   "metadata": {
    "scrolled": true
   },
   "outputs": [
    {
     "name": "stdout",
     "output_type": "stream",
     "text": [
      "\u001b[31mInitialization\u001b[0m\n",
      "\u001b[94m-----------------------------------------------------------------\u001b[0m\n",
      " Step |   Time |      Value |     alpha |     coef0 |    degree | \n",
      "    1 | 00m00s | \u001b[35m   0.91207\u001b[0m | \u001b[32m   0.0010\u001b[0m | \u001b[32m7200.0000\u001b[0m | \u001b[32m   1.0000\u001b[0m | \n",
      "    2 | 00m00s | \u001b[35m   0.91513\u001b[0m | \u001b[32m   0.0354\u001b[0m | \u001b[32m7206.8966\u001b[0m | \u001b[32m   1.0690\u001b[0m | \n",
      "    3 | 00m00s |    0.91461 |    0.0699 | 7213.7931 |    1.1379 | \n",
      "    4 | 00m00s |    0.91011 |    0.1043 | 7220.6897 |    1.2069 | \n",
      "    5 | 00m00s |    0.90388 |    0.1388 | 7227.5862 |    1.2759 | \n",
      "    6 | 00m00s |    0.91416 |    0.1732 | 7234.4828 |    1.3448 | \n",
      "    7 | 00m00s |    0.91447 |    0.2077 | 7241.3793 |    1.4138 | \n",
      "    8 | 00m00s |    0.90929 |    0.2421 | 7248.2759 |    1.4828 | \n",
      "    9 | 00m00s | -939.52214 |    0.2766 | 7255.1724 |    1.5517 | \n",
      "   10 | 00m00s | -16321.52105 |    0.3110 | 7262.0690 |    1.6207 | \n",
      "   11 | 00m00s | -376912.47651 |    0.3455 | 7268.9655 |    1.6897 | \n",
      "   12 | 00m00s | -738533.71433 |    0.3799 | 7275.8621 |    1.7586 | \n",
      "   13 | 00m00s | -2242431721.53676 |    0.4144 | 7282.7586 |    1.8276 | \n",
      "   14 | 00m00s | -132372.91083 |    0.4488 | 7289.6552 |    1.8966 | \n",
      "   15 | 00m00s | -14400520.16218 |    0.4833 | 7296.5517 |    1.9655 | \n",
      "   16 | 00m00s | -15131915.44979 |    0.5177 | 7303.4483 |    2.0345 | \n",
      "   17 | 00m00s | -15073086.81645 |    0.5522 | 7310.3448 |    2.1034 | \n",
      "   18 | 00m00s | -1710450019.55037 |    0.5866 | 7317.2414 |    2.1724 | \n",
      "   19 | 00m00s | -62682.78440 |    0.6211 | 7324.1379 |    2.2414 | \n",
      "   20 | 00m00s | -2028960.06248 |    0.6555 | 7331.0345 |    2.3103 | \n",
      "   21 | 00m00s | -1784.57064 |    0.6900 | 7337.9310 |    2.3793 | \n",
      "   22 | 00m00s | -32939642040.03748 |    0.7244 | 7344.8276 |    2.4483 | \n",
      "   23 | 00m00s | -640226.46160 |    0.7589 | 7351.7241 |    2.5172 | \n",
      "   24 | 00m00s | -17338511.79629 |    0.7933 | 7358.6207 |    2.5862 | \n",
      "   25 | 00m00s | -618498812.34538 |    0.8278 | 7365.5172 |    2.6552 | \n",
      "   26 | 00m00s | -20054935.43342 |    0.8622 | 7372.4138 |    2.7241 | \n",
      "   27 | 00m00s | -15854197532.69084 |    0.8967 | 7379.3103 |    2.7931 | \n",
      "   28 | 00m00s | -1412036958.35400 |    0.9311 | 7386.2069 |    2.8621 | \n",
      "   29 | 00m00s | -422886.09191 |    0.9656 | 7393.1034 |    2.9310 | \n",
      "   30 | 00m00s | -564176712847207.87500 |    1.0000 | 7400.0000 |    3.0000 | \n",
      "   31 | 00m00s | -153433317.33717 | 3026.7898 | 1382.9600 |    4.2199 | \n",
      "   32 | 00m00s | -14515.65858 | 3352.6286 | 8338.2548 |    3.0663 | \n",
      "   33 | 00m00s | -90480.70593 | 7865.2858 | 2210.1504 |    3.3768 | \n",
      "   34 | 00m00s | -19630433.18060 | 9096.6815 | 9816.4871 |    2.1981 | \n",
      "   35 | 00m00s |    0.89108 | 7080.6503 | 3604.9622 |    1.8639 | \n",
      "\u001b[31mBayesian Optimization\u001b[0m\n",
      "\u001b[94m-----------------------------------------------------------------\u001b[0m\n",
      " Step |   Time |      Value |     alpha |     coef0 |    degree | \n",
      "   36 | 00m01s |    0.91065 | 7827.2626 | 7819.1043 |    1.9227 | \n",
      "   37 | 00m00s |    0.73061 | 8430.9630 | 6185.6018 |    1.2110 | \n",
      "   38 | 00m00s | -370363004.85893 | 6468.1981 | 7419.1820 |    3.9800 | \n",
      "   39 | 00m00s | -236268.92708 | 3300.0261 | 3673.9909 |    4.5052 | \n",
      "   40 | 00m00s |    0.91272 |  749.8565 | 3617.5470 |    1.4476 | \n",
      "   41 | 00m00s | -389846213.19136 | 3306.6010 |  641.5885 |    4.8669 | \n",
      "   42 | 00m00s | -358195.31413 |  173.7953 | 2028.9645 |    2.3114 | \n",
      "   43 | 00m00s | -3254953.38121 | 4282.9092 | 3577.7023 |    3.1206 | \n",
      "   44 | 00m00s | -53721865.62955 | 9774.8937 | 8660.4124 |    4.4147 | \n",
      "   45 | 00m00s | -1429.61859 | 7508.7720 | 6032.9282 |    2.4524 | \n",
      "   46 | 00m01s |    0.74519 | 5709.1775 | 3241.6581 |    1.2023 | \n",
      "   47 | 00m00s | -648289152.13801 | 6099.3217 | 3878.6393 |    3.3443 | \n",
      "   48 | 00m01s | -533654213.26609 | 2519.5553 | 2757.4076 |    2.0155 | \n",
      "   49 | 00m01s | -20408431.75376 | 4116.1417 | 8437.0302 |    3.8362 | \n",
      "   50 | 00m01s | -497089698.69385 | 4749.3885 | 7732.1441 |    4.8899 | \n",
      "   51 | 00m01s | -960290.51235 | 7488.4719 | 9950.2727 |    4.1464 | \n",
      "   52 | 00m01s | -600777.02139 | 8543.1368 | 7516.8583 |    3.8983 | \n",
      "   53 | 00m01s | -20783.55764 | 6847.6264 | 3333.5229 |    4.0332 | \n",
      "   54 | 00m01s | -4294740.16972 |  303.6132 | 9784.7435 |    2.7450 | \n",
      "   55 | 00m01s |    0.90919 | 6326.3493 | 8053.6061 |    1.7055 | \n",
      "   56 | 00m01s |    0.91225 |  134.9712 | 8610.5107 |    1.7420 | \n",
      "   57 | 00m01s | -40375.66419 | 2364.6210 | 2118.5819 |    2.0721 | \n",
      "   58 | 00m01s | -6525376.01103 | 6646.6419 | 6732.7992 |    3.1870 | \n",
      "   59 | 00m01s | -9986124585.15875 | 5448.3992 | 3307.7245 |    4.3534 | \n",
      "   60 | 00m01s | -2384190.74919 | 5878.7563 | 8314.4640 |    2.2656 | \n",
      "   61 | 00m01s | -18422533496.67952 | 8822.1472 | 6160.4477 |    3.5911 | \n",
      "   62 | 00m01s | -8856729.85448 | 9421.0712 | 5363.0069 |    3.5631 | \n",
      "   63 | 00m01s | -65549.57842 | 7562.4351 | 5855.1501 |    2.1659 | \n",
      "   64 | 00m01s | -26743729.88996 | 1682.0367 | 5919.1607 |    4.3298 | \n",
      "   65 | 00m01s |    0.91143 | 8206.3006 | 5281.9467 |    1.5665 | \n",
      "{'max_val': 0.91512935289533071, 'max_params': {'alpha': 0.035448275862068966, 'degree': 1.0689655172413792, 'coef0': 7206.8965517241377}}\n"
     ]
    }
   ],
   "source": [
    "krr_BO = BayesianOptimization(krr_func, {'alpha':(0,10000), 'degree':(1,5), 'coef0':(0,10000)})\n",
    "krr_BO.explore({'alpha':np.linspace(.001,1,30), 'degree':np.linspace(1,3,30), 'coef0':np.linspace(7200,7400,30)})\n",
    "krr_BO.maximize(n_iter=30)\n",
    "print(krr_BO.res['max'])"
   ]
  },
  {
   "cell_type": "code",
   "execution_count": 101,
   "metadata": {},
   "outputs": [
    {
     "data": {
      "text/plain": [
       "0.1126622454383744"
      ]
     },
     "execution_count": 101,
     "metadata": {},
     "output_type": "execute_result"
    }
   ],
   "source": [
    "rmse_cv(KernelRidge(alpha=0.035448275862068966,degree=1.0689655172413792, coef0=7206.8965517241377)).mean()\n",
    "# I get the discrepency now! It was because I was getting score based on 20% of my data which i did not use, while others were\n",
    "# getting the cv from the k-folds and averaging them. I was relying on just the one instance of unknown while they were avg,\n",
    "# so likely makes sense that for some instances it fits more and others it is "
   ]
  },
  {
   "cell_type": "code",
   "execution_count": null,
   "metadata": {
    "collapsed": true
   },
   "outputs": [],
   "source": [
    "# def rmse_cv(model):\n",
    "#     rmse= np.sqrt(-cross_val_score(model, X1_train, y1_train, scoring=\"mean_squared_error\", cv = 10))\n",
    "#     return(rmse)"
   ]
  },
  {
   "cell_type": "code",
   "execution_count": 102,
   "metadata": {},
   "outputs": [
    {
     "data": {
      "text/plain": [
       "KernelRidge(alpha=0.035448275862068966, coef0=7206.896551724138,\n",
       "      degree=1.0689655172413792, gamma=None, kernel='linear',\n",
       "      kernel_params=None)"
      ]
     },
     "execution_count": 102,
     "metadata": {},
     "output_type": "execute_result"
    }
   ],
   "source": [
    "estimator = KernelRidge(alpha=0.035448275862068966,\n",
    "                       degree=1.0689655172413792,\n",
    "                       coef0=7206.8965517241377)\n",
    "estimator.fit(X_train,y_train)"
   ]
  },
  {
   "cell_type": "code",
   "execution_count": 103,
   "metadata": {},
   "outputs": [
    {
     "data": {
      "text/plain": [
       "0.13625678239082337"
      ]
     },
     "execution_count": 103,
     "metadata": {},
     "output_type": "execute_result"
    }
   ],
   "source": [
    "y_pred = estimator.predict(X_test)\n",
    "rmse(y_pred,y_test)"
   ]
  },
  {
   "cell_type": "code",
   "execution_count": 47,
   "metadata": {
    "collapsed": true
   },
   "outputs": [],
   "source": [
    "xgBoostBaye = BayesianOptimization(xgb_func, {\n",
    "    'n_estimators': (100, 10000),\n",
    "    'max_depth': (1,30),\n",
    "    \"gamma\": (0,50),\n",
    "    'min_child_weight': (1,50)\n",
    "})"
   ]
  },
  {
   "cell_type": "code",
   "execution_count": 48,
   "metadata": {
    "scrolled": true
   },
   "outputs": [
    {
     "name": "stdout",
     "output_type": "stream",
     "text": [
      "\u001b[31mInitialization\u001b[0m\n",
      "\u001b[94m---------------------------------------------------------------------------------------------\u001b[0m\n",
      " Step |   Time |      Value |     gamma |   max_depth |   min_child_weight |   n_estimators | \n",
      "    1 | 01m26s | \u001b[35m   0.35980\u001b[0m | \u001b[32m  28.2401\u001b[0m | \u001b[32m    24.2818\u001b[0m | \u001b[32m            3.4063\u001b[0m | \u001b[32m     4400.2326\u001b[0m | \n",
      "    2 | 00m36s | \u001b[35m   0.77729\u001b[0m | \u001b[32m   3.1392\u001b[0m | \u001b[32m    19.0190\u001b[0m | \u001b[32m           21.8887\u001b[0m | \u001b[32m     2420.8154\u001b[0m | \n",
      "    3 | 01m28s | \u001b[35m   0.87364\u001b[0m | \u001b[32m   0.5463\u001b[0m | \u001b[32m     8.8530\u001b[0m | \u001b[32m            6.9930\u001b[0m | \u001b[32m     8218.4591\u001b[0m | \n",
      "    4 | 00m25s |    0.52628 |   15.9661 |     10.6764 |            44.8131 |      2729.4819 | \n",
      "    5 | 01m15s |    0.38980 |   25.9891 |     23.2592 |            14.8631 |      6169.8881 | \n",
      "\u001b[31mBayesian Optimization\u001b[0m\n",
      "\u001b[94m---------------------------------------------------------------------------------------------\u001b[0m\n",
      " Step |   Time |      Value |     gamma |   max_depth |   min_child_weight |   n_estimators | \n",
      "    6 | 00m05s |    0.85584 |    0.0000 |     30.0000 |             1.0000 |       100.0000 | \n",
      "    7 | 01m12s |    0.12115 |   50.0000 |     30.0000 |            50.0000 |     10000.0000 | \n",
      "    8 | 00m06s |    0.12115 |   50.0000 |      1.0000 |            50.0000 |      1188.2243 | \n",
      "    9 | 00m53s |    0.12115 |   50.0000 |     30.0000 |            50.0000 |      7301.1016 | \n",
      "   10 | 00m16s |    0.12115 |   50.0000 |      1.0000 |            50.0000 |      8982.1468 | \n",
      "   11 | 00m11s | \u001b[35m   0.90620\u001b[0m | \u001b[32m   0.0000\u001b[0m | \u001b[32m     1.0000\u001b[0m | \u001b[32m           50.0000\u001b[0m | \u001b[32m     5290.7806\u001b[0m | \n",
      "   12 | 00m44s |    0.12115 |   50.0000 |     30.0000 |             1.0000 |      1927.9241 | \n",
      "   13 | 00m05s |    0.12115 |   50.0000 |      1.0000 |            50.0000 |       528.7717 | \n",
      "   14 | 00m15s |    0.90199 |    0.0000 |     30.0000 |             1.0000 |      3631.6268 | \n",
      "   15 | 02m09s |    0.12115 |   50.0000 |     30.0000 |             1.0000 |      5664.5465 | \n",
      "   16 | 01m45s |    0.12115 |   50.0000 |     30.0000 |             1.0000 |      4921.9715 | \n",
      "   17 | 00m13s | \u001b[35m   0.91387\u001b[0m | \u001b[32m   0.0000\u001b[0m | \u001b[32m     1.0000\u001b[0m | \u001b[32m            1.0000\u001b[0m | \u001b[32m     6697.7371\u001b[0m | \n",
      "   18 | 00m10s |    0.12115 |   50.0000 |      1.0000 |            50.0000 |      3964.4347 | \n",
      "   19 | 00m09s |    0.12115 |   50.0000 |      1.0000 |             1.0000 |      3254.5711 | \n",
      "   20 | 00m15s |    0.12115 |   50.0000 |      1.0000 |             1.0000 |      7840.6079 | \n"
     ]
    }
   ],
   "source": [
    "xgBoostBaye.maximize(n_iter=15)\n",
    "print('Final Results')\n",
    "print('XG Boosting: ', xgBoostBaye.res['max']['max_val'])\n",
    "print('XG Boosting: ', xgBoostBaye.res['max']['max_params'])\n",
    "\n",
    "# Final Results\n",
    "# XG Boosting:  0.913871778588\n",
    "# XG Boosting:  {'n_estimators': 6697.7370556393898, 'max_depth': 1.0, 'gamma': 0.0, 'min_child_weight': 1.0}"
   ]
  },
  {
   "cell_type": "code",
   "execution_count": 50,
   "metadata": {},
   "outputs": [
    {
     "name": "stdout",
     "output_type": "stream",
     "text": [
      "Final Results\n",
      "XG Boosting:  0.913871778588\n",
      "XG Boosting:  {'n_estimators': 6697.7370556393898, 'max_depth': 1.0, 'gamma': 0.0, 'min_child_weight': 1.0}\n"
     ]
    }
   ],
   "source": []
  },
  {
   "cell_type": "code",
   "execution_count": 127,
   "metadata": {},
   "outputs": [
    {
     "data": {
      "text/plain": [
       "0.11414891100476769"
      ]
     },
     "execution_count": 127,
     "metadata": {},
     "output_type": "execute_result"
    }
   ],
   "source": [
    "rmse_cv(XGBRegressor(n_estimators= 6698, max_depth= 1, gamma= 0, min_child_weight= 1)).mean()\n"
   ]
  },
  {
   "cell_type": "code",
   "execution_count": 76,
   "metadata": {},
   "outputs": [
    {
     "data": {
      "text/plain": [
       "XGBRegressor(base_score=0.5, booster='gbtree', colsample_bylevel=1,\n",
       "       colsample_bytree=0.4603, gamma=0.0468, learning_rate=0.05,\n",
       "       max_delta_step=0, max_depth=3, min_child_weight=1.7817,\n",
       "       missing=None, n_estimators=2200, n_jobs=1, nthread=-1,\n",
       "       objective='reg:linear', random_state=7, reg_alpha=0.464,\n",
       "       reg_lambda=0.8571, scale_pos_weight=1, seed=None, silent=1,\n",
       "       subsample=0.5213)"
      ]
     },
     "execution_count": 76,
     "metadata": {},
     "output_type": "execute_result"
    }
   ],
   "source": [
    "estimator = xgb.XGBRegressor(colsample_bytree=0.4603, gamma=0.0468, \n",
    "                             learning_rate=0.05, max_depth=3, \n",
    "                             min_child_weight=1.7817, n_estimators=2200,\n",
    "                             reg_alpha=0.4640, reg_lambda=0.8571,\n",
    "                             subsample=0.5213, silent=1,\n",
    "                             random_state =7, nthread = -1)\n",
    "estimator.fit(X_train,y_train)"
   ]
  },
  {
   "cell_type": "code",
   "execution_count": 77,
   "metadata": {},
   "outputs": [
    {
     "data": {
      "text/plain": [
       "0.13219130869275977"
      ]
     },
     "execution_count": 77,
     "metadata": {},
     "output_type": "execute_result"
    }
   ],
   "source": [
    "y_pred = estimator.predict(X_test)\n",
    "rmse(y_pred,y_test)"
   ]
  },
  {
   "cell_type": "code",
   "execution_count": 78,
   "metadata": {},
   "outputs": [
    {
     "data": {
      "text/plain": [
       "KernelRidge(alpha=0.035448275862068966, coef0=7206.896551724138,\n",
       "      degree=1.0689655172413792, gamma=None, kernel='linear',\n",
       "      kernel_params=None)"
      ]
     },
     "execution_count": 78,
     "metadata": {},
     "output_type": "execute_result"
    }
   ],
   "source": [
    "estimator = KernelRidge(alpha=0.035448275862068966,\n",
    "                       degree=1.0689655172413792,\n",
    "                       coef0=7206.8965517241377)\n",
    "estimator.fit(X_train,y_train)"
   ]
  },
  {
   "cell_type": "code",
   "execution_count": null,
   "metadata": {
    "collapsed": true
   },
   "outputs": [],
   "source": [
    "# krr_BO = BayesianOptimization(krr_func, {'alpha':(0,10000), 'degree':(1,5), 'coef0':(0,10000)})\n",
    "# krr_BO.explore({'alpha':np.linspace(.001,1,30), 'degree':np.linspace(1,3,30), 'coef0':np.linspace(7200,7400,30)})\n",
    "# krr_BO.maximize(n_iter=30)\n",
    "# print(krr_BO.res['max'])\n",
    "\n",
    "#def gb_func(n_estimators, max_depth, max_features, min_samples_leaf):\n"
   ]
  },
  {
   "cell_type": "code",
   "execution_count": 155,
   "metadata": {
    "scrolled": true
   },
   "outputs": [
    {
     "name": "stdout",
     "output_type": "stream",
     "text": [
      "\u001b[31mInitialization\u001b[0m\n",
      "\u001b[94m--------------------------------------------------------------------------------------------------\u001b[0m\n",
      " Step |   Time |      Value |   max_depth |   max_features |   min_samples_leaf |   n_estimators | \n",
      "    1 | 00m00s | \u001b[35m   0.52206\u001b[0m | \u001b[32m     1.0000\u001b[0m | \u001b[32m        1.0000\u001b[0m | \u001b[32m            5.0000\u001b[0m | \u001b[32m      100.0000\u001b[0m | \n",
      "    2 | 00m00s | \u001b[35m   0.89277\u001b[0m | \u001b[32m     1.7368\u001b[0m | \u001b[32m        4.3684\u001b[0m | \u001b[32m            5.2632\u001b[0m | \u001b[32m      621.0526\u001b[0m | \n",
      "    3 | 00m01s | \u001b[35m   0.91637\u001b[0m | \u001b[32m     2.4737\u001b[0m | \u001b[32m        7.7368\u001b[0m | \u001b[32m            5.5263\u001b[0m | \u001b[32m     1142.1053\u001b[0m | \n",
      "    4 | 00m03s | \u001b[35m   0.92104\u001b[0m | \u001b[32m     3.2105\u001b[0m | \u001b[32m       11.1053\u001b[0m | \u001b[32m            5.7895\u001b[0m | \u001b[32m     1663.1579\u001b[0m | \n",
      "    5 | 00m05s |    0.91656 |      3.9474 |        14.4737 |             6.0526 |      2184.2105 | \n",
      "    6 | 00m11s |    0.91688 |      4.6842 |        17.8421 |             6.3158 |      2705.2632 | \n",
      "    7 | 00m17s |    0.91480 |      5.4211 |        21.2105 |             6.5789 |      3226.3158 | \n",
      "    8 | 00m16s |    0.91473 |      6.1579 |        24.5789 |             6.8421 |      3747.3684 | \n",
      "    9 | 00m19s |    0.91404 |      6.8947 |        27.9474 |             7.1053 |      4268.4211 | \n",
      "   10 | 00m19s |    0.91219 |      7.6316 |        31.3158 |             7.3684 |      4789.4737 | \n",
      "   11 | 00m20s |    0.91147 |      8.3684 |        34.6842 |             7.6316 |      5310.5263 | \n",
      "   12 | 00m23s |    0.90994 |      9.1053 |        38.0526 |             7.8947 |      5831.5789 | \n",
      "   13 | 00m27s |    0.91078 |      9.8421 |        41.4211 |             8.1579 |      6352.6316 | \n",
      "   14 | 00m29s |    0.91120 |     10.5789 |        44.7895 |             8.4211 |      6873.6842 | \n",
      "   15 | 00m32s |    0.90762 |     11.3158 |        48.1579 |             8.6842 |      7394.7368 | \n",
      "   16 | 00m35s |    0.90894 |     12.0526 |        51.5263 |             8.9474 |      7915.7895 | \n",
      "   17 | 00m39s |    0.91118 |     12.7895 |        54.8947 |             9.2105 |      8436.8421 | \n",
      "   18 | 00m43s |    0.90946 |     13.5263 |        58.2632 |             9.4737 |      8957.8947 | \n",
      "   19 | 00m45s |    0.90933 |     14.2632 |        61.6316 |             9.7368 |      9478.9474 | \n",
      "   20 | 00m53s |    0.90726 |     15.0000 |        65.0000 |            10.0000 |     10000.0000 | \n",
      "   21 | 00m05s |    0.90827 |      8.7372 |        55.1163 |             8.0302 |       261.8648 | \n",
      "   22 | 00m26s |    0.90877 |      8.7535 |        44.9510 |             7.8631 |      7775.6183 | \n",
      "   23 | 00m05s |    0.91575 |      3.5918 |        35.1104 |             8.9321 |      1249.4211 | \n",
      "   24 | 00m09s |    0.91395 |      2.3208 |        63.3330 |             5.8744 |      2163.6227 | \n",
      "   25 | 00m19s |    0.90324 |     13.3163 |        38.4868 |             5.5495 |      6983.1543 | \n",
      "\u001b[31mBayesian Optimization\u001b[0m\n",
      "\u001b[94m--------------------------------------------------------------------------------------------------\u001b[0m\n",
      " Step |   Time |      Value |   max_depth |   max_features |   min_samples_leaf |   n_estimators | \n",
      "   26 | 00m37s |    0.90721 |     15.0000 |        65.0000 |             7.8624 |       828.2239 | \n",
      "   27 | 00m14s |    0.90414 |      1.0000 |         1.0000 |             5.0000 |      9770.8413 | \n",
      "   28 | 00m08s |    0.90472 |      1.0000 |        65.0000 |             5.0000 |       467.1192 | \n",
      "   29 | 00m16s |    0.90381 |      1.0000 |         1.0000 |             5.0000 |      9223.8295 | \n",
      "   30 | 00m15s |    0.90478 |      1.0000 |         1.0000 |            10.0000 |      8696.6575 | \n",
      "   31 | 00m58s |    0.90726 |     15.0000 |        65.0000 |            10.0000 |      3486.5141 | \n",
      "   32 | 00m58s |    0.90726 |     15.0000 |        65.0000 |            10.0000 |      4001.1136 | \n",
      "   33 | 00m19s |    0.89300 |     12.0850 |         1.1316 |             5.1199 |      6599.3500 | \n",
      "   34 | 00m57s |    0.90726 |     15.0000 |        65.0000 |            10.0000 |      2960.2213 | \n",
      "   35 | 00m14s |    0.90497 |      1.5792 |         1.1586 |             8.1916 |      8192.5907 | \n",
      "   36 | 00m16s |    0.90166 |     15.0000 |         1.0000 |            10.0000 |      5051.8925 | \n",
      "   37 | 00m56s |    0.90726 |     15.0000 |        65.0000 |            10.0000 |      2442.1683 | \n",
      "   38 | 00m17s |    0.90087 |     14.3663 |         1.0671 |             8.6157 |      5560.1255 | \n",
      "   39 | 00m12s |    0.90838 |      2.2904 |         1.1840 |             8.7595 |      6110.9220 | \n",
      "   40 | 00m44s |    0.90396 |     13.5902 |        64.5999 |             7.4086 |      4515.5693 | \n",
      "   41 | 00m50s |    0.90812 |     14.6512 |        64.5347 |             9.8539 |      1873.1056 | \n",
      "   42 | 00m09s |    0.89287 |     14.5330 |         1.0186 |             5.9455 |      1426.6862 | \n",
      "   43 | 00m16s |    0.91641 |      1.4937 |        64.6866 |             7.6103 |      4992.6058 | \n",
      "   44 | 00m21s |    0.90150 |     15.0000 |         1.0000 |            10.0000 |     10000.0000 | \n",
      "   45 | 00m08s |    0.91096 |     14.8197 |         6.4859 |             9.4869 |       392.2110 | \n",
      "   46 | 00m43s |    0.90493 |     14.8963 |        63.8448 |             7.3954 |      6070.1483 | \n",
      "   47 | 00m13s |    0.89285 |     14.8223 |         1.8975 |             5.7550 |      4054.1118 | \n",
      "   48 | 00m18s |    0.90116 |     13.1914 |         1.0347 |             8.5046 |      7539.6880 | \n",
      "   49 | 00m08s |    0.89555 |      1.9398 |         1.6888 |             8.7627 |      2982.6313 | \n",
      "   50 | 00m19s |    0.91626 |      1.5088 |        64.7685 |             8.7006 |      6584.9789 | \n",
      "   51 | 00m13s |    0.91635 |      2.1459 |        64.8506 |             9.3975 |      1602.0968 | \n",
      "   52 | 00m17s |    0.91627 |      1.4697 |        64.1640 |             7.8876 |      5547.8243 | \n",
      "   53 | 00m22s |    0.91556 |      1.0109 |        63.9726 |             8.1509 |      8187.5167 | \n",
      "   54 | 00m19s |    0.90769 |     14.9783 |        64.8233 |             8.6929 |       368.7895 | \n",
      "   55 | 00m08s |    0.91350 |      1.1085 |        64.0717 |             8.6063 |      1011.0363 | \n",
      "{'max_val': 0.92104461877939359, 'max_params': {'n_estimators': 1663.1578947368421, 'max_depth': 3.2105263157894735, 'max_features': 11.105263157894736, 'min_samples_leaf': 5.7894736842105265}}\n"
     ]
    }
   ],
   "source": [
    "gb_BO = BayesianOptimization(gb_func, {'n_estimators': (100, 10000),\n",
    "    'max_depth': (1,15),\n",
    "    \"max_features\": (1,65),\n",
    "    'min_samples_leaf': (5,10)})\n",
    "gb_BO.explore({'n_estimators': np.linspace(100, 10000,20),\n",
    "    'max_depth': np.linspace(1,15,20),\n",
    "    \"max_features\": np.linspace(1,65,20),\n",
    "    'min_samples_leaf': np.linspace(5,10,20)})\n",
    "gb_BO.maximize(n_iter= 30)\n",
    "print(gb_BO.res['max'])"
   ]
  },
  {
   "cell_type": "code",
   "execution_count": 157,
   "metadata": {
    "scrolled": true
   },
   "outputs": [
    {
     "data": {
      "text/plain": [
       "GradientBoostingRegressor(alpha=0.9, criterion='friedman_mse', init=None,\n",
       "             learning_rate=0.1, loss='ls', max_depth=3, max_features=11,\n",
       "             max_leaf_nodes=None, min_impurity_decrease=0.0,\n",
       "             min_impurity_split=None, min_samples_leaf=6,\n",
       "             min_samples_split=2, min_weight_fraction_leaf=0.0,\n",
       "             n_estimators=1663, presort='auto', random_state=None,\n",
       "             subsample=1.0, verbose=0, warm_start=False)"
      ]
     },
     "execution_count": 157,
     "metadata": {},
     "output_type": "execute_result"
    }
   ],
   "source": [
    "estimator = GradientBoostingRegressor(n_estimators=1663,\n",
    "                       max_depth=3,\n",
    "                       max_features=11,\n",
    "                       min_samples_leaf=6)\n",
    "estimator.fit(X_train,y_train)\n",
    "# {'n_estimators': 1663.1578947368421, \n",
    "# 'max_depth': 3.2105263157894735, \n",
    "#     'max_features': 11.105263157894736, \n",
    "#         'min_samples_leaf': 5.7894736842105265"
   ]
  },
  {
   "cell_type": "code",
   "execution_count": 158,
   "metadata": {},
   "outputs": [
    {
     "data": {
      "text/plain": [
       "0.1401629603742043"
      ]
     },
     "execution_count": 158,
     "metadata": {},
     "output_type": "execute_result"
    }
   ],
   "source": [
    "y_pred = estimator.predict(X_test)\n",
    "rmse(y_pred,y_test)"
   ]
  },
  {
   "cell_type": "code",
   "execution_count": 159,
   "metadata": {},
   "outputs": [
    {
     "data": {
      "text/plain": [
       "0.11204192139475629"
      ]
     },
     "execution_count": 159,
     "metadata": {},
     "output_type": "execute_result"
    }
   ],
   "source": [
    "rmse_cv(GradientBoostingRegressor(n_estimators=1663,\n",
    "                       max_depth=3,\n",
    "                       max_features=11,\n",
    "                       min_samples_leaf=6)).mean()"
   ]
  },
  {
   "cell_type": "code",
   "execution_count": 153,
   "metadata": {},
   "outputs": [
    {
     "name": "stdout",
     "output_type": "stream",
     "text": [
      "\u001b[31mInitialization\u001b[0m\n",
      "\u001b[94m--------------------------------------------------------------------\u001b[0m\n",
      " Step |   Time |      Value |         C |   cache_size |     gamma | \n",
      "    1 | 00m00s | \u001b[35m   0.04931\u001b[0m | \u001b[32m   0.0010\u001b[0m | \u001b[32m   1000.0000\u001b[0m | \u001b[32m   0.0000\u001b[0m | \n",
      "    2 | 00m00s |   -0.00318 |    2.4148 |    1034.4828 |    3.4483 | \n",
      "    3 | 00m00s |   -0.00318 |    4.8285 |    1068.9655 |    6.8966 | \n",
      "    4 | 00m00s |   -0.00318 |    7.2423 |    1103.4483 |   10.3448 | \n",
      "    5 | 00m00s |   -0.00318 |    9.6560 |    1137.9310 |   13.7931 | \n",
      "    6 | 00m00s |   -0.00318 |   12.0698 |    1172.4138 |   17.2414 | \n",
      "    7 | 00m00s |   -0.00318 |   14.4836 |    1206.8966 |   20.6897 | \n",
      "    8 | 00m00s |   -0.00318 |   16.8973 |    1241.3793 |   24.1379 | \n",
      "    9 | 00m00s |   -0.00318 |   19.3111 |    1275.8621 |   27.5862 | \n",
      "   10 | 00m00s |   -0.00318 |   21.7248 |    1310.3448 |   31.0345 | \n",
      "   11 | 00m00s |   -0.00318 |   24.1386 |    1344.8276 |   34.4828 | \n",
      "   12 | 00m00s |   -0.00318 |   26.5523 |    1379.3103 |   37.9310 | \n",
      "   13 | 00m00s |   -0.00318 |   28.9661 |    1413.7931 |   41.3793 | \n",
      "   14 | 00m00s |   -0.00318 |   31.3799 |    1448.2759 |   44.8276 | \n",
      "   15 | 00m00s |   -0.00318 |   33.7936 |    1482.7586 |   48.2759 | \n",
      "   16 | 00m00s |   -0.00318 |   36.2074 |    1517.2414 |   51.7241 | \n",
      "   17 | 00m00s |   -0.00318 |   38.6211 |    1551.7241 |   55.1724 | \n",
      "   18 | 00m00s |   -0.00318 |   41.0349 |    1586.2069 |   58.6207 | \n",
      "   19 | 00m00s |   -0.00318 |   43.4487 |    1620.6897 |   62.0690 | \n",
      "   20 | 00m00s |   -0.00318 |   45.8624 |    1655.1724 |   65.5172 | \n",
      "   21 | 00m00s |   -0.00318 |   48.2762 |    1689.6552 |   68.9655 | \n",
      "   22 | 00m00s |   -0.00318 |   50.6899 |    1724.1379 |   72.4138 | \n",
      "   23 | 00m00s |   -0.00318 |   53.1037 |    1758.6207 |   75.8621 | \n",
      "   24 | 00m00s |   -0.00318 |   55.5174 |    1793.1034 |   79.3103 | \n",
      "   25 | 00m00s |   -0.00318 |   57.9312 |    1827.5862 |   82.7586 | \n",
      "   26 | 00m00s |   -0.00318 |   60.3450 |    1862.0690 |   86.2069 | \n"
     ]
    },
    {
     "ename": "KeyboardInterrupt",
     "evalue": "",
     "output_type": "error",
     "traceback": [
      "\u001b[1;31m---------------------------------------------------------------------------\u001b[0m",
      "\u001b[1;31mKeyboardInterrupt\u001b[0m                         Traceback (most recent call last)",
      "\u001b[1;32m<ipython-input-153-2c85b53bb990>\u001b[0m in \u001b[0;36m<module>\u001b[1;34m()\u001b[0m\n\u001b[0;32m      5\u001b[0m                 \u001b[1;34m'gamma'\u001b[0m\u001b[1;33m:\u001b[0m\u001b[0mnp\u001b[0m\u001b[1;33m.\u001b[0m\u001b[0mlinspace\u001b[0m\u001b[1;33m(\u001b[0m\u001b[1;36m.00002\u001b[0m\u001b[1;33m,\u001b[0m\u001b[1;36m100\u001b[0m\u001b[1;33m,\u001b[0m\u001b[1;36m30\u001b[0m\u001b[1;33m)\u001b[0m\u001b[1;33m,\u001b[0m\u001b[1;33m\u001b[0m\u001b[0m\n\u001b[0;32m      6\u001b[0m                 'cache_size': np.linspace(1000,2000,30)})\n\u001b[1;32m----> 7\u001b[1;33m \u001b[0msvr_BO\u001b[0m\u001b[1;33m.\u001b[0m\u001b[0mmaximize\u001b[0m\u001b[1;33m(\u001b[0m\u001b[0mn_iter\u001b[0m\u001b[1;33m=\u001b[0m\u001b[1;36m30\u001b[0m\u001b[1;33m)\u001b[0m\u001b[1;33m\u001b[0m\u001b[0m\n\u001b[0m\u001b[0;32m      8\u001b[0m \u001b[0mprint\u001b[0m\u001b[1;33m(\u001b[0m\u001b[0msvr_BO\u001b[0m\u001b[1;33m.\u001b[0m\u001b[0mres\u001b[0m\u001b[1;33m[\u001b[0m\u001b[1;34m'max'\u001b[0m\u001b[1;33m]\u001b[0m\u001b[1;33m)\u001b[0m\u001b[1;33m\u001b[0m\u001b[0m\n",
      "\u001b[1;32m~\\Anaconda3\\lib\\site-packages\\bayes_opt\\bayesian_optimization.py\u001b[0m in \u001b[0;36mmaximize\u001b[1;34m(self, init_points, n_iter, acq, kappa, xi, **gp_params)\u001b[0m\n\u001b[0;32m    241\u001b[0m             \u001b[1;32mif\u001b[0m \u001b[0mself\u001b[0m\u001b[1;33m.\u001b[0m\u001b[0mverbose\u001b[0m\u001b[1;33m:\u001b[0m\u001b[1;33m\u001b[0m\u001b[0m\n\u001b[0;32m    242\u001b[0m                 \u001b[0mself\u001b[0m\u001b[1;33m.\u001b[0m\u001b[0mplog\u001b[0m\u001b[1;33m.\u001b[0m\u001b[0mprint_header\u001b[0m\u001b[1;33m(\u001b[0m\u001b[1;33m)\u001b[0m\u001b[1;33m\u001b[0m\u001b[0m\n\u001b[1;32m--> 243\u001b[1;33m             \u001b[0mself\u001b[0m\u001b[1;33m.\u001b[0m\u001b[0minit\u001b[0m\u001b[1;33m(\u001b[0m\u001b[0minit_points\u001b[0m\u001b[1;33m)\u001b[0m\u001b[1;33m\u001b[0m\u001b[0m\n\u001b[0m\u001b[0;32m    244\u001b[0m \u001b[1;33m\u001b[0m\u001b[0m\n\u001b[0;32m    245\u001b[0m         \u001b[0my_max\u001b[0m \u001b[1;33m=\u001b[0m \u001b[0mself\u001b[0m\u001b[1;33m.\u001b[0m\u001b[0mspace\u001b[0m\u001b[1;33m.\u001b[0m\u001b[0mY\u001b[0m\u001b[1;33m.\u001b[0m\u001b[0mmax\u001b[0m\u001b[1;33m(\u001b[0m\u001b[1;33m)\u001b[0m\u001b[1;33m\u001b[0m\u001b[0m\n",
      "\u001b[1;32m~\\Anaconda3\\lib\\site-packages\\bayes_opt\\bayesian_optimization.py\u001b[0m in \u001b[0;36minit\u001b[1;34m(self, init_points)\u001b[0m\n\u001b[0;32m     87\u001b[0m         \u001b[1;31m# Evaluate target function at all initialization points\u001b[0m\u001b[1;33m\u001b[0m\u001b[1;33m\u001b[0m\u001b[0m\n\u001b[0;32m     88\u001b[0m         \u001b[1;32mfor\u001b[0m \u001b[0mx\u001b[0m \u001b[1;32min\u001b[0m \u001b[0mself\u001b[0m\u001b[1;33m.\u001b[0m\u001b[0minit_points\u001b[0m\u001b[1;33m:\u001b[0m\u001b[1;33m\u001b[0m\u001b[0m\n\u001b[1;32m---> 89\u001b[1;33m             \u001b[0my\u001b[0m \u001b[1;33m=\u001b[0m \u001b[0mself\u001b[0m\u001b[1;33m.\u001b[0m\u001b[0m_observe_point\u001b[0m\u001b[1;33m(\u001b[0m\u001b[0mx\u001b[0m\u001b[1;33m)\u001b[0m\u001b[1;33m\u001b[0m\u001b[0m\n\u001b[0m\u001b[0;32m     90\u001b[0m \u001b[1;33m\u001b[0m\u001b[0m\n\u001b[0;32m     91\u001b[0m         \u001b[1;31m# Add the points from `self.initialize` to the observations\u001b[0m\u001b[1;33m\u001b[0m\u001b[1;33m\u001b[0m\u001b[0m\n",
      "\u001b[1;32m~\\Anaconda3\\lib\\site-packages\\bayes_opt\\bayesian_optimization.py\u001b[0m in \u001b[0;36m_observe_point\u001b[1;34m(self, x)\u001b[0m\n\u001b[0;32m    102\u001b[0m \u001b[1;33m\u001b[0m\u001b[0m\n\u001b[0;32m    103\u001b[0m     \u001b[1;32mdef\u001b[0m \u001b[0m_observe_point\u001b[0m\u001b[1;33m(\u001b[0m\u001b[0mself\u001b[0m\u001b[1;33m,\u001b[0m \u001b[0mx\u001b[0m\u001b[1;33m)\u001b[0m\u001b[1;33m:\u001b[0m\u001b[1;33m\u001b[0m\u001b[0m\n\u001b[1;32m--> 104\u001b[1;33m         \u001b[0my\u001b[0m \u001b[1;33m=\u001b[0m \u001b[0mself\u001b[0m\u001b[1;33m.\u001b[0m\u001b[0mspace\u001b[0m\u001b[1;33m.\u001b[0m\u001b[0mobserve_point\u001b[0m\u001b[1;33m(\u001b[0m\u001b[0mx\u001b[0m\u001b[1;33m)\u001b[0m\u001b[1;33m\u001b[0m\u001b[0m\n\u001b[0m\u001b[0;32m    105\u001b[0m         \u001b[1;32mif\u001b[0m \u001b[0mself\u001b[0m\u001b[1;33m.\u001b[0m\u001b[0mverbose\u001b[0m\u001b[1;33m:\u001b[0m\u001b[1;33m\u001b[0m\u001b[0m\n\u001b[0;32m    106\u001b[0m             \u001b[0mself\u001b[0m\u001b[1;33m.\u001b[0m\u001b[0mplog\u001b[0m\u001b[1;33m.\u001b[0m\u001b[0mprint_step\u001b[0m\u001b[1;33m(\u001b[0m\u001b[0mx\u001b[0m\u001b[1;33m,\u001b[0m \u001b[0my\u001b[0m\u001b[1;33m)\u001b[0m\u001b[1;33m\u001b[0m\u001b[0m\n",
      "\u001b[1;32m~\\Anaconda3\\lib\\site-packages\\bayes_opt\\target_space.py\u001b[0m in \u001b[0;36mobserve_point\u001b[1;34m(self, x)\u001b[0m\n\u001b[0;32m    137\u001b[0m             \u001b[1;31m# measure the target function\u001b[0m\u001b[1;33m\u001b[0m\u001b[1;33m\u001b[0m\u001b[0m\n\u001b[0;32m    138\u001b[0m             \u001b[0mparams\u001b[0m \u001b[1;33m=\u001b[0m \u001b[0mdict\u001b[0m\u001b[1;33m(\u001b[0m\u001b[0mzip\u001b[0m\u001b[1;33m(\u001b[0m\u001b[0mself\u001b[0m\u001b[1;33m.\u001b[0m\u001b[0mkeys\u001b[0m\u001b[1;33m,\u001b[0m \u001b[0mx\u001b[0m\u001b[1;33m)\u001b[0m\u001b[1;33m)\u001b[0m\u001b[1;33m\u001b[0m\u001b[0m\n\u001b[1;32m--> 139\u001b[1;33m             \u001b[0my\u001b[0m \u001b[1;33m=\u001b[0m \u001b[0mself\u001b[0m\u001b[1;33m.\u001b[0m\u001b[0mtarget_func\u001b[0m\u001b[1;33m(\u001b[0m\u001b[1;33m**\u001b[0m\u001b[0mparams\u001b[0m\u001b[1;33m)\u001b[0m\u001b[1;33m\u001b[0m\u001b[0m\n\u001b[0m\u001b[0;32m    140\u001b[0m             \u001b[0mself\u001b[0m\u001b[1;33m.\u001b[0m\u001b[0madd_observation\u001b[0m\u001b[1;33m(\u001b[0m\u001b[0mx\u001b[0m\u001b[1;33m,\u001b[0m \u001b[0my\u001b[0m\u001b[1;33m)\u001b[0m\u001b[1;33m\u001b[0m\u001b[0m\n\u001b[0;32m    141\u001b[0m         \u001b[1;32mreturn\u001b[0m \u001b[0my\u001b[0m\u001b[1;33m\u001b[0m\u001b[0m\n",
      "\u001b[1;32m<ipython-input-152-917df57dac7b>\u001b[0m in \u001b[0;36msvr_func\u001b[1;34m(C, gamma, cache_size)\u001b[0m\n\u001b[0;32m      1\u001b[0m \u001b[1;32mdef\u001b[0m \u001b[0msvr_func\u001b[0m\u001b[1;33m(\u001b[0m\u001b[0mC\u001b[0m\u001b[1;33m,\u001b[0m \u001b[0mgamma\u001b[0m\u001b[1;33m,\u001b[0m \u001b[0mcache_size\u001b[0m\u001b[1;33m)\u001b[0m\u001b[1;33m:\u001b[0m\u001b[1;33m\u001b[0m\u001b[0m\n\u001b[0;32m      2\u001b[0m     val = cross_val_score(SVR(C=C, gamma=gamma, cache_size=cache_size, max_iter=-1),\n\u001b[1;32m----> 3\u001b[1;33m                          X_train, y_train, cv=5).mean()\n\u001b[0m\u001b[0;32m      4\u001b[0m     \u001b[1;32mreturn\u001b[0m \u001b[0mval\u001b[0m\u001b[1;33m\u001b[0m\u001b[0m\n",
      "\u001b[1;32m~\\Anaconda3\\lib\\site-packages\\sklearn\\model_selection\\_validation.py\u001b[0m in \u001b[0;36mcross_val_score\u001b[1;34m(estimator, X, y, groups, scoring, cv, n_jobs, verbose, fit_params, pre_dispatch)\u001b[0m\n\u001b[0;32m    340\u001b[0m                                 \u001b[0mn_jobs\u001b[0m\u001b[1;33m=\u001b[0m\u001b[0mn_jobs\u001b[0m\u001b[1;33m,\u001b[0m \u001b[0mverbose\u001b[0m\u001b[1;33m=\u001b[0m\u001b[0mverbose\u001b[0m\u001b[1;33m,\u001b[0m\u001b[1;33m\u001b[0m\u001b[0m\n\u001b[0;32m    341\u001b[0m                                 \u001b[0mfit_params\u001b[0m\u001b[1;33m=\u001b[0m\u001b[0mfit_params\u001b[0m\u001b[1;33m,\u001b[0m\u001b[1;33m\u001b[0m\u001b[0m\n\u001b[1;32m--> 342\u001b[1;33m                                 pre_dispatch=pre_dispatch)\n\u001b[0m\u001b[0;32m    343\u001b[0m     \u001b[1;32mreturn\u001b[0m \u001b[0mcv_results\u001b[0m\u001b[1;33m[\u001b[0m\u001b[1;34m'test_score'\u001b[0m\u001b[1;33m]\u001b[0m\u001b[1;33m\u001b[0m\u001b[0m\n\u001b[0;32m    344\u001b[0m \u001b[1;33m\u001b[0m\u001b[0m\n",
      "\u001b[1;32m~\\Anaconda3\\lib\\site-packages\\sklearn\\model_selection\\_validation.py\u001b[0m in \u001b[0;36mcross_validate\u001b[1;34m(estimator, X, y, groups, scoring, cv, n_jobs, verbose, fit_params, pre_dispatch, return_train_score)\u001b[0m\n\u001b[0;32m    204\u001b[0m             \u001b[0mfit_params\u001b[0m\u001b[1;33m,\u001b[0m \u001b[0mreturn_train_score\u001b[0m\u001b[1;33m=\u001b[0m\u001b[0mreturn_train_score\u001b[0m\u001b[1;33m,\u001b[0m\u001b[1;33m\u001b[0m\u001b[0m\n\u001b[0;32m    205\u001b[0m             return_times=True)\n\u001b[1;32m--> 206\u001b[1;33m         for train, test in cv.split(X, y, groups))\n\u001b[0m\u001b[0;32m    207\u001b[0m \u001b[1;33m\u001b[0m\u001b[0m\n\u001b[0;32m    208\u001b[0m     \u001b[1;32mif\u001b[0m \u001b[0mreturn_train_score\u001b[0m\u001b[1;33m:\u001b[0m\u001b[1;33m\u001b[0m\u001b[0m\n",
      "\u001b[1;32m~\\Anaconda3\\lib\\site-packages\\sklearn\\externals\\joblib\\parallel.py\u001b[0m in \u001b[0;36m__call__\u001b[1;34m(self, iterable)\u001b[0m\n\u001b[0;32m    777\u001b[0m             \u001b[1;31m# was dispatched. In particular this covers the edge\u001b[0m\u001b[1;33m\u001b[0m\u001b[1;33m\u001b[0m\u001b[0m\n\u001b[0;32m    778\u001b[0m             \u001b[1;31m# case of Parallel used with an exhausted iterator.\u001b[0m\u001b[1;33m\u001b[0m\u001b[1;33m\u001b[0m\u001b[0m\n\u001b[1;32m--> 779\u001b[1;33m             \u001b[1;32mwhile\u001b[0m \u001b[0mself\u001b[0m\u001b[1;33m.\u001b[0m\u001b[0mdispatch_one_batch\u001b[0m\u001b[1;33m(\u001b[0m\u001b[0miterator\u001b[0m\u001b[1;33m)\u001b[0m\u001b[1;33m:\u001b[0m\u001b[1;33m\u001b[0m\u001b[0m\n\u001b[0m\u001b[0;32m    780\u001b[0m                 \u001b[0mself\u001b[0m\u001b[1;33m.\u001b[0m\u001b[0m_iterating\u001b[0m \u001b[1;33m=\u001b[0m \u001b[1;32mTrue\u001b[0m\u001b[1;33m\u001b[0m\u001b[0m\n\u001b[0;32m    781\u001b[0m             \u001b[1;32melse\u001b[0m\u001b[1;33m:\u001b[0m\u001b[1;33m\u001b[0m\u001b[0m\n",
      "\u001b[1;32m~\\Anaconda3\\lib\\site-packages\\sklearn\\externals\\joblib\\parallel.py\u001b[0m in \u001b[0;36mdispatch_one_batch\u001b[1;34m(self, iterator)\u001b[0m\n\u001b[0;32m    623\u001b[0m                 \u001b[1;32mreturn\u001b[0m \u001b[1;32mFalse\u001b[0m\u001b[1;33m\u001b[0m\u001b[0m\n\u001b[0;32m    624\u001b[0m             \u001b[1;32melse\u001b[0m\u001b[1;33m:\u001b[0m\u001b[1;33m\u001b[0m\u001b[0m\n\u001b[1;32m--> 625\u001b[1;33m                 \u001b[0mself\u001b[0m\u001b[1;33m.\u001b[0m\u001b[0m_dispatch\u001b[0m\u001b[1;33m(\u001b[0m\u001b[0mtasks\u001b[0m\u001b[1;33m)\u001b[0m\u001b[1;33m\u001b[0m\u001b[0m\n\u001b[0m\u001b[0;32m    626\u001b[0m                 \u001b[1;32mreturn\u001b[0m \u001b[1;32mTrue\u001b[0m\u001b[1;33m\u001b[0m\u001b[0m\n\u001b[0;32m    627\u001b[0m \u001b[1;33m\u001b[0m\u001b[0m\n",
      "\u001b[1;32m~\\Anaconda3\\lib\\site-packages\\sklearn\\externals\\joblib\\parallel.py\u001b[0m in \u001b[0;36m_dispatch\u001b[1;34m(self, batch)\u001b[0m\n\u001b[0;32m    586\u001b[0m         \u001b[0mdispatch_timestamp\u001b[0m \u001b[1;33m=\u001b[0m \u001b[0mtime\u001b[0m\u001b[1;33m.\u001b[0m\u001b[0mtime\u001b[0m\u001b[1;33m(\u001b[0m\u001b[1;33m)\u001b[0m\u001b[1;33m\u001b[0m\u001b[0m\n\u001b[0;32m    587\u001b[0m         \u001b[0mcb\u001b[0m \u001b[1;33m=\u001b[0m \u001b[0mBatchCompletionCallBack\u001b[0m\u001b[1;33m(\u001b[0m\u001b[0mdispatch_timestamp\u001b[0m\u001b[1;33m,\u001b[0m \u001b[0mlen\u001b[0m\u001b[1;33m(\u001b[0m\u001b[0mbatch\u001b[0m\u001b[1;33m)\u001b[0m\u001b[1;33m,\u001b[0m \u001b[0mself\u001b[0m\u001b[1;33m)\u001b[0m\u001b[1;33m\u001b[0m\u001b[0m\n\u001b[1;32m--> 588\u001b[1;33m         \u001b[0mjob\u001b[0m \u001b[1;33m=\u001b[0m \u001b[0mself\u001b[0m\u001b[1;33m.\u001b[0m\u001b[0m_backend\u001b[0m\u001b[1;33m.\u001b[0m\u001b[0mapply_async\u001b[0m\u001b[1;33m(\u001b[0m\u001b[0mbatch\u001b[0m\u001b[1;33m,\u001b[0m \u001b[0mcallback\u001b[0m\u001b[1;33m=\u001b[0m\u001b[0mcb\u001b[0m\u001b[1;33m)\u001b[0m\u001b[1;33m\u001b[0m\u001b[0m\n\u001b[0m\u001b[0;32m    589\u001b[0m         \u001b[0mself\u001b[0m\u001b[1;33m.\u001b[0m\u001b[0m_jobs\u001b[0m\u001b[1;33m.\u001b[0m\u001b[0mappend\u001b[0m\u001b[1;33m(\u001b[0m\u001b[0mjob\u001b[0m\u001b[1;33m)\u001b[0m\u001b[1;33m\u001b[0m\u001b[0m\n\u001b[0;32m    590\u001b[0m \u001b[1;33m\u001b[0m\u001b[0m\n",
      "\u001b[1;32m~\\Anaconda3\\lib\\site-packages\\sklearn\\externals\\joblib\\_parallel_backends.py\u001b[0m in \u001b[0;36mapply_async\u001b[1;34m(self, func, callback)\u001b[0m\n\u001b[0;32m    109\u001b[0m     \u001b[1;32mdef\u001b[0m \u001b[0mapply_async\u001b[0m\u001b[1;33m(\u001b[0m\u001b[0mself\u001b[0m\u001b[1;33m,\u001b[0m \u001b[0mfunc\u001b[0m\u001b[1;33m,\u001b[0m \u001b[0mcallback\u001b[0m\u001b[1;33m=\u001b[0m\u001b[1;32mNone\u001b[0m\u001b[1;33m)\u001b[0m\u001b[1;33m:\u001b[0m\u001b[1;33m\u001b[0m\u001b[0m\n\u001b[0;32m    110\u001b[0m         \u001b[1;34m\"\"\"Schedule a func to be run\"\"\"\u001b[0m\u001b[1;33m\u001b[0m\u001b[0m\n\u001b[1;32m--> 111\u001b[1;33m         \u001b[0mresult\u001b[0m \u001b[1;33m=\u001b[0m \u001b[0mImmediateResult\u001b[0m\u001b[1;33m(\u001b[0m\u001b[0mfunc\u001b[0m\u001b[1;33m)\u001b[0m\u001b[1;33m\u001b[0m\u001b[0m\n\u001b[0m\u001b[0;32m    112\u001b[0m         \u001b[1;32mif\u001b[0m \u001b[0mcallback\u001b[0m\u001b[1;33m:\u001b[0m\u001b[1;33m\u001b[0m\u001b[0m\n\u001b[0;32m    113\u001b[0m             \u001b[0mcallback\u001b[0m\u001b[1;33m(\u001b[0m\u001b[0mresult\u001b[0m\u001b[1;33m)\u001b[0m\u001b[1;33m\u001b[0m\u001b[0m\n",
      "\u001b[1;32m~\\Anaconda3\\lib\\site-packages\\sklearn\\externals\\joblib\\_parallel_backends.py\u001b[0m in \u001b[0;36m__init__\u001b[1;34m(self, batch)\u001b[0m\n\u001b[0;32m    330\u001b[0m         \u001b[1;31m# Don't delay the application, to avoid keeping the input\u001b[0m\u001b[1;33m\u001b[0m\u001b[1;33m\u001b[0m\u001b[0m\n\u001b[0;32m    331\u001b[0m         \u001b[1;31m# arguments in memory\u001b[0m\u001b[1;33m\u001b[0m\u001b[1;33m\u001b[0m\u001b[0m\n\u001b[1;32m--> 332\u001b[1;33m         \u001b[0mself\u001b[0m\u001b[1;33m.\u001b[0m\u001b[0mresults\u001b[0m \u001b[1;33m=\u001b[0m \u001b[0mbatch\u001b[0m\u001b[1;33m(\u001b[0m\u001b[1;33m)\u001b[0m\u001b[1;33m\u001b[0m\u001b[0m\n\u001b[0m\u001b[0;32m    333\u001b[0m \u001b[1;33m\u001b[0m\u001b[0m\n\u001b[0;32m    334\u001b[0m     \u001b[1;32mdef\u001b[0m \u001b[0mget\u001b[0m\u001b[1;33m(\u001b[0m\u001b[0mself\u001b[0m\u001b[1;33m)\u001b[0m\u001b[1;33m:\u001b[0m\u001b[1;33m\u001b[0m\u001b[0m\n",
      "\u001b[1;32m~\\Anaconda3\\lib\\site-packages\\sklearn\\externals\\joblib\\parallel.py\u001b[0m in \u001b[0;36m__call__\u001b[1;34m(self)\u001b[0m\n\u001b[0;32m    129\u001b[0m \u001b[1;33m\u001b[0m\u001b[0m\n\u001b[0;32m    130\u001b[0m     \u001b[1;32mdef\u001b[0m \u001b[0m__call__\u001b[0m\u001b[1;33m(\u001b[0m\u001b[0mself\u001b[0m\u001b[1;33m)\u001b[0m\u001b[1;33m:\u001b[0m\u001b[1;33m\u001b[0m\u001b[0m\n\u001b[1;32m--> 131\u001b[1;33m         \u001b[1;32mreturn\u001b[0m \u001b[1;33m[\u001b[0m\u001b[0mfunc\u001b[0m\u001b[1;33m(\u001b[0m\u001b[1;33m*\u001b[0m\u001b[0margs\u001b[0m\u001b[1;33m,\u001b[0m \u001b[1;33m**\u001b[0m\u001b[0mkwargs\u001b[0m\u001b[1;33m)\u001b[0m \u001b[1;32mfor\u001b[0m \u001b[0mfunc\u001b[0m\u001b[1;33m,\u001b[0m \u001b[0margs\u001b[0m\u001b[1;33m,\u001b[0m \u001b[0mkwargs\u001b[0m \u001b[1;32min\u001b[0m \u001b[0mself\u001b[0m\u001b[1;33m.\u001b[0m\u001b[0mitems\u001b[0m\u001b[1;33m]\u001b[0m\u001b[1;33m\u001b[0m\u001b[0m\n\u001b[0m\u001b[0;32m    132\u001b[0m \u001b[1;33m\u001b[0m\u001b[0m\n\u001b[0;32m    133\u001b[0m     \u001b[1;32mdef\u001b[0m \u001b[0m__len__\u001b[0m\u001b[1;33m(\u001b[0m\u001b[0mself\u001b[0m\u001b[1;33m)\u001b[0m\u001b[1;33m:\u001b[0m\u001b[1;33m\u001b[0m\u001b[0m\n",
      "\u001b[1;32m~\\Anaconda3\\lib\\site-packages\\sklearn\\externals\\joblib\\parallel.py\u001b[0m in \u001b[0;36m<listcomp>\u001b[1;34m(.0)\u001b[0m\n\u001b[0;32m    129\u001b[0m \u001b[1;33m\u001b[0m\u001b[0m\n\u001b[0;32m    130\u001b[0m     \u001b[1;32mdef\u001b[0m \u001b[0m__call__\u001b[0m\u001b[1;33m(\u001b[0m\u001b[0mself\u001b[0m\u001b[1;33m)\u001b[0m\u001b[1;33m:\u001b[0m\u001b[1;33m\u001b[0m\u001b[0m\n\u001b[1;32m--> 131\u001b[1;33m         \u001b[1;32mreturn\u001b[0m \u001b[1;33m[\u001b[0m\u001b[0mfunc\u001b[0m\u001b[1;33m(\u001b[0m\u001b[1;33m*\u001b[0m\u001b[0margs\u001b[0m\u001b[1;33m,\u001b[0m \u001b[1;33m**\u001b[0m\u001b[0mkwargs\u001b[0m\u001b[1;33m)\u001b[0m \u001b[1;32mfor\u001b[0m \u001b[0mfunc\u001b[0m\u001b[1;33m,\u001b[0m \u001b[0margs\u001b[0m\u001b[1;33m,\u001b[0m \u001b[0mkwargs\u001b[0m \u001b[1;32min\u001b[0m \u001b[0mself\u001b[0m\u001b[1;33m.\u001b[0m\u001b[0mitems\u001b[0m\u001b[1;33m]\u001b[0m\u001b[1;33m\u001b[0m\u001b[0m\n\u001b[0m\u001b[0;32m    132\u001b[0m \u001b[1;33m\u001b[0m\u001b[0m\n\u001b[0;32m    133\u001b[0m     \u001b[1;32mdef\u001b[0m \u001b[0m__len__\u001b[0m\u001b[1;33m(\u001b[0m\u001b[0mself\u001b[0m\u001b[1;33m)\u001b[0m\u001b[1;33m:\u001b[0m\u001b[1;33m\u001b[0m\u001b[0m\n",
      "\u001b[1;32m~\\Anaconda3\\lib\\site-packages\\sklearn\\model_selection\\_validation.py\u001b[0m in \u001b[0;36m_fit_and_score\u001b[1;34m(estimator, X, y, scorer, train, test, verbose, parameters, fit_params, return_train_score, return_parameters, return_n_test_samples, return_times, error_score)\u001b[0m\n\u001b[0;32m    456\u001b[0m             \u001b[0mestimator\u001b[0m\u001b[1;33m.\u001b[0m\u001b[0mfit\u001b[0m\u001b[1;33m(\u001b[0m\u001b[0mX_train\u001b[0m\u001b[1;33m,\u001b[0m \u001b[1;33m**\u001b[0m\u001b[0mfit_params\u001b[0m\u001b[1;33m)\u001b[0m\u001b[1;33m\u001b[0m\u001b[0m\n\u001b[0;32m    457\u001b[0m         \u001b[1;32melse\u001b[0m\u001b[1;33m:\u001b[0m\u001b[1;33m\u001b[0m\u001b[0m\n\u001b[1;32m--> 458\u001b[1;33m             \u001b[0mestimator\u001b[0m\u001b[1;33m.\u001b[0m\u001b[0mfit\u001b[0m\u001b[1;33m(\u001b[0m\u001b[0mX_train\u001b[0m\u001b[1;33m,\u001b[0m \u001b[0my_train\u001b[0m\u001b[1;33m,\u001b[0m \u001b[1;33m**\u001b[0m\u001b[0mfit_params\u001b[0m\u001b[1;33m)\u001b[0m\u001b[1;33m\u001b[0m\u001b[0m\n\u001b[0m\u001b[0;32m    459\u001b[0m \u001b[1;33m\u001b[0m\u001b[0m\n\u001b[0;32m    460\u001b[0m     \u001b[1;32mexcept\u001b[0m \u001b[0mException\u001b[0m \u001b[1;32mas\u001b[0m \u001b[0me\u001b[0m\u001b[1;33m:\u001b[0m\u001b[1;33m\u001b[0m\u001b[0m\n",
      "\u001b[1;32m~\\Anaconda3\\lib\\site-packages\\sklearn\\svm\\base.py\u001b[0m in \u001b[0;36mfit\u001b[1;34m(self, X, y, sample_weight)\u001b[0m\n\u001b[0;32m    185\u001b[0m \u001b[1;33m\u001b[0m\u001b[0m\n\u001b[0;32m    186\u001b[0m         \u001b[0mseed\u001b[0m \u001b[1;33m=\u001b[0m \u001b[0mrnd\u001b[0m\u001b[1;33m.\u001b[0m\u001b[0mrandint\u001b[0m\u001b[1;33m(\u001b[0m\u001b[0mnp\u001b[0m\u001b[1;33m.\u001b[0m\u001b[0miinfo\u001b[0m\u001b[1;33m(\u001b[0m\u001b[1;34m'i'\u001b[0m\u001b[1;33m)\u001b[0m\u001b[1;33m.\u001b[0m\u001b[0mmax\u001b[0m\u001b[1;33m)\u001b[0m\u001b[1;33m\u001b[0m\u001b[0m\n\u001b[1;32m--> 187\u001b[1;33m         \u001b[0mfit\u001b[0m\u001b[1;33m(\u001b[0m\u001b[0mX\u001b[0m\u001b[1;33m,\u001b[0m \u001b[0my\u001b[0m\u001b[1;33m,\u001b[0m \u001b[0msample_weight\u001b[0m\u001b[1;33m,\u001b[0m \u001b[0msolver_type\u001b[0m\u001b[1;33m,\u001b[0m \u001b[0mkernel\u001b[0m\u001b[1;33m,\u001b[0m \u001b[0mrandom_seed\u001b[0m\u001b[1;33m=\u001b[0m\u001b[0mseed\u001b[0m\u001b[1;33m)\u001b[0m\u001b[1;33m\u001b[0m\u001b[0m\n\u001b[0m\u001b[0;32m    188\u001b[0m         \u001b[1;31m# see comment on the other call to np.iinfo in this file\u001b[0m\u001b[1;33m\u001b[0m\u001b[1;33m\u001b[0m\u001b[0m\n\u001b[0;32m    189\u001b[0m \u001b[1;33m\u001b[0m\u001b[0m\n",
      "\u001b[1;32m~\\Anaconda3\\lib\\site-packages\\sklearn\\svm\\base.py\u001b[0m in \u001b[0;36m_dense_fit\u001b[1;34m(self, X, y, sample_weight, solver_type, kernel, random_seed)\u001b[0m\n\u001b[0;32m    252\u001b[0m                 \u001b[0mcache_size\u001b[0m\u001b[1;33m=\u001b[0m\u001b[0mself\u001b[0m\u001b[1;33m.\u001b[0m\u001b[0mcache_size\u001b[0m\u001b[1;33m,\u001b[0m \u001b[0mcoef0\u001b[0m\u001b[1;33m=\u001b[0m\u001b[0mself\u001b[0m\u001b[1;33m.\u001b[0m\u001b[0mcoef0\u001b[0m\u001b[1;33m,\u001b[0m\u001b[1;33m\u001b[0m\u001b[0m\n\u001b[0;32m    253\u001b[0m                 \u001b[0mgamma\u001b[0m\u001b[1;33m=\u001b[0m\u001b[0mself\u001b[0m\u001b[1;33m.\u001b[0m\u001b[0m_gamma\u001b[0m\u001b[1;33m,\u001b[0m \u001b[0mepsilon\u001b[0m\u001b[1;33m=\u001b[0m\u001b[0mself\u001b[0m\u001b[1;33m.\u001b[0m\u001b[0mepsilon\u001b[0m\u001b[1;33m,\u001b[0m\u001b[1;33m\u001b[0m\u001b[0m\n\u001b[1;32m--> 254\u001b[1;33m                 max_iter=self.max_iter, random_seed=random_seed)\n\u001b[0m\u001b[0;32m    255\u001b[0m \u001b[1;33m\u001b[0m\u001b[0m\n\u001b[0;32m    256\u001b[0m         \u001b[0mself\u001b[0m\u001b[1;33m.\u001b[0m\u001b[0m_warn_from_fit_status\u001b[0m\u001b[1;33m(\u001b[0m\u001b[1;33m)\u001b[0m\u001b[1;33m\u001b[0m\u001b[0m\n",
      "\u001b[1;31mKeyboardInterrupt\u001b[0m: "
     ]
    }
   ],
   "source": [
    "# svr_BO = BayesianOptimization(svr_func, {'C':(.001,70), \n",
    "#                                          'gamma':(.00002,100),\n",
    "#                                          'cache_size':(1000,2000)})\n",
    "# svr_BO.explore({'C':np.linspace(.001,70, 30), \n",
    "#                 'gamma':np.linspace(.00002,100,30),\n",
    "#                 'cache_size': np.linspace(1000,2000,30)})\n",
    "# svr_BO.maximize(n_iter=30)\n",
    "# print(svr_BO.res['max'])\n"
   ]
  },
  {
   "cell_type": "code",
   "execution_count": 139,
   "metadata": {
    "scrolled": true
   },
   "outputs": [
    {
     "name": "stdout",
     "output_type": "stream",
     "text": [
      "\u001b[31mInitialization\u001b[0m\n",
      "\u001b[94m-----------------------------------------------------------------\u001b[0m\n",
      " Step |   Time |      Value |     alpha |     coef0 |    degree | \n",
      "    1 | 00m00s | \u001b[35m   0.91204\u001b[0m | \u001b[32m   0.0010\u001b[0m | \u001b[32m7200.0000\u001b[0m | \u001b[32m   1.0000\u001b[0m | \n",
      "    2 | 00m00s | \u001b[35m   0.91513\u001b[0m | \u001b[32m   0.0354\u001b[0m | \u001b[32m7206.8966\u001b[0m | \u001b[32m   1.0690\u001b[0m | \n",
      "    3 | 00m00s |    0.91461 |    0.0699 | 7213.7931 |    1.1379 | \n",
      "    4 | 00m00s |    0.91012 |    0.1043 | 7220.6897 |    1.2069 | \n",
      "    5 | 00m00s |    0.90385 |    0.1388 | 7227.5862 |    1.2759 | \n",
      "    6 | 00m00s |    0.91427 |    0.1732 | 7234.4828 |    1.3448 | \n",
      "    7 | 00m00s |    0.91485 |    0.2077 | 7241.3793 |    1.4138 | \n",
      "    8 | 00m00s |    0.90925 |    0.2421 | 7248.2759 |    1.4828 | \n",
      "    9 | 00m00s | -248.76180 |    0.2766 | 7255.1724 |    1.5517 | \n",
      "   10 | 00m00s | -2015.06954 |    0.3110 | 7262.0690 |    1.6207 | \n",
      "   11 | 00m00s | -376912.47651 |    0.3455 | 7268.9655 |    1.6897 | \n",
      "   12 | 00m00s | -6206817.78044 |    0.3799 | 7275.8621 |    1.7586 | \n",
      "   13 | 00m00s | -33845815.54257 |    0.4144 | 7282.7586 |    1.8276 | \n",
      "   14 | 00m00s | -222630.66644 |    0.4488 | 7289.6552 |    1.8966 | \n",
      "   15 | 00m00s | -14400419.40728 |    0.4833 | 7296.5517 |    1.9655 | \n",
      "   16 | 00m00s | -65114298.26823 |    0.5177 | 7303.4483 |    2.0345 | \n",
      "   17 | 00m00s | -15073086.81645 |    0.5522 | 7310.3448 |    2.1034 | \n",
      "   18 | 00m00s | -1688404660.11817 |    0.5866 | 7317.2414 |    2.1724 | \n",
      "   19 | 00m00s | -10269216.87661 |    0.6211 | 7324.1379 |    2.2414 | \n",
      "   20 | 00m00s | -2028958.36585 |    0.6555 | 7331.0345 |    2.3103 | \n",
      "   21 | 00m00s | -1784.57064 |    0.6900 | 7337.9310 |    2.3793 | \n",
      "   22 | 00m00s | -32937658755.97498 |    0.7244 | 7344.8276 |    2.4483 | \n",
      "   23 | 00m00s | -628506.11504 |    0.7589 | 7351.7241 |    2.5172 | \n",
      "   24 | 00m00s | -272612751.58307 |    0.7933 | 7358.6207 |    2.5862 | \n",
      "   25 | 00m00s | -618498732.12493 |    0.8278 | 7365.5172 |    2.6552 | \n",
      "   26 | 00m00s | -5339780.22730 |    0.8622 | 7372.4138 |    2.7241 | \n",
      "   27 | 00m00s | -15853705631.55242 |    0.8967 | 7379.3103 |    2.7931 | \n",
      "   28 | 00m00s | -1445560982.67479 |    0.9311 | 7386.2069 |    2.8621 | \n",
      "   29 | 00m00s | -403595.63716 |    0.9656 | 7393.1034 |    2.9310 | \n",
      "   30 | 00m00s | -564176487312794.25000 |    1.0000 | 7400.0000 |    3.0000 | \n",
      "   31 | 00m00s | -47552748.44877 | 5381.2948 | 3183.8887 |    4.3797 | \n",
      "   32 | 00m00s | -2940399.12959 | 5487.0869 |  568.7605 |    4.3723 | \n",
      "   33 | 00m00s | -686772.68817 | 1656.5178 | 7757.8743 |    3.8229 | \n",
      "   34 | 00m00s | -12481759.63691 | 7196.2386 | 6535.6562 |    4.3002 | \n",
      "   35 | 00m00s | -1444364.53256 | 8626.1013 | 8715.2861 |    2.9338 | \n",
      "\u001b[31mBayesian Optimization\u001b[0m\n",
      "\u001b[94m-----------------------------------------------------------------\u001b[0m\n",
      " Step |   Time |      Value |     alpha |     coef0 |    degree | \n",
      "   36 | 00m00s | -311348.73854 | 2932.5292 | 6894.5071 |    2.2511 | \n",
      "   37 | 00m01s | -157580.28083 | 9169.2524 | 4767.0519 |    2.1653 | \n",
      "   38 | 00m01s | -3407219059.24337 | 3203.0177 | 9651.6421 |    2.9669 | \n",
      "   39 | 00m01s | -40610.36562 | 3516.9664 | 5672.5488 |    4.5110 | \n",
      "   40 | 00m01s | -12535427.31730 | 2257.0095 | 3666.7532 |    2.3285 | \n",
      "   41 | 00m01s |    0.91143 | 2581.0963 | 6619.4770 |    1.8495 | \n",
      "   42 | 00m01s |    0.90182 |  821.0653 |  516.1242 |    1.3594 | \n",
      "   43 | 00m01s | -91935.03680 |  910.0619 | 3871.4063 |    1.9799 | \n",
      "   44 | 00m01s | -1544684250.40648 | 5725.8912 | 3816.9059 |    2.6710 | \n",
      "   45 | 00m01s | -15686399235.72567 |  698.9905 | 9144.1627 |    3.3972 | \n",
      "   46 | 00m01s | -228777168.90343 | 1268.5115 | 8816.4966 |    3.3415 | \n",
      "   47 | 00m01s | -24832510.27436 | 7614.3522 | 3098.9179 |    4.5782 | \n",
      "   48 | 00m01s | -1503.66575 | 6423.5546 | 5233.6495 |    2.1908 | \n",
      "   49 | 00m01s | -212537172.94184 | 8062.2988 | 5421.4641 |    3.0479 | \n",
      "   50 | 00m01s | -40680963.79037 |  362.1888 | 1655.2974 |    2.0823 | \n",
      "   51 | 00m01s | -55090.98219 | 4027.8954 | 4025.9349 |    3.7259 | \n",
      "   52 | 00m01s | -25345.78591 | 2342.5653 | 6480.8752 |    2.7740 | \n",
      "   53 | 00m01s | -471011771.64914 | 2491.7273 |  149.8584 |    3.6025 | \n",
      "   54 | 00m01s | -562734991.43904 | 2147.0096 | 5020.6261 |    2.8476 | \n",
      "   55 | 00m01s | -1070869.94905 | 4201.7588 | 9333.0635 |    3.3365 | \n",
      "   56 | 00m01s | -5749.06958 | 5338.9733 | 2301.4259 |    2.4393 | \n",
      "   57 | 00m01s | -25292975.12906 | 4306.2914 | 4272.2483 |    3.2038 | \n",
      "   58 | 00m01s | -171944561.94485 | 1748.9826 | 1455.2996 |    3.4049 | \n",
      "   59 | 00m01s | -35661343.91305 | 8864.3154 | 5469.5595 |    3.2927 | \n",
      "   60 | 00m01s | -110605765.23000 | 6710.3964 | 4989.2512 |    2.7254 | \n",
      "   61 | 00m01s | -1153171.99340 | 7206.9448 |  496.4249 |    2.2378 | \n",
      "   62 | 00m01s | -216487187.32935 |   55.3432 | 8656.8250 |    2.5626 | \n",
      "   63 | 00m01s | -4835102.43643 | 1010.0653 | 4966.8144 |    2.7279 | \n",
      "   64 | 00m01s | -318775435.04331 | 6029.1813 | 4225.9390 |    2.7370 | \n",
      "   65 | 00m01s | -1822118.04959 | 1027.9032 | 9006.7226 |    3.4233 | \n",
      "{'max_val': 0.91512972999329212, 'max_params': {'alpha': 0.035448275862068966, 'degree': 1.0689655172413792, 'coef0': 7206.8965517241377}}\n"
     ]
    }
   ],
   "source": [
    "# krr_BO = BayesianOptimization(krr_func, {'alpha':(0,10000), 'degree':(1,5), 'coef0':(0,10000)})\n",
    "# krr_BO.explore({'alpha':np.linspace(.001,1,30), 'degree':np.linspace(1,3,30), 'coef0':np.linspace(7200,7400,30)})\n",
    "# krr_BO.maximize(n_iter=30)\n",
    "# print(krr_BO.res['max'])"
   ]
  },
  {
   "cell_type": "code",
   "execution_count": null,
   "metadata": {
    "collapsed": true
   },
   "outputs": [],
   "source": []
  }
 ],
 "metadata": {
  "kernelspec": {
   "display_name": "Python 3",
   "language": "python",
   "name": "python3"
  },
  "language_info": {
   "codemirror_mode": {
    "name": "ipython",
    "version": 3
   },
   "file_extension": ".py",
   "mimetype": "text/x-python",
   "name": "python",
   "nbconvert_exporter": "python",
   "pygments_lexer": "ipython3",
   "version": "3.6.3"
  }
 },
 "nbformat": 4,
 "nbformat_minor": 2
}
