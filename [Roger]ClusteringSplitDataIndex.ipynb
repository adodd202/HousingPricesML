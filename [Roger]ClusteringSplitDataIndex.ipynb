{
 "cells": [
  {
   "cell_type": "markdown",
   "metadata": {},
   "source": [
    "# Create clusters using 60 PCA components (95% variance explained)\n",
    "1. Create clusters \n",
    "    - KMeans\n",
    "    - Allgo\n",
    "2. Index\n",
    "3. Create"
   ]
  },
  {
   "cell_type": "code",
   "execution_count": 39,
   "metadata": {},
   "outputs": [],
   "source": [
    "# To show plot in line and stop auto scroll\n",
    "%matplotlib inline"
   ]
  },
  {
   "cell_type": "code",
   "execution_count": 40,
   "metadata": {},
   "outputs": [
    {
     "data": {
      "application/javascript": [
       "IPython.OutputArea.prototype._should_scroll = function(lines) {\n",
       "    return false;\n",
       "}"
      ],
      "text/plain": [
       "<IPython.core.display.Javascript object>"
      ]
     },
     "metadata": {},
     "output_type": "display_data"
    }
   ],
   "source": [
    "%%javascript\n",
    "IPython.OutputArea.prototype._should_scroll = function(lines) {\n",
    "    return false;\n",
    "}"
   ]
  },
  {
   "cell_type": "code",
   "execution_count": 41,
   "metadata": {},
   "outputs": [],
   "source": [
    "from sklearn import preprocessing\n",
    "from sklearn.cluster import KMeans\n",
    "from sklearn.cluster import SpectralClustering\n",
    "from sklearn.cluster import AgglomerativeClustering\n",
    "from sklearn import metrics\n",
    "from scipy.stats import gaussian_kde\n",
    "from scipy import stats\n",
    "from scipy.spatial.distance import cdist, pdist, euclidean\n",
    "from sklearn.decomposition import PCA\n",
    "import pandas as pd\n",
    "import numpy as np\n",
    "import collections"
   ]
  },
  {
   "cell_type": "code",
   "execution_count": 42,
   "metadata": {},
   "outputs": [],
   "source": [
    "# Get train and test data \n",
    "train = pd.read_csv('./data/train_120feats_Dense_OutlierFree_LogTransform.csv')\n",
    "test = pd.read_csv('./data/test_119feats_Dense_OutlierFree_LogTransform.csv')"
   ]
  },
  {
   "cell_type": "code",
   "execution_count": 51,
   "metadata": {},
   "outputs": [],
   "source": [
    "# This function returns the dataframe in clusters.\n",
    "def putClusterIndex(df, nCluster = 2, method = \"KMeans\", splitFile = False, writeToFile = False, outPut = 'Train'):\n",
    "    \n",
    "    # PCA stage\n",
    "    print(\"Perform PCA..\")\n",
    "        # Copy salePrice and save it somewhere else\n",
    "    if outPut == \"Train\":\n",
    "        salePriceCol = df['SalePrice'].copy()\n",
    "        df.drop(['SalePrice'], axis = 1, inplace = True)\n",
    "        #  Scale the rest cols\n",
    "    elif outPut == \"Test\":\n",
    "        pass\n",
    "    else:\n",
    "        print(\"You have to choose either 'Test' or 'Train' as output.\")\n",
    "    trainMatrix = df.as_matrix()\n",
    "    trainMatrix = preprocessing.scale(trainMatrix)\n",
    "    dfPCA = PCA(n_components=60).fit_transform(trainMatrix) \n",
    "    \n",
    "    # Clustering stage\n",
    "    print(\"Use {0} to perform clustering..\".format(method))\n",
    "        # Perform clustering \n",
    "    if method == 'KMeans':\n",
    "        clusterResult = KMeans(n_clusters=nCluster, init='k-means++', n_init=50, max_iter=2000).fit(dfPCA)\n",
    "    if method == 'Agglo':\n",
    "        clusterResult = AgglomerativeClustering(n_clusters=nCluster).fit(dfPCA) \n",
    "        # Add cluster indexes to the dataframe\n",
    "    df['Clusterlabel'] = clusterResult.labels_\n",
    "        # Print out the clusters and items count in each cluster\n",
    "    clusterStats = collections.Counter(clusterResult.labels_)\n",
    "    \n",
    "    # Print out results\n",
    "    print(\"Clustering Results:\")\n",
    "    for key, value in clusterStats.items():\n",
    "        print(\"There is {0} items in Cluster #{1}\".format(key, value))\n",
    "    \n",
    "    # Data output\n",
    "        # Add SalePrice back to the dataframe\n",
    "        if outPut == \"Train\":\n",
    "            df['SalePrice'] = salePriceCol\n",
    "        # When NOT split files according on cluster index:\n",
    "    if splitFile == False and writeToFile == True:\n",
    "        print(\"Save ONE file to local...\")\n",
    "        print(\"Save to ./data/FinalRR{0}_{1}_Dense_OF_NoTransform.csv\".format(method, outPut))\n",
    "        df.to_csv(\"./data/FinalRR{0}_{1}_Clustered_Dense_OF_Log.csv\".format(method, outPut),index=False)\n",
    "        # When DO SPLIT files according to cluster index:\n",
    "    if splitFile == True and writeToFile == True:\n",
    "        print(\"Save MULTIPLE files to local...\")\n",
    "        for cluster in np.unique(clusterResult.labels_):\n",
    "            temp = df[df['Clusterlabel']==cluster].copy()\n",
    "            temp.drop(['Clusterlabel'], axis = 1, inplace = True)\n",
    "            print(\"Save to ./data/FinalRR{0}_Cluster{1}_{2}_Dense_OF_NoTransform.csv\".format(method, cluster, outPut))\n",
    "            temp.to_csv(\"./data/FinalRR{0}_Cluster{1}_{2}_Dense_OF_NoTransform.csv\".format(method, cluster, outPut),index=False)\n",
    "    print(\"Program Finished!\")"
   ]
  },
  {
   "cell_type": "code",
   "execution_count": 54,
   "metadata": {},
   "outputs": [
    {
     "name": "stdout",
     "output_type": "stream",
     "text": [
      "Perform PCA..\n",
      "Use KMeans to perform clustering..\n",
      "Clustering Results:\n",
      "There is 1 items in Cluster #851\n",
      "There is 0 items in Cluster #608\n",
      "Save ONE file to local...\n",
      "Save to ./data/FinalRRKMeans_Test_Dense_OF_NoTransform.csv\n",
      "Program Finished!\n"
     ]
    }
   ],
   "source": [
    "putClusterIndex(test,nCluster = 2, method = \"KMeans\",splitFile = False, writeToFile = True, outPut = 'Test')"
   ]
  },
  {
   "cell_type": "code",
   "execution_count": null,
   "metadata": {},
   "outputs": [],
   "source": []
  }
 ],
 "metadata": {
  "kernelspec": {
   "display_name": "Python [default]",
   "language": "python",
   "name": "python3"
  },
  "language_info": {
   "codemirror_mode": {
    "name": "ipython",
    "version": 3
   },
   "file_extension": ".py",
   "mimetype": "text/x-python",
   "name": "python",
   "nbconvert_exporter": "python",
   "pygments_lexer": "ipython3",
   "version": "3.6.4"
  }
 },
 "nbformat": 4,
 "nbformat_minor": 2
}
