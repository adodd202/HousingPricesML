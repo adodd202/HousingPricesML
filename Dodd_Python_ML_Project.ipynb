{
 "cells": [
  {
   "cell_type": "markdown",
   "metadata": {},
   "source": [
    "Andrew Dodd\n",
    ", 2/21/18\n",
    "# Machine Learning Project Notebook\n",
    "## Table of Contents\n",
    "### 1. Imports\n",
    "### 2. Cleaning\n",
    "### 3. Exploration/Unsupervised Learning\n",
    "### 4. Modeling\n",
    "### 5. Ensembling\n",
    "### 6. Write to csv (results, data)"
   ]
  },
  {
   "cell_type": "markdown",
   "metadata": {},
   "source": [
    "## 1. Imports"
   ]
  },
  {
   "cell_type": "code",
   "execution_count": 34,
   "metadata": {},
   "outputs": [],
   "source": [
    "import pandas as pd\n",
    "import numpy as np\n",
    "import seaborn as sns\n",
    "import math\n",
    "from sklearn.preprocessing import StandardScaler\n",
    "from sklearn.decomposition import PCA\n",
    "%matplotlib inline\n",
    "\n",
    "house_train = pd.read_csv('./data/train.csv')\n",
    "house_test = pd.read_csv('./data/test.csv')\n",
    "\n",
    "house_train.rename(index=str, columns={\"BedroomAbvGr\":\"Bedroom\", \"KitchenAbvGr\":\"Kitchen\"},\n",
    "                   inplace = True)\n",
    "house_test.rename(index=str, columns={\"BedroomAbvGr\":\"Bedroom\", \"KitchenAbvGr\":\"Kitchen\"},\n",
    "                    inplace = True)\n",
    "\n",
    "names = list(house_test.columns.values)"
   ]
  },
  {
   "cell_type": "code",
   "execution_count": 35,
   "metadata": {},
   "outputs": [
    {
     "data": {
      "text/plain": [
       "(1459, 80)"
      ]
     },
     "execution_count": 35,
     "metadata": {},
     "output_type": "execute_result"
    }
   ],
   "source": [
    "house_train.shape\n",
    "house_test.shape"
   ]
  },
  {
   "cell_type": "markdown",
   "metadata": {},
   "source": [
    "## 2. Cleaning\n",
    "Here we do the cleaning for the data. This will include examining the dataset, value imputation, visualization, filling or removing NAs, etc.\n",
    "\n",
    "### 2.1 Converting column types to numeric\n",
    "Now that we have our dataset imported, we need to convert the numeric parts into numeric."
   ]
  },
  {
   "cell_type": "code",
   "execution_count": 36,
   "metadata": {},
   "outputs": [],
   "source": [
    "with open(\"./Data/data_description.txt\") as f:\n",
    "    content = f.readlines()\n",
    "    \n",
    "# you may also want to remove whitespace characters like `\\n` at the end of each line\n",
    "content = [x.strip() for x in content] \n",
    "\n",
    "import re\n",
    "\n",
    "prev_column = '' # Most recent column name\n",
    "num_lines = 0 # number of lines since column name\n",
    "i = 0\n",
    "for line in content:\n",
    "    if (re.search('^(.{1,20}):.*', line) != None) and (num_lines == 1):\n",
    "        house_train[prev_column] = pd.to_numeric(house_train[prev_column],errors = 'coerce')\n",
    "        house_test[prev_column] = pd.to_numeric(house_test[prev_column],errors = 'coerce')\n",
    "    if line.strip() == '':\n",
    "        num_lines += 1\n",
    "        next\n",
    "    if (re.search('^(.{1,20}):.*', line) != None):\n",
    "        prev_column = (re.search('^(.{1,20}):.*', line)).group(1)\n",
    "        num_lines = 0\n",
    "    i += 1"
   ]
  },
  {
   "cell_type": "code",
   "execution_count": 37,
   "metadata": {},
   "outputs": [
    {
     "data": {
      "text/html": [
       "<div>\n",
       "<style scoped>\n",
       "    .dataframe tbody tr th:only-of-type {\n",
       "        vertical-align: middle;\n",
       "    }\n",
       "\n",
       "    .dataframe tbody tr th {\n",
       "        vertical-align: top;\n",
       "    }\n",
       "\n",
       "    .dataframe thead th {\n",
       "        text-align: right;\n",
       "    }\n",
       "</style>\n",
       "<table border=\"1\" class=\"dataframe\">\n",
       "  <thead>\n",
       "    <tr style=\"text-align: right;\">\n",
       "      <th></th>\n",
       "      <th>Id</th>\n",
       "      <th>MSSubClass</th>\n",
       "      <th>LotFrontage</th>\n",
       "      <th>LotArea</th>\n",
       "      <th>OverallQual</th>\n",
       "      <th>OverallCond</th>\n",
       "      <th>YearBuilt</th>\n",
       "      <th>YearRemodAdd</th>\n",
       "      <th>MasVnrArea</th>\n",
       "      <th>BsmtFinSF1</th>\n",
       "      <th>...</th>\n",
       "      <th>WoodDeckSF</th>\n",
       "      <th>OpenPorchSF</th>\n",
       "      <th>EnclosedPorch</th>\n",
       "      <th>3SsnPorch</th>\n",
       "      <th>ScreenPorch</th>\n",
       "      <th>PoolArea</th>\n",
       "      <th>MiscVal</th>\n",
       "      <th>MoSold</th>\n",
       "      <th>YrSold</th>\n",
       "      <th>SalePrice</th>\n",
       "    </tr>\n",
       "  </thead>\n",
       "  <tbody>\n",
       "    <tr>\n",
       "      <th>count</th>\n",
       "      <td>1460.000000</td>\n",
       "      <td>1460.000000</td>\n",
       "      <td>1201.000000</td>\n",
       "      <td>1460.000000</td>\n",
       "      <td>1460.000000</td>\n",
       "      <td>1460.000000</td>\n",
       "      <td>1460.000000</td>\n",
       "      <td>1460.000000</td>\n",
       "      <td>1452.000000</td>\n",
       "      <td>1460.000000</td>\n",
       "      <td>...</td>\n",
       "      <td>1460.000000</td>\n",
       "      <td>1460.000000</td>\n",
       "      <td>1460.000000</td>\n",
       "      <td>1460.000000</td>\n",
       "      <td>1460.000000</td>\n",
       "      <td>1460.000000</td>\n",
       "      <td>1460.000000</td>\n",
       "      <td>1460.000000</td>\n",
       "      <td>1460.000000</td>\n",
       "      <td>1460.000000</td>\n",
       "    </tr>\n",
       "    <tr>\n",
       "      <th>mean</th>\n",
       "      <td>730.500000</td>\n",
       "      <td>56.897260</td>\n",
       "      <td>70.049958</td>\n",
       "      <td>10516.828082</td>\n",
       "      <td>6.099315</td>\n",
       "      <td>5.575342</td>\n",
       "      <td>1971.267808</td>\n",
       "      <td>1984.865753</td>\n",
       "      <td>103.685262</td>\n",
       "      <td>443.639726</td>\n",
       "      <td>...</td>\n",
       "      <td>94.244521</td>\n",
       "      <td>46.660274</td>\n",
       "      <td>21.954110</td>\n",
       "      <td>3.409589</td>\n",
       "      <td>15.060959</td>\n",
       "      <td>2.758904</td>\n",
       "      <td>43.489041</td>\n",
       "      <td>6.321918</td>\n",
       "      <td>2007.815753</td>\n",
       "      <td>180921.195890</td>\n",
       "    </tr>\n",
       "    <tr>\n",
       "      <th>std</th>\n",
       "      <td>421.610009</td>\n",
       "      <td>42.300571</td>\n",
       "      <td>24.284752</td>\n",
       "      <td>9981.264932</td>\n",
       "      <td>1.382997</td>\n",
       "      <td>1.112799</td>\n",
       "      <td>30.202904</td>\n",
       "      <td>20.645407</td>\n",
       "      <td>181.066207</td>\n",
       "      <td>456.098091</td>\n",
       "      <td>...</td>\n",
       "      <td>125.338794</td>\n",
       "      <td>66.256028</td>\n",
       "      <td>61.119149</td>\n",
       "      <td>29.317331</td>\n",
       "      <td>55.757415</td>\n",
       "      <td>40.177307</td>\n",
       "      <td>496.123024</td>\n",
       "      <td>2.703626</td>\n",
       "      <td>1.328095</td>\n",
       "      <td>79442.502883</td>\n",
       "    </tr>\n",
       "    <tr>\n",
       "      <th>min</th>\n",
       "      <td>1.000000</td>\n",
       "      <td>20.000000</td>\n",
       "      <td>21.000000</td>\n",
       "      <td>1300.000000</td>\n",
       "      <td>1.000000</td>\n",
       "      <td>1.000000</td>\n",
       "      <td>1872.000000</td>\n",
       "      <td>1950.000000</td>\n",
       "      <td>0.000000</td>\n",
       "      <td>0.000000</td>\n",
       "      <td>...</td>\n",
       "      <td>0.000000</td>\n",
       "      <td>0.000000</td>\n",
       "      <td>0.000000</td>\n",
       "      <td>0.000000</td>\n",
       "      <td>0.000000</td>\n",
       "      <td>0.000000</td>\n",
       "      <td>0.000000</td>\n",
       "      <td>1.000000</td>\n",
       "      <td>2006.000000</td>\n",
       "      <td>34900.000000</td>\n",
       "    </tr>\n",
       "    <tr>\n",
       "      <th>25%</th>\n",
       "      <td>365.750000</td>\n",
       "      <td>20.000000</td>\n",
       "      <td>59.000000</td>\n",
       "      <td>7553.500000</td>\n",
       "      <td>5.000000</td>\n",
       "      <td>5.000000</td>\n",
       "      <td>1954.000000</td>\n",
       "      <td>1967.000000</td>\n",
       "      <td>0.000000</td>\n",
       "      <td>0.000000</td>\n",
       "      <td>...</td>\n",
       "      <td>0.000000</td>\n",
       "      <td>0.000000</td>\n",
       "      <td>0.000000</td>\n",
       "      <td>0.000000</td>\n",
       "      <td>0.000000</td>\n",
       "      <td>0.000000</td>\n",
       "      <td>0.000000</td>\n",
       "      <td>5.000000</td>\n",
       "      <td>2007.000000</td>\n",
       "      <td>129975.000000</td>\n",
       "    </tr>\n",
       "    <tr>\n",
       "      <th>50%</th>\n",
       "      <td>730.500000</td>\n",
       "      <td>50.000000</td>\n",
       "      <td>69.000000</td>\n",
       "      <td>9478.500000</td>\n",
       "      <td>6.000000</td>\n",
       "      <td>5.000000</td>\n",
       "      <td>1973.000000</td>\n",
       "      <td>1994.000000</td>\n",
       "      <td>0.000000</td>\n",
       "      <td>383.500000</td>\n",
       "      <td>...</td>\n",
       "      <td>0.000000</td>\n",
       "      <td>25.000000</td>\n",
       "      <td>0.000000</td>\n",
       "      <td>0.000000</td>\n",
       "      <td>0.000000</td>\n",
       "      <td>0.000000</td>\n",
       "      <td>0.000000</td>\n",
       "      <td>6.000000</td>\n",
       "      <td>2008.000000</td>\n",
       "      <td>163000.000000</td>\n",
       "    </tr>\n",
       "    <tr>\n",
       "      <th>75%</th>\n",
       "      <td>1095.250000</td>\n",
       "      <td>70.000000</td>\n",
       "      <td>80.000000</td>\n",
       "      <td>11601.500000</td>\n",
       "      <td>7.000000</td>\n",
       "      <td>6.000000</td>\n",
       "      <td>2000.000000</td>\n",
       "      <td>2004.000000</td>\n",
       "      <td>166.000000</td>\n",
       "      <td>712.250000</td>\n",
       "      <td>...</td>\n",
       "      <td>168.000000</td>\n",
       "      <td>68.000000</td>\n",
       "      <td>0.000000</td>\n",
       "      <td>0.000000</td>\n",
       "      <td>0.000000</td>\n",
       "      <td>0.000000</td>\n",
       "      <td>0.000000</td>\n",
       "      <td>8.000000</td>\n",
       "      <td>2009.000000</td>\n",
       "      <td>214000.000000</td>\n",
       "    </tr>\n",
       "    <tr>\n",
       "      <th>max</th>\n",
       "      <td>1460.000000</td>\n",
       "      <td>190.000000</td>\n",
       "      <td>313.000000</td>\n",
       "      <td>215245.000000</td>\n",
       "      <td>10.000000</td>\n",
       "      <td>9.000000</td>\n",
       "      <td>2010.000000</td>\n",
       "      <td>2010.000000</td>\n",
       "      <td>1600.000000</td>\n",
       "      <td>5644.000000</td>\n",
       "      <td>...</td>\n",
       "      <td>857.000000</td>\n",
       "      <td>547.000000</td>\n",
       "      <td>552.000000</td>\n",
       "      <td>508.000000</td>\n",
       "      <td>480.000000</td>\n",
       "      <td>738.000000</td>\n",
       "      <td>15500.000000</td>\n",
       "      <td>12.000000</td>\n",
       "      <td>2010.000000</td>\n",
       "      <td>755000.000000</td>\n",
       "    </tr>\n",
       "  </tbody>\n",
       "</table>\n",
       "<p>8 rows × 38 columns</p>\n",
       "</div>"
      ],
      "text/plain": [
       "                Id   MSSubClass  LotFrontage        LotArea  OverallQual  \\\n",
       "count  1460.000000  1460.000000  1201.000000    1460.000000  1460.000000   \n",
       "mean    730.500000    56.897260    70.049958   10516.828082     6.099315   \n",
       "std     421.610009    42.300571    24.284752    9981.264932     1.382997   \n",
       "min       1.000000    20.000000    21.000000    1300.000000     1.000000   \n",
       "25%     365.750000    20.000000    59.000000    7553.500000     5.000000   \n",
       "50%     730.500000    50.000000    69.000000    9478.500000     6.000000   \n",
       "75%    1095.250000    70.000000    80.000000   11601.500000     7.000000   \n",
       "max    1460.000000   190.000000   313.000000  215245.000000    10.000000   \n",
       "\n",
       "       OverallCond    YearBuilt  YearRemodAdd   MasVnrArea   BsmtFinSF1  \\\n",
       "count  1460.000000  1460.000000   1460.000000  1452.000000  1460.000000   \n",
       "mean      5.575342  1971.267808   1984.865753   103.685262   443.639726   \n",
       "std       1.112799    30.202904     20.645407   181.066207   456.098091   \n",
       "min       1.000000  1872.000000   1950.000000     0.000000     0.000000   \n",
       "25%       5.000000  1954.000000   1967.000000     0.000000     0.000000   \n",
       "50%       5.000000  1973.000000   1994.000000     0.000000   383.500000   \n",
       "75%       6.000000  2000.000000   2004.000000   166.000000   712.250000   \n",
       "max       9.000000  2010.000000   2010.000000  1600.000000  5644.000000   \n",
       "\n",
       "           ...         WoodDeckSF  OpenPorchSF  EnclosedPorch    3SsnPorch  \\\n",
       "count      ...        1460.000000  1460.000000    1460.000000  1460.000000   \n",
       "mean       ...          94.244521    46.660274      21.954110     3.409589   \n",
       "std        ...         125.338794    66.256028      61.119149    29.317331   \n",
       "min        ...           0.000000     0.000000       0.000000     0.000000   \n",
       "25%        ...           0.000000     0.000000       0.000000     0.000000   \n",
       "50%        ...           0.000000    25.000000       0.000000     0.000000   \n",
       "75%        ...         168.000000    68.000000       0.000000     0.000000   \n",
       "max        ...         857.000000   547.000000     552.000000   508.000000   \n",
       "\n",
       "       ScreenPorch     PoolArea       MiscVal       MoSold       YrSold  \\\n",
       "count  1460.000000  1460.000000   1460.000000  1460.000000  1460.000000   \n",
       "mean     15.060959     2.758904     43.489041     6.321918  2007.815753   \n",
       "std      55.757415    40.177307    496.123024     2.703626     1.328095   \n",
       "min       0.000000     0.000000      0.000000     1.000000  2006.000000   \n",
       "25%       0.000000     0.000000      0.000000     5.000000  2007.000000   \n",
       "50%       0.000000     0.000000      0.000000     6.000000  2008.000000   \n",
       "75%       0.000000     0.000000      0.000000     8.000000  2009.000000   \n",
       "max     480.000000   738.000000  15500.000000    12.000000  2010.000000   \n",
       "\n",
       "           SalePrice  \n",
       "count    1460.000000  \n",
       "mean   180921.195890  \n",
       "std     79442.502883  \n",
       "min     34900.000000  \n",
       "25%    129975.000000  \n",
       "50%    163000.000000  \n",
       "75%    214000.000000  \n",
       "max    755000.000000  \n",
       "\n",
       "[8 rows x 38 columns]"
      ]
     },
     "execution_count": 37,
     "metadata": {},
     "output_type": "execute_result"
    }
   ],
   "source": [
    "# Showing some interesting values...\n",
    "house_train.describe()"
   ]
  },
  {
   "cell_type": "code",
   "execution_count": 38,
   "metadata": {},
   "outputs": [],
   "source": [
    "# house_train.columns.to_series().groupby(house_train.dtypes).groups"
   ]
  },
  {
   "cell_type": "code",
   "execution_count": 39,
   "metadata": {},
   "outputs": [
    {
     "data": {
      "text/plain": [
       "(1460, 81)"
      ]
     },
     "execution_count": 39,
     "metadata": {},
     "output_type": "execute_result"
    }
   ],
   "source": [
    "house_train.shape"
   ]
  },
  {
   "cell_type": "markdown",
   "metadata": {},
   "source": [
    "### 2.2 Converting strings to factors and fixing values\n",
    "\n",
    "Here we will figure out which train and test columns have values that are not a subset of the text file. In some cases, I will adjust these values."
   ]
  },
  {
   "cell_type": "code",
   "execution_count": 40,
   "metadata": {},
   "outputs": [],
   "source": [
    "prev_column = '' # Most recent column name\n",
    "i = 0      # Number of loop iterations\n",
    "flag = 0   # This is an indicator of whether we want to be parsing column categories\n",
    "           # 0 corresponds to no, 1 corresponds to yes\n",
    "           # It is set to 1 once we pass a blank row.\n",
    "start = 0  # This is the number of column categories we have iterated through so far\n",
    "\n",
    "# MAKE A DICTIONARY HERE\n",
    "all_col_categ = {}\n",
    "one_category_list = []\n",
    "category_counter = 0\n",
    "columnName = ''\n",
    "\n",
    "# Iterating through entire list of column names and their categories.\n",
    "for line in content:\n",
    "    # print(\"-\"*60)\n",
    "    # print(\"line number:  %d\" %i)\n",
    "    \n",
    "    # Check if it's not a new column name, flag is 1, and line is not blank\n",
    "    # Let's get a list of the data\n",
    "    if (re.search('^(.{1,20}):.*', line) == None) and (flag == 1) and line.strip() != '':\n",
    "        # Using regex, second match is what we want:\n",
    "        category = re.search('^[ |\\t]*?([A-Za-z0-9_-]*)[ |\\t]*(.{1,50})?',line).group(1)\n",
    "        one_category_list.append(category)\n",
    "        category_counter += 1\n",
    "        \n",
    "    # Here we check if this is the blank line after all the category names of a column.\n",
    "    # It checks that our flag is 1 and that we have a blank line.\n",
    "    if (flag == 1) and line.strip() == '':\n",
    "        all_col_categ[columnName]=one_category_list\n",
    "        #all_col_categ.append(one_category_list)\n",
    "        \n",
    "    # Adding to the flag\n",
    "    if line.strip() == '':\n",
    "        flag += 1\n",
    "        \n",
    "    # Reset our flag to zero when we get to a new name\n",
    "    if (re.search('^(.{1,20}):.*', line) != None):\n",
    "        prev_column = (re.search('^(.{1,20}):.*', line)).group(1)\n",
    "        one_category_list = []   # reset our category list to null\n",
    "        columnName = re.search('^(.{1,20}):.*', line).group(1)\n",
    "        flag = 0             # reset our flag to 0\n",
    "        category_counter = 0 # reset our category counter\n",
    "        \n",
    "    i += 1\n",
    "#Missed last category set:\n",
    "last_categories = ['Normal','Abnormal','AdjLand','Alloca','Family','Partial']\n",
    "all_col_categ['SaleCondition'] = last_categories\n",
    "\n",
    "#print(all_col_categ)"
   ]
  },
  {
   "cell_type": "code",
   "execution_count": 41,
   "metadata": {},
   "outputs": [
    {
     "data": {
      "text/plain": [
       "(1460, 81)"
      ]
     },
     "execution_count": 41,
     "metadata": {},
     "output_type": "execute_result"
    }
   ],
   "source": [
    "house_train.shape"
   ]
  },
  {
   "cell_type": "markdown",
   "metadata": {},
   "source": [
    "Here we will go through all of the columns. In each column, we check if it is numeric. If it is not, we will compare the category options in the text file to the categories in the dataset. If they do not match, we print the column name."
   ]
  },
  {
   "cell_type": "code",
   "execution_count": 60,
   "metadata": {},
   "outputs": [],
   "source": [
    "# Our two lists of column names are not in order together\n",
    "\n",
    "import numbers\n",
    "j = 0\n",
    "for i in range(len(names)):\n",
    "    name = names[i]\n",
    "    \n",
    "    # If the column is not numeric, we will check the categories\n",
    "    if isinstance(house_train[name][0], numbers.Number) == 0:  \n",
    "#         print(i)\n",
    "#         print('-'*100)\n",
    "#         print(name)\n",
    "        all_col_set = set(all_col_categ[name])   # set of all ~42 categories from columns.txt\n",
    "\n",
    "        # Check if sets are equal for train and test set. If they are not, print them.\n",
    "        \n",
    "        train_col = house_train.iloc[:, [i]]\n",
    "        set_unique_train = set(pd.unique(train_col.values.ravel()))\n",
    "        test_col = house_test.iloc[:, [i]]\n",
    "        set_unique_test = set(pd.unique(test_col.values.ravel()))\n",
    "        \n",
    "#         if set_unique_train.issubset(all_col_set)==0 or set_unique_test.issubset(all_col_set)==0:\n",
    "#             print(all_col_set)\n",
    "#             print('.'*50)\n",
    "        \n",
    "#         if set_unique_train.issubset(all_col_set)==0:\n",
    "#             print(\"The train unique values are not contained in the set from columns.txt\")\n",
    "#             print(set_unique_train)\n",
    "#             print('.'*50)\n",
    "        \n",
    "#         if set_unique_test.issubset(all_col_set)==0:\n",
    "#             print(\"The test unique values are not contained in the set from columns.txt\")\n",
    "#             print(set_unique_test)\n",
    "            \n",
    "        #CHECK TEST TOO\n",
    "        \n",
    "        j += 1\n"
   ]
  },
  {
   "cell_type": "code",
   "execution_count": 43,
   "metadata": {},
   "outputs": [
    {
     "data": {
      "text/plain": [
       "(1460, 81)"
      ]
     },
     "execution_count": 43,
     "metadata": {},
     "output_type": "execute_result"
    }
   ],
   "source": [
    "house_train.shape"
   ]
  },
  {
   "cell_type": "markdown",
   "metadata": {},
   "source": [
    "Fixing misnamed values"
   ]
  },
  {
   "cell_type": "code",
   "execution_count": 44,
   "metadata": {},
   "outputs": [],
   "source": [
    "# MSZoning\n",
    "mask = house_train.MSZoning == 'C (all)'\n",
    "house_train.loc[mask, 'MSZoning'] = 'C'\n",
    "\n",
    "# Utilities\n",
    "# Interesting that the Utilities training set are all included, but test only has AllPub and nan...\n",
    "\n",
    "# Neighborhood\n",
    "mask = house_train.Neighborhood == 'NAmes'\n",
    "house_train.loc[mask, 'Neighborhood'] = 'Names'\n",
    "mask = house_test.Neighborhood == 'NAmes'\n",
    "house_test.loc[mask, 'Neighborhood'] = 'Names'\n",
    "\n",
    "# Building type: ignoring because the train and test match.\n",
    "\n",
    "# House style - looks fine.\n",
    "# Interestingly, 2.5 Fin is in only the training set, does not appear in test set.\n",
    "\n",
    "# RoofMat1\n",
    "# Train haas 4 more categories than test. Train has ClyTile, Metal, Membran, and Roll, which test does not have.\n",
    "\n",
    "# Exterior1st\n",
    "# Train has stone and ImStucc (test does not have these.)\n",
    "# Test does not have ImStucc at all. Also has nan.\n",
    "# Maybe we want to change ImStucc in to Stucc in train set?\n",
    "\n",
    "# Exterior2nd\n",
    "# nan is included in test, but not in train\n",
    "\n",
    "# MasVnrType\n",
    "# No Cblock, but we do have nans\n",
    "\n",
    "# I did not write all the mismatched columns. The above is about half of them.\n",
    "# I don't think we need to change any of the values to something else at this moment. \n",
    "# Next we'll look at nans.b"
   ]
  },
  {
   "cell_type": "code",
   "execution_count": 45,
   "metadata": {},
   "outputs": [
    {
     "data": {
      "text/plain": [
       "(1460, 81)"
      ]
     },
     "execution_count": 45,
     "metadata": {},
     "output_type": "execute_result"
    }
   ],
   "source": [
    "house_train.shape"
   ]
  },
  {
   "cell_type": "markdown",
   "metadata": {},
   "source": [
    "### 2.3  Fixing all the NaNs"
   ]
  },
  {
   "cell_type": "code",
   "execution_count": 46,
   "metadata": {},
   "outputs": [],
   "source": [
    "########################################## TRAIN #######################################\n",
    "mask = house_train.Alley.isnull()\n",
    "house_train.loc[mask, 'Alley'] = 'No'\n",
    "\n",
    "mask = house_train.PoolQC.isnull()\n",
    "house_train.loc[mask, 'PoolQC'] = 'No'\n",
    "\n",
    "mask = house_train.FireplaceQu.isnull()\n",
    "house_train.loc[mask, 'FireplaceQu'] = 'No'\n",
    "\n",
    "mask = house_train.Fence.isnull()\n",
    "house_train.loc[mask, 'Fence'] = 'No'\n",
    "\n",
    "mask = house_train.MiscFeature.isnull()\n",
    "house_train.loc[mask, 'MiscFeature'] = 'No'\n",
    "\n",
    "# Garage\n",
    "mask = house_train.GarageType.isnull()\n",
    "house_train.loc[mask, 'GarageType'] = 'No'\n",
    "\n",
    "mask = house_train.GarageFinish.isnull()\n",
    "house_train.loc[mask, 'GarageFinish'] = 'No'\n",
    "\n",
    "mask = house_train.GarageCond.isnull()\n",
    "house_train.loc[mask, 'GarageCond'] = 'No'\n",
    "\n",
    "mask = house_train.GarageQual.isnull()\n",
    "house_train.loc[mask, 'GarageQual'] = 'No'\n",
    "\n",
    "# Basement\n",
    "mask = house_train.BsmtQual.isnull()\n",
    "house_train.loc[mask, 'BsmtQual'] = 'No'\n",
    "\n",
    "mask = house_train.BsmtCond.isnull()\n",
    "house_train.loc[mask, 'BsmtCond'] = 'No'\n",
    "\n",
    "#mask = house_train.BsmtExposure.isnull()\n",
    "#house_train.loc[mask, 'BsmtExposure'] = 'No'\n",
    "\n",
    "mask = house_train.BsmtFinType1.isnull()\n",
    "house_train.loc[mask, 'BsmtFinType1'] = 'No'\n",
    "\n",
    "mask = house_train.BsmtFinType2.isnull()\n",
    "house_train.loc[mask, 'BsmtFinType2'] = 'No'\n",
    "\n",
    "# Other\n",
    "mask = house_train.MasVnrType.isnull()\n",
    "house_train.loc[mask, 'MasVnrType'] = 'No'\n",
    "\n",
    "mask = house_train.MasVnrArea.isnull()\n",
    "house_train.loc[mask, 'MasVnrArea'] = 0\n",
    "\n",
    "\n",
    "\n",
    "########################################## TEST #######################################\n",
    "mask = house_test.Alley.isnull()\n",
    "house_test.loc[mask, 'Alley'] = 'No'\n",
    "\n",
    "mask = house_test.PoolQC.isnull()\n",
    "house_test.loc[mask, 'PoolQC'] = 'No'\n",
    "\n",
    "mask = house_test.FireplaceQu.isnull()\n",
    "house_test.loc[mask, 'FireplaceQu'] = 'No'\n",
    "\n",
    "mask = house_test.Fence.isnull()\n",
    "house_test.loc[mask, 'Fence'] = 'No'\n",
    "\n",
    "mask = house_test.MiscFeature.isnull()\n",
    "house_test.loc[mask, 'MiscFeature'] = 'No'\n",
    "\n",
    "# Garage\n",
    "mask = house_test.GarageType.isnull()\n",
    "house_test.loc[mask, 'GarageType'] = 'No'\n",
    "\n",
    "mask = house_test.GarageFinish.isnull()\n",
    "house_test.loc[mask, 'GarageFinish'] = 'No'\n",
    "\n",
    "mask = house_test.GarageCond.isnull()\n",
    "house_test.loc[mask, 'GarageCond'] = 'No'\n",
    "\n",
    "mask = house_test.GarageQual.isnull()\n",
    "house_test.loc[mask, 'GarageQual'] = 'No'\n",
    "\n",
    "# Basement\n",
    "mask = house_test.BsmtQual.isnull()\n",
    "house_test.loc[mask, 'BsmtQual'] = 'No'\n",
    "\n",
    "mask = house_test.BsmtCond.isnull()\n",
    "house_test.loc[mask, 'BsmtCond'] = 'No'\n",
    "\n",
    "#mask = house_test.BsmtExposure.isnull()\n",
    "#house_test.loc[mask, 'BsmtExposure'] = 'No'\n",
    "\n",
    "mask = house_test.BsmtFinType1.isnull()\n",
    "house_test.loc[mask, 'BsmtFinType1'] = 'No'\n",
    "\n",
    "mask = house_test.BsmtFinType2.isnull()\n",
    "house_test.loc[mask, 'BsmtFinType2'] = 'No'\n",
    "\n",
    "# Other\n",
    "mask = house_test.MasVnrType.isnull()\n",
    "house_test.loc[mask, 'MasVnrType'] = 'No'\n",
    "\n",
    "mask = house_test.MasVnrArea.isnull()\n",
    "house_test.loc[mask, 'MasVnrArea'] = 0"
   ]
  },
  {
   "cell_type": "code",
   "execution_count": 47,
   "metadata": {},
   "outputs": [
    {
     "data": {
      "text/plain": [
       "(1460, 81)"
      ]
     },
     "execution_count": 47,
     "metadata": {},
     "output_type": "execute_result"
    }
   ],
   "source": [
    "house_train.shape"
   ]
  },
  {
   "cell_type": "code",
   "execution_count": 48,
   "metadata": {},
   "outputs": [
    {
     "data": {
      "image/png": "[encoded data removed]",
      "text/plain": [
       "<matplotlib.figure.Figure at 0x113e2bcf8>"
      ]
     },
     "metadata": {},
     "output_type": "display_data"
    }
   ],
   "source": [
    "# Examining year built and garage, maybe we should have our GarageYrBlt nans be YearBuilt? \n",
    "# Perhaps this is not true though...\n",
    "sns.lmplot('GarageYrBlt', # Horizontal axis\n",
    "           'YearBuilt', # Vertical axis\n",
    "           data=house_train, # Data source\n",
    "           fit_reg=False, # Don't fix a regression line\n",
    "           #hue=\"z\", # Set color\n",
    "           scatter_kws={\"marker\": \"D\", # Set marker style\n",
    "                        \"s\": 100}) # S marker size\n",
    "\n",
    "# I think it is fair to say this...it probably just means that there is no garage...\n",
    "mask = house_test.GarageYrBlt.isnull()\n",
    "house_test.loc[mask, 'GarageYrBlt'] = house_test.YearBuilt\n",
    "\n",
    "mask = house_train.GarageYrBlt.isnull()\n",
    "house_train.loc[mask, 'GarageYrBlt'] = house_train.YearBuilt\n"
   ]
  },
  {
   "cell_type": "markdown",
   "metadata": {},
   "source": [
    "Filling in the last remaining NaNs with KNN:\n",
    " * Lot Frontage (~300)\n",
    " * Electrical (1)\n",
    " * "
   ]
  },
  {
   "cell_type": "code",
   "execution_count": 50,
   "metadata": {},
   "outputs": [
    {
     "data": {
      "text/plain": [
       "(1460, 81)"
      ]
     },
     "execution_count": 50,
     "metadata": {},
     "output_type": "execute_result"
    }
   ],
   "source": [
    "house_train.shape"
   ]
  },
  {
   "cell_type": "code",
   "execution_count": 51,
   "metadata": {},
   "outputs": [],
   "source": [
    "# from fancyimpute import KNN \n",
    "\n",
    "# house_train = KNN(k=20).complete(house_train)\n",
    "# house_test = KNN(k=20).complete(house_test)\n",
    "\n",
    "# Filling in the numeric with the median value.\n",
    "# here we impute the median of a bunch of 1 nans (number of basement bathrooms)\n",
    "# The larger imputation here for error causing is lot frontage, with around ~300 imputations.\n",
    "house_train.fillna(house_train.median(),inplace = True)\n",
    "house_test.fillna(house_test.median(),inplace = True)\n",
    "\n",
    "# Filling in the categoricals with the median value.\n",
    "house_train = house_train.apply(lambda x:x.fillna(x.value_counts().index[0]))\n",
    "house_test = house_test.apply(lambda x:x.fillna(x.value_counts().index[0]))\n",
    "\n",
    "# Test\n",
    "for i in range(len(names)):\n",
    "    s = house_test.iloc[:,i]\n",
    "    sum1 = s.isnull().sum()\n",
    "    if sum1 != 0:\n",
    "        print(names[i])\n",
    "        print(sum1)\n",
    "\n",
    "# Train\n",
    "for i in range(len(names)):\n",
    "    s = house_train.iloc[:,i]\n",
    "    sum1 = s.isnull().sum()\n",
    "    if sum1 != 0:\n",
    "        print(names[i])\n",
    "        print(sum1)\n",
    "        \n",
    "# Nothing printed means no more NAs! Now we can do other stuff!"
   ]
  },
  {
   "cell_type": "code",
   "execution_count": 52,
   "metadata": {},
   "outputs": [
    {
     "data": {
      "text/plain": [
       "(1460, 81)"
      ]
     },
     "execution_count": 52,
     "metadata": {},
     "output_type": "execute_result"
    }
   ],
   "source": [
    "house_train.shape"
   ]
  },
  {
   "cell_type": "code",
   "execution_count": 53,
   "metadata": {},
   "outputs": [],
   "source": [
    "house_train.to_csv(\"train_0N.csv\")\n",
    "house_test.to_csv(\"test_0N.csv\")"
   ]
  },
  {
   "cell_type": "markdown",
   "metadata": {},
   "source": [
    "### 2.3 Converting ordinal categories into numeric."
   ]
  },
  {
   "cell_type": "markdown",
   "metadata": {
    "collapsed": true
   },
   "source": [
    "Here we will convert the following columns from categorical to numeric:\n",
    "* GarageQual\n",
    "* GarageCond\n",
    "* FireplaceQu\n",
    "* KitchenQual\n",
    "* HeatingQC\n",
    "* BsmtCond\n",
    "* BsmtQual\n",
    "* ExterCond\n",
    "* ExterQual"
   ]
  },
  {
   "cell_type": "code",
   "execution_count": 54,
   "metadata": {},
   "outputs": [
    {
     "name": "stdout",
     "output_type": "stream",
     "text": [
      "{'Gd', 'TA', 'Po', 'Fa', 'Ex'}\n",
      "ExterCond\n"
     ]
    }
   ],
   "source": [
    "train_col = house_train.iloc[:, [28]]\n",
    "set_unique_train = set(pd.unique(train_col.values.ravel()))\n",
    "print(set_unique_train)\n",
    "print(names[28])"
   ]
  },
  {
   "cell_type": "code",
   "execution_count": 55,
   "metadata": {},
   "outputs": [],
   "source": [
    "#########################################\n",
    "# TRAIN\n",
    "#########################################\n",
    "\n",
    "qual_dict = {\"No\": 0, \"Po\": 1, \"Fa\": 2, \"TA\": 3, \"Gd\": 4, \"Ex\": 5,\n",
    "            0:0, 1:1, 2:2, 3:3, 4:4, 5:5}\n",
    "house_train[\"ExterQual\"] = house_train[\"ExterQual\"].map(qual_dict).astype(int)\n",
    "house_train[\"ExterCond\"] = house_train[\"ExterCond\"].map(qual_dict).astype(int)\n",
    "house_train[\"BsmtQual\"] = house_train[\"BsmtQual\"].map(qual_dict).astype(int)\n",
    "house_train[\"BsmtCond\"] = house_train[\"BsmtCond\"].map(qual_dict).astype(int)\n",
    "house_train[\"HeatingQC\"] = house_train[\"HeatingQC\"].map(qual_dict).astype(int)\n",
    "house_train[\"KitchenQual\"] = house_train[\"KitchenQual\"].map(qual_dict).astype(int)\n",
    "house_train[\"FireplaceQu\"] = house_train[\"FireplaceQu\"].map(qual_dict).astype(int)\n",
    "house_train[\"GarageQual\"] = house_train[\"GarageQual\"].map(qual_dict).astype(int)\n",
    "house_train[\"GarageCond\"] = house_train[\"GarageCond\"].map(qual_dict).astype(int)\n",
    "\n",
    "#########################################\n",
    "# TEST\n",
    "#########################################\n",
    "\n",
    "qual_dict = {\"No\": 0, \"Po\": 1, \"Fa\": 2, \"TA\": 3, \"Gd\": 4, \"Ex\": 5,\n",
    "            0:0, 1:1, 2:2, 3:3, 4:4, 5:5}\n",
    "house_test[\"ExterQual\"] = house_test[\"ExterQual\"].map(qual_dict).astype(int)\n",
    "house_test[\"ExterCond\"] = house_test[\"ExterCond\"].map(qual_dict).astype(int)\n",
    "house_test[\"BsmtQual\"] = house_test[\"BsmtQual\"].map(qual_dict).astype(int)\n",
    "house_test[\"BsmtCond\"] = house_test[\"BsmtCond\"].map(qual_dict).astype(int)\n",
    "house_test[\"HeatingQC\"] = house_test[\"HeatingQC\"].map(qual_dict).astype(int)\n",
    "house_test[\"KitchenQual\"] = house_test[\"KitchenQual\"].map(qual_dict).astype(int)\n",
    "house_test[\"FireplaceQu\"] = house_test[\"FireplaceQu\"].map(qual_dict).astype(int)\n",
    "house_test[\"GarageQual\"] = house_test[\"GarageQual\"].map(qual_dict).astype(int)\n",
    "house_test[\"GarageCond\"] = house_test[\"GarageCond\"].map(qual_dict).astype(int)"
   ]
  },
  {
   "cell_type": "code",
   "execution_count": 56,
   "metadata": {},
   "outputs": [
    {
     "data": {
      "text/plain": [
       "(1460, 81)"
      ]
     },
     "execution_count": 56,
     "metadata": {},
     "output_type": "execute_result"
    }
   ],
   "source": [
    "house_train.shape"
   ]
  },
  {
   "cell_type": "code",
   "execution_count": 57,
   "metadata": {},
   "outputs": [],
   "source": [
    "#########################################\n",
    "# TRAIN\n",
    "#########################################\n",
    "\n",
    "house_train[\"BsmtExposure\"] = house_train[\"BsmtExposure\"].map({None: 0, \"No\": 1, \"Mn\": 2, \"Av\": 3, \"Gd\": 4,\n",
    "                                                              0:0, 1:1, 2:2, 3:3, 4:4}).astype(int)\n",
    "\n",
    "bsmt_fin_dict = {\"No\": 0, \"Unf\": 1, \"LwQ\": 2, \"Rec\": 3, \"BLQ\": 4, \"ALQ\": 5, \"GLQ\": 6,\n",
    "                0:0, 1:1, 2:2, 3:3, 4:4, 5:5, 6:6}\n",
    "house_train[\"BsmtFinType1\"] = house_train[\"BsmtFinType1\"].map(bsmt_fin_dict).astype(int)\n",
    "house_train[\"BsmtFinType2\"] = house_train[\"BsmtFinType2\"].map(bsmt_fin_dict).astype(int)\n",
    "\n",
    "house_train[\"Functional\"] = house_train[\"Functional\"].map(\n",
    "        {\"No\": 0, \"Sal\": 1, \"Sev\": 2, \"Maj2\": 3, \"Maj1\": 4, \n",
    "         \"Mod\": 5, \"Min2\": 6, \"Min1\": 7, \"Typ\": 8, \n",
    "          0:0, 1:1, 2:2, 3:3, 4:4, 5:5, 6:6, 7:7, 8:8}).astype(int)\n",
    "\n",
    "house_train[\"GarageFinish\"] = house_train[\"GarageFinish\"].map(\n",
    "        {\"No\": 0, \"Unf\": 1, \"RFn\": 2, \"Fin\": 3, 0:0, 1:1, 2:2, 3:3}).astype(int)\n",
    "\n",
    "house_train[\"Fence\"] = house_train[\"Fence\"].map(\n",
    "        {\"No\": 0, \"MnWw\": 1, \"GdWo\": 2, \"MnPrv\": 3, \"GdPrv\": 4,\n",
    "         0:0, 1:1, 2:2, 3:3, 4:4}).astype(int)\n",
    "\n",
    "house_train[\"CentralAir\"] = house_train[\"CentralAir\"].map(\n",
    "        {\"N\": 0, \"Y\": 1,\n",
    "         0:0, 1:1}).astype(int)\n",
    "\n",
    "#########################################\n",
    "# TEST\n",
    "#########################################\n",
    "\n",
    "house_test[\"BsmtExposure\"] = house_test[\"BsmtExposure\"].map({None: 0, \"No\": 1, \"Mn\": 2, \"Av\": 3, \"Gd\": 4,\n",
    "                                                              0:0, 1:1, 2:2, 3:3, 4:4}).astype(int)\n",
    "\n",
    "bsmt_fin_dict = {\"No\": 0, \"Unf\": 1, \"LwQ\": 2, \"Rec\": 3, \"BLQ\": 4, \"ALQ\": 5, \"GLQ\": 6,\n",
    "                0:0, 1:1, 2:2, 3:3, 4:4, 5:5, 6:6}\n",
    "house_test[\"BsmtFinType1\"] = house_test[\"BsmtFinType1\"].map(bsmt_fin_dict).astype(int)\n",
    "house_test[\"BsmtFinType2\"] = house_test[\"BsmtFinType2\"].map(bsmt_fin_dict).astype(int)\n",
    "\n",
    "house_test[\"Functional\"] = house_test[\"Functional\"].map(\n",
    "        {\"No\": 0, \"Sal\": 1, \"Sev\": 2, \"Maj2\": 3, \"Maj1\": 4, \n",
    "         \"Mod\": 5, \"Min2\": 6, \"Min1\": 7, \"Typ\": 8, \n",
    "          0:0, 1:1, 2:2, 3:3, 4:4, 5:5, 6:6, 7:7, 8:8}).astype(int)\n",
    "\n",
    "house_test[\"GarageFinish\"] = house_test[\"GarageFinish\"].map(\n",
    "        {\"No\": 0, \"Unf\": 1, \"RFn\": 2, \"Fin\": 3, 0:0, 1:1, 2:2, 3:3}).astype(int)\n",
    "\n",
    "house_test[\"Fence\"] = house_test[\"Fence\"].map(\n",
    "        {\"No\": 0, \"MnWw\": 1, \"GdWo\": 2, \"MnPrv\": 3, \"GdPrv\": 4,\n",
    "         0:0, 1:1, 2:2, 3:3, 4:4}).astype(int)\n",
    "\n",
    "house_test[\"CentralAir\"] = house_test[\"CentralAir\"].map(\n",
    "        {\"N\": 0, \"Y\": 1,\n",
    "         0:0, 1:1}).astype(int)"
   ]
  },
  {
   "cell_type": "code",
   "execution_count": 58,
   "metadata": {},
   "outputs": [
    {
     "data": {
      "text/plain": [
       "(1460, 81)"
      ]
     },
     "execution_count": 58,
     "metadata": {},
     "output_type": "execute_result"
    }
   ],
   "source": [
    "house_train.shape"
   ]
  },
  {
   "cell_type": "code",
   "execution_count": 59,
   "metadata": {},
   "outputs": [
    {
     "name": "stdout",
     "output_type": "stream",
     "text": [
      "{dtype('int64'): Index(['Id', 'MSSubClass', 'LotArea', 'OverallQual', 'OverallCond',\n",
      "       'YearBuilt', 'YearRemodAdd', 'ExterQual', 'ExterCond', 'BsmtQual',\n",
      "       'BsmtCond', 'BsmtExposure', 'BsmtFinType1', 'BsmtFinSF1',\n",
      "       'BsmtFinType2', 'BsmtFinSF2', 'BsmtUnfSF', 'TotalBsmtSF', 'HeatingQC',\n",
      "       'CentralAir', '1stFlrSF', '2ndFlrSF', 'LowQualFinSF', 'GrLivArea',\n",
      "       'BsmtFullBath', 'BsmtHalfBath', 'FullBath', 'HalfBath', 'Bedroom',\n",
      "       'Kitchen', 'KitchenQual', 'TotRmsAbvGrd', 'Functional', 'Fireplaces',\n",
      "       'FireplaceQu', 'GarageFinish', 'GarageCars', 'GarageArea', 'GarageQual',\n",
      "       'GarageCond', 'WoodDeckSF', 'OpenPorchSF', 'EnclosedPorch', '3SsnPorch',\n",
      "       'ScreenPorch', 'PoolArea', 'Fence', 'MiscVal', 'MoSold', 'YrSold',\n",
      "       'SalePrice'],\n",
      "      dtype='object'), dtype('float64'): Index(['LotFrontage', 'MasVnrArea', 'GarageYrBlt'], dtype='object'), dtype('O'): Index(['MSZoning', 'Street', 'Alley', 'LotShape', 'LandContour', 'Utilities',\n",
      "       'LotConfig', 'LandSlope', 'Neighborhood', 'Condition1', 'Condition2',\n",
      "       'BldgType', 'HouseStyle', 'RoofStyle', 'RoofMatl', 'Exterior1st',\n",
      "       'Exterior2nd', 'MasVnrType', 'Foundation', 'Heating', 'Electrical',\n",
      "       'GarageType', 'PavedDrive', 'PoolQC', 'MiscFeature', 'SaleType',\n",
      "       'SaleCondition'],\n",
      "      dtype='object')}\n"
     ]
    }
   ],
   "source": [
    "x = house_train.columns.to_series().groupby(house_train.dtypes).groups\n",
    "print(x)"
   ]
  },
  {
   "cell_type": "markdown",
   "metadata": {},
   "source": [
    "### 2.4 Non-ordinal Categorical Variables and Feature Engineering"
   ]
  },
  {
   "cell_type": "code",
   "execution_count": 29,
   "metadata": {},
   "outputs": [],
   "source": [
    "#########################################\n",
    "# TRAIN\n",
    "#########################################\n",
    "\n",
    "# IR2 and IR3 don't appear that often, so just make a distinction\n",
    "# between regular and irregular.\n",
    "house_train[\"IsRegularLotShape\"] = (house_train[\"LotShape\"] == \"Reg\") * 1\n",
    "\n",
    "# Most properties are level; bin the other possibilities together\n",
    "# as \"not level\".\n",
    "house_train[\"IsLandLevel\"] = (house_train[\"LandContour\"] == \"Lvl\") * 1\n",
    "\n",
    "# Most land slopes are gentle; treat the others as \"not gentle\".\n",
    "house_train[\"IsLandSlopeGentle\"] = (house_train[\"LandSlope\"] == \"Gtl\") * 1\n",
    "\n",
    "# Most properties use standard circuit breakers.\n",
    "house_train[\"IsElectricalSBrkr\"] = (house_train[\"Electrical\"] == \"SBrkr\") * 1\n",
    "\n",
    "# About 2/3rd have an attached garage.\n",
    "house_train[\"IsGarageDetached\"] = (house_train[\"GarageType\"] == \"Detchd\") * 1\n",
    "\n",
    "# Most have a paved drive. Treat dirt/gravel and partial pavement\n",
    "# as \"not paved\".\n",
    "house_train[\"IsPavedDrive\"] = (house_train[\"PavedDrive\"] == \"Y\") * 1\n",
    "\n",
    "# The only interesting \"misc. feature\" is the presence of a shed.\n",
    "house_train[\"HasShed\"] = (house_train[\"MiscFeature\"] == \"Shed\") * 1.  \n",
    "\n",
    "# If YearRemodAdd != YearBuilt, then a remodeling took place at some point.\n",
    "house_train[\"Remodeled\"] = (house_train[\"YearRemodAdd\"] != house_train[\"YearBuilt\"]) * 1\n",
    "    \n",
    "# Did a remodeling happen in the year the house was sold?\n",
    "house_train[\"RecentRemodel\"] = (house_train[\"YearRemodAdd\"] == house_train[\"YrSold\"]) * 1\n",
    "    \n",
    "# Was this house sold in the year it was built?\n",
    "house_train[\"VeryNewHouse\"] = (house_train[\"YearBuilt\"] == house_train[\"YrSold\"]) * 1\n",
    "\n",
    "#########################################\n",
    "# TEST\n",
    "#########################################\n",
    "\n",
    "# IR2 and IR3 don't appear that often, so just make a distinction\n",
    "# between regular and irregular.\n",
    "house_test[\"IsRegularLotShape\"] = (house_test[\"LotShape\"] == \"Reg\") * 1\n",
    "\n",
    "# Most properties are level; bin the other possibilities together\n",
    "# as \"not level\".\n",
    "house_test[\"IsLandLevel\"] = (house_test[\"LandContour\"] == \"Lvl\") * 1\n",
    "\n",
    "# Most land slopes are gentle; treat the others as \"not gentle\".\n",
    "house_test[\"IsLandSlopeGentle\"] = (house_test[\"LandSlope\"] == \"Gtl\") * 1\n",
    "\n",
    "# Most properties use standard circuit breakers.\n",
    "house_test[\"IsElectricalSBrkr\"] = (house_test[\"Electrical\"] == \"SBrkr\") * 1\n",
    "\n",
    "# About 2/3rd have an attached garage.\n",
    "house_test[\"IsGarageDetached\"] = (house_test[\"GarageType\"] == \"Detchd\") * 1\n",
    "\n",
    "# Most have a paved drive. Treat dirt/gravel and partial pavement\n",
    "# as \"not paved\".\n",
    "house_test[\"IsPavedDrive\"] = (house_test[\"PavedDrive\"] == \"Y\") * 1\n",
    "\n",
    "# The only interesting \"misc. feature\" is the presence of a shed.\n",
    "house_test[\"HasShed\"] = (house_test[\"MiscFeature\"] == \"Shed\") * 1.  \n",
    "\n",
    "# If YearRemodAdd != YearBuilt, then a remodeling took place at some point.\n",
    "house_test[\"Remodeled\"] = (house_test[\"YearRemodAdd\"] != house_test[\"YearBuilt\"]) * 1\n",
    "    \n",
    "# Did a remodeling happen in the year the house was sold?\n",
    "house_test[\"RecentRemodel\"] = (house_test[\"YearRemodAdd\"] == house_test[\"YrSold\"]) * 1\n",
    "    \n",
    "# Was this house sold in the year it was built?\n",
    "house_test[\"VeryNewHouse\"] = (house_test[\"YearBuilt\"] == house_test[\"YrSold\"]) * 1"
   ]
  },
  {
   "cell_type": "markdown",
   "metadata": {},
   "source": [
    "More feature engineering, a lot of it coming from:\n",
    "https://www.kaggle.com/humananalog/xgboost-lasso/code"
   ]
  },
  {
   "cell_type": "code",
   "execution_count": 16,
   "metadata": {
    "collapsed": true
   },
   "outputs": [],
   "source": [
    "# More feature engineering...\n",
    "\n",
    "#########################################\n",
    "# TRAIN\n",
    "#########################################\n",
    "\n",
    "house_train[\"Has2ndFloor\"] = (house_train[\"2ndFlrSF\"] == 0) * 1\n",
    "house_train[\"HasMasVnr\"] = (house_train[\"MasVnrArea\"] == 0) * 1\n",
    "house_train[\"HasWoodDeck\"] = (house_train[\"WoodDeckSF\"] == 0) * 1\n",
    "house_train[\"HasOpenPorch\"] = (house_train[\"OpenPorchSF\"] == 0) * 1\n",
    "house_train[\"HasEnclosedPorch\"] = (house_train[\"EnclosedPorch\"] == 0) * 1\n",
    "house_train[\"Has3SsnPorch\"] = (house_train[\"3SsnPorch\"] == 0) * 1\n",
    "house_train[\"HasScreenPorch\"] = (house_train[\"ScreenPorch\"] == 0) * 1\n",
    "\n",
    "# Months with the largest number of deals may be significant.\n",
    "house_train[\"HighSeason\"] = house_train[\"MoSold\"].replace( \n",
    "        {1: 0, 2: 0, 3: 0, 4: 1, 5: 1, 6: 1, 7: 1, 8: 0, 9: 0, 10: 0, 11: 0, 12: 0})\n",
    "\n",
    "house_train[\"NewerDwelling\"] = house_train[\"MSSubClass\"].replace(\n",
    "        {20: 1, 30: 0, 40: 0, 45: 0,50: 0, 60: 1, 70: 0, 75: 0, 80: 0, 85: 0,\n",
    "         90: 0, 120: 1, 150: 0, 160: 0, 180: 0, 190: 0})   \n",
    "    \n",
    "house_train.loc[house_train.Neighborhood == 'NridgHt', \"Neighborhood_Good\"] = 1\n",
    "house_train.loc[house_train.Neighborhood == 'Crawfor', \"Neighborhood_Good\"] = 1\n",
    "house_train.loc[house_train.Neighborhood == 'StoneBr', \"Neighborhood_Good\"] = 1\n",
    "house_train.loc[house_train.Neighborhood == 'Somerst', \"Neighborhood_Good\"] = 1\n",
    "house_train.loc[house_train.Neighborhood == 'NoRidge', \"Neighborhood_Good\"] = 1\n",
    "house_train[\"Neighborhood_Good\"].fillna(0, inplace=True)\n",
    "\n",
    "house_train[\"SaleCondition_PriceDown\"] = house_train.SaleCondition.replace(\n",
    "        {'Abnorml': 1, 'Alloca': 1, 'AdjLand': 1, 'Family': 1, 'Normal': 0, 'Partial': 0})\n",
    "\n",
    "# House completed before sale or not\n",
    "house_train[\"BoughtOffPlan\"] = house_train.SaleCondition.replace(\n",
    "        {\"Abnorml\" : 0, \"Alloca\" : 0, \"AdjLand\" : 0, \"Family\" : 0, \"Normal\" : 0, \"Partial\" : 1})\n",
    "    \n",
    "house_train[\"BadHeating\"] = house_train.HeatingQC.replace(\n",
    "        {5: 0, 4: 0, 3: 0, 2: 1, 1: 1, 0:0})\n",
    "\n",
    "area_cols = ['LotFrontage', 'LotArea', 'MasVnrArea', 'BsmtFinSF1', 'BsmtFinSF2', 'BsmtUnfSF',\n",
    "                 'TotalBsmtSF', '1stFlrSF', '2ndFlrSF', 'GrLivArea', 'GarageArea', 'WoodDeckSF', \n",
    "                 'OpenPorchSF', 'EnclosedPorch', '3SsnPorch', 'ScreenPorch', 'LowQualFinSF', 'PoolArea' ]\n",
    "house_train[\"TotalArea\"] = house_train[area_cols].sum(axis=1)\n",
    "\n",
    "house_train[\"TotalArea1st2nd\"] = house_train[\"1stFlrSF\"] + house_train[\"2ndFlrSF\"]\n",
    "\n",
    "house_train[\"Age\"] = 2010 - house_train[\"YearBuilt\"]\n",
    "house_train[\"TimeSinceSold\"] = 2010 - house_train[\"YrSold\"]\n",
    "\n",
    "house_train[\"SeasonSold\"] = house_train[\"MoSold\"].map({12:0, 1:0, 2:0, 3:1, 4:1, 5:1, \n",
    "                                                  6:2, 7:2, 8:2, 9:3, 10:3, 11:3}).astype(int)\n",
    "    \n",
    "house_train[\"YearsSinceRemodel\"] = house_train[\"YrSold\"] - house_train[\"YearRemodAdd\"]\n",
    "\n",
    "#########################################\n",
    "# TEST\n",
    "#########################################\n",
    "\n",
    "house_test[\"Has2ndFloor\"] = (house_test[\"2ndFlrSF\"] == 0) * 1\n",
    "house_test[\"HasMasVnr\"] = (house_test[\"MasVnrArea\"] == 0) * 1\n",
    "house_test[\"HasWoodDeck\"] = (house_test[\"WoodDeckSF\"] == 0) * 1\n",
    "house_test[\"HasOpenPorch\"] = (house_test[\"OpenPorchSF\"] == 0) * 1\n",
    "house_test[\"HasEnclosedPorch\"] = (house_test[\"EnclosedPorch\"] == 0) * 1\n",
    "house_test[\"Has3SsnPorch\"] = (house_test[\"3SsnPorch\"] == 0) * 1\n",
    "house_test[\"HasScreenPorch\"] = (house_test[\"ScreenPorch\"] == 0) * 1\n",
    "\n",
    "# Months with the largest number of deals may be significant.\n",
    "house_test[\"HighSeason\"] = house_test[\"MoSold\"].replace( \n",
    "        {1: 0, 2: 0, 3: 0, 4: 1, 5: 1, 6: 1, 7: 1, 8: 0, 9: 0, 10: 0, 11: 0, 12: 0})\n",
    "\n",
    "house_test[\"NewerDwelling\"] = house_test[\"MSSubClass\"].replace(\n",
    "        {20: 1, 30: 0, 40: 0, 45: 0,50: 0, 60: 1, 70: 0, 75: 0, 80: 0, 85: 0,\n",
    "         90: 0, 120: 1, 150: 0, 160: 0, 180: 0, 190: 0})   \n",
    "    \n",
    "house_test.loc[house_test.Neighborhood == 'NridgHt', \"Neighborhood_Good\"] = 1\n",
    "house_test.loc[house_test.Neighborhood == 'Crawfor', \"Neighborhood_Good\"] = 1\n",
    "house_test.loc[house_test.Neighborhood == 'StoneBr', \"Neighborhood_Good\"] = 1\n",
    "house_test.loc[house_test.Neighborhood == 'Somerst', \"Neighborhood_Good\"] = 1\n",
    "house_test.loc[house_test.Neighborhood == 'NoRidge', \"Neighborhood_Good\"] = 1\n",
    "house_test[\"Neighborhood_Good\"].fillna(0, inplace=True)\n",
    "\n",
    "house_test[\"SaleCondition_PriceDown\"] = house_test.SaleCondition.replace(\n",
    "        {'Abnorml': 1, 'Alloca': 1, 'AdjLand': 1, 'Family': 1, 'Normal': 0, 'Partial': 0})\n",
    "\n",
    "# House completed before sale or not\n",
    "house_test[\"BoughtOffPlan\"] = house_test.SaleCondition.replace(\n",
    "        {\"Abnorml\" : 0, \"Alloca\" : 0, \"AdjLand\" : 0, \"Family\" : 0, \"Normal\" : 0, \"Partial\" : 1})\n",
    "    \n",
    "house_test[\"BadHeating\"] = house_test.HeatingQC.replace(\n",
    "        {5: 0, 4: 0, 3: 0, 2: 1, 1: 1, 0:0})\n",
    "\n",
    "area_cols = ['LotFrontage', 'LotArea', 'MasVnrArea', 'BsmtFinSF1', 'BsmtFinSF2', 'BsmtUnfSF',\n",
    "                 'TotalBsmtSF', '1stFlrSF', '2ndFlrSF', 'GrLivArea', 'GarageArea', 'WoodDeckSF', \n",
    "                 'OpenPorchSF', 'EnclosedPorch', '3SsnPorch', 'ScreenPorch', 'LowQualFinSF', 'PoolArea' ]\n",
    "house_test[\"TotalArea\"] = house_test[area_cols].sum(axis=1)\n",
    "\n",
    "house_test[\"TotalArea1st2nd\"] = house_test[\"1stFlrSF\"] + house_test[\"2ndFlrSF\"]\n",
    "\n",
    "house_test[\"Age\"] = 2010 - house_test[\"YearBuilt\"]\n",
    "house_test[\"TimeSinceSold\"] = 2010 - house_test[\"YrSold\"]\n",
    "\n",
    "house_test[\"SeasonSold\"] = house_test[\"MoSold\"].map({12:0, 1:0, 2:0, 3:1, 4:1, 5:1, \n",
    "                                                  6:2, 7:2, 8:2, 9:3, 10:3, 11:3}).astype(int)\n",
    "    \n",
    "house_test[\"YearsSinceRemodel\"] = house_test[\"YrSold\"] - house_test[\"YearRemodAdd\"]"
   ]
  },
  {
   "cell_type": "markdown",
   "metadata": {},
   "source": [
    "Now we add in some neighborhood information:"
   ]
  },
  {
   "cell_type": "code",
   "execution_count": 17,
   "metadata": {
    "collapsed": true
   },
   "outputs": [],
   "source": [
    "\n",
    "    \n",
    "# Bin by neighborhood (a little arbitrarily). Values were computed by: \n",
    "# train_df[\"SalePrice\"].groupby(train_df[\"Neighborhood\"]).median().sort_values()\n",
    "neighborhood_map = {\n",
    "        \"MeadowV\" : 0,  #  88000\n",
    "        \"IDOTRR\" : 1,   # 103000\n",
    "        \"BrDale\" : 1,   # 106000\n",
    "        \"OldTown\" : 1,  # 119000\n",
    "        \"Edwards\" : 1,  # 119500\n",
    "        \"BrkSide\" : 1,  # 124300\n",
    "        \"Sawyer\" : 1,   # 135000\n",
    "        \"Blueste\" : 1,  # 137500\n",
    "        \"SWISU\" : 2,    # 139500\n",
    "        \"Names\" : 2,    # 140000\n",
    "        \"NPkVill\" : 2,  # 146000\n",
    "        \"Mitchel\" : 2,  # 153500\n",
    "        \"SawyerW\" : 2,  # 179900\n",
    "        \"Gilbert\" : 2,  # 181000\n",
    "        \"NWAmes\" : 2,   # 182900\n",
    "        \"Blmngtn\" : 2,  # 191000\n",
    "        \"CollgCr\" : 2,  # 197200\n",
    "        \"ClearCr\" : 3,  # 200250\n",
    "        \"Crawfor\" : 3,  # 200624\n",
    "        \"Veenker\" : 3,  # 218000\n",
    "        \"Somerst\" : 3,  # 225500\n",
    "        \"Timber\" : 3,   # 228475\n",
    "        \"StoneBr\" : 4,  # 278000\n",
    "        \"NoRidge\" : 4,  # 290000\n",
    "        \"NridgHt\" : 4,  # 315000\n",
    "}\n",
    "\n",
    "house_train[\"NeighborhoodBin\"] = house_train[\"Neighborhood\"].map(neighborhood_map)\n",
    "house_test[\"NeighborhoodBin\"] = house_test[\"Neighborhood\"].map(neighborhood_map)"
   ]
  },
  {
   "cell_type": "markdown",
   "metadata": {},
   "source": [
    "Let's see if the USA market housing fluxuations affected this small town. We can put all the points on a plot..."
   ]
  },
  {
   "cell_type": "code",
   "execution_count": 18,
   "metadata": {
    "scrolled": false
   },
   "outputs": [
    {
     "data": {
      "text/plain": [
       "<seaborn.axisgrid.FacetGrid at 0x1a1f2ddc88>"
      ]
     },
     "execution_count": 18,
     "metadata": {},
     "output_type": "execute_result"
    },
    {
     "data": {
      "image/png": "[encoded data removed]",
      "text/plain": [
       "<matplotlib.figure.Figure at 0x1a1f2ddc50>"
      ]
     },
     "metadata": {},
     "output_type": "display_data"
    }
   ],
   "source": [
    "sns.lmplot('YearBuilt', # Horizontal axis\n",
    "           'SalePrice', # Vertical axis\n",
    "           data=house_train, # Data source\n",
    "           fit_reg=False, # Don't fix a regression line\n",
    "           scatter_kws={\"marker\": \"D\", # Set marker style\n",
    "                        \"alpha\": .2,\n",
    "                        \"s\": 1}) # S marker size\n",
    "\n",
    "# There is a definite trend here in price, but this might be learned from the year columns..."
   ]
  },
  {
   "cell_type": "code",
   "execution_count": 19,
   "metadata": {
    "collapsed": true
   },
   "outputs": [],
   "source": [
    "# house_train.columns.to_series().groupby(house_train.dtypes).groups"
   ]
  },
  {
   "cell_type": "markdown",
   "metadata": {},
   "source": [
    "Now we have done some good feature engineering. For the rest of the categorical features that are left, we can either omit them or use them as one hot features (get_dummies). We'll see what's best in the future."
   ]
  },
  {
   "cell_type": "markdown",
   "metadata": {},
   "source": [
    "### 2.5 Removing Outliers"
   ]
  },
  {
   "cell_type": "markdown",
   "metadata": {},
   "source": [
    "In order to refine our algorithm we are going to want to remove outliers, points that are too far beyond the realm of likelihood..."
   ]
  },
  {
   "cell_type": "code",
   "execution_count": 20,
   "metadata": {},
   "outputs": [
    {
     "data": {
      "text/plain": [
       "<seaborn.axisgrid.FacetGrid at 0x1a1f2ddfd0>"
      ]
     },
     "execution_count": 20,
     "metadata": {},
     "output_type": "execute_result"
    },
    {
     "data": {
      "image/png": "[encoded data removed]",
      "text/plain": [
       "<matplotlib.figure.Figure at 0x1a1f2dde10>"
      ]
     },
     "metadata": {},
     "output_type": "display_data"
    }
   ],
   "source": [
    "sns.lmplot('GrLivArea', # Horizontal axis\n",
    "           'SalePrice', # Vertical axis\n",
    "           data=house_train, # Data source\n",
    "           fit_reg=False, # Don't fix a regression line\n",
    "           scatter_kws={\"marker\": \"D\", # Set marker style\n",
    "                        \"alpha\": 1,\n",
    "                        \"s\": 1}) # S marker size"
   ]
  },
  {
   "cell_type": "code",
   "execution_count": 21,
   "metadata": {
    "collapsed": true
   },
   "outputs": [],
   "source": [
    "# Based on the author's paper, we will remove some of the outliers:\n",
    "house_train = house_train.drop(house_train[(house_train.GrLivArea > 4000) & (house_train['SalePrice']<300000)].index)"
   ]
  },
  {
   "cell_type": "markdown",
   "metadata": {},
   "source": [
    "## 3.0 Exploration, Unsupervised Learning"
   ]
  },
  {
   "cell_type": "markdown",
   "metadata": {},
   "source": [
    "Now we want to look for some more structure in the data. Are there discernible groups? What features are the primary drivers of SalePrice?\n",
    "\n",
    "First we will make some dummies for the categorical features so we can do PCA. "
   ]
  },
  {
   "cell_type": "code",
   "execution_count": 22,
   "metadata": {},
   "outputs": [
    {
     "name": "stderr",
     "output_type": "stream",
     "text": [
      "/anaconda/lib/python3.6/site-packages/pandas/core/frame.py:3027: SettingWithCopyWarning: \n",
      "A value is trying to be set on a copy of a slice from a DataFrame\n",
      "\n",
      "See the caveats in the documentation: http://pandas.pydata.org/pandas-docs/stable/indexing.html#indexing-view-versus-copy\n",
      "  return super(DataFrame, self).rename(**kwargs)\n",
      "/anaconda/lib/python3.6/site-packages/ipykernel_launcher.py:24: SettingWithCopyWarning: \n",
      "A value is trying to be set on a copy of a slice from a DataFrame\n",
      "\n",
      "See the caveats in the documentation: http://pandas.pydata.org/pandas-docs/stable/indexing.html#indexing-view-versus-copy\n",
      "/anaconda/lib/python3.6/site-packages/ipykernel_launcher.py:25: SettingWithCopyWarning: \n",
      "A value is trying to be set on a copy of a slice from a DataFrame\n",
      "\n",
      "See the caveats in the documentation: http://pandas.pydata.org/pandas-docs/stable/indexing.html#indexing-view-versus-copy\n"
     ]
    }
   ],
   "source": [
    "full_df = pd.concat(( house_train, house_test ))\n",
    "full_df_dummies  = pd.get_dummies(full_df)\n",
    "\n",
    "house_train_d = full_df_dummies[0:1456]\n",
    "house_test_d = full_df_dummies[1456:2915]\n",
    "\n",
    "# Fixing some column names:\n",
    "house_train_d.rename(index=str, columns={\"Exterior1st_Wd Sdng\": \"Exterior1st_Wd_Sdng\", \n",
    "                              \"HouseStyle_1.5Fin\": \"HouseStyle_1_5Fin\",\n",
    "                             \"HouseStyle_1.5Unf\": \"HouseStyle_1_5Unf\",\n",
    "                             \"HouseStyle_2.5Fin\": \"HouseStyle_2_5Fin\",\n",
    "                             \"HouseStyle_2.5Unf\": \"HouseStyle_2_5Unf\",\n",
    "                             \"Exterior2nd_Brk Cmn\": \"Exterior2nd_Brk_Cmn\",\n",
    "                             \"Exterior2nd_Wd Sdng\":\"Exterior2nd_Wd_Sdng\",\n",
    "                             \"RoofMatl_Tar&Grv\":\"RoofMatl_Tar_Grv\"}, inplace = True)\n",
    "house_test_d.rename(index=str, columns={\"Exterior1st_Wd Sdng\": \"Exterior1st_Wd_Sdng\", \n",
    "                              \"HouseStyle_1.5Fin\": \"HouseStyle_1_5Fin\",\n",
    "                             \"HouseStyle_1.5Unf\": \"HouseStyle_1_5Unf\",\n",
    "                             \"HouseStyle_2.5Fin\": \"HouseStyle_2_5Fin\",\n",
    "                             \"HouseStyle_2.5Unf\": \"HouseStyle_2_5Unf\",\n",
    "                              \"Exterior2nd_Brk Cmn\": \"Exterior2nd_Brk_Cmn\",\n",
    "                              \"Exterior2nd_Wd Sdng\":\"Exterior2nd_Wd_Sdng\",\n",
    "                              \"RoofMatl_Tar&Grv\":\"RoofMatl_Tar_Grv\"}, inplace = True)\n",
    "house_train_d.drop([\"MSZoning_C (all)\",\"Exterior2nd_Wd Shng\"], axis=1, inplace = True)\n",
    "house_test_d.drop([\"MSZoning_C (all)\",\"Exterior2nd_Wd Shng\"], axis=1, inplace = True)"
   ]
  },
  {
   "cell_type": "code",
   "execution_count": 23,
   "metadata": {},
   "outputs": [
    {
     "name": "stdout",
     "output_type": "stream",
     "text": [
      "(1458, 111)\n",
      "(1459, 110)\n",
      "(1456, 266)\n",
      "(1459, 265)\n"
     ]
    },
    {
     "name": "stderr",
     "output_type": "stream",
     "text": [
      "/anaconda/lib/python3.6/site-packages/ipykernel_launcher.py:1: SettingWithCopyWarning: \n",
      "A value is trying to be set on a copy of a slice from a DataFrame\n",
      "\n",
      "See the caveats in the documentation: http://pandas.pydata.org/pandas-docs/stable/indexing.html#indexing-view-versus-copy\n",
      "  \"\"\"Entry point for launching an IPython kernel.\n"
     ]
    }
   ],
   "source": [
    "house_test_d.drop(['SalePrice'], axis=1, inplace = True)\n",
    "\n",
    "# Putting SalePrice last, check that the columns are in same order...\n",
    "names = list(house_train_d.columns.values)\n",
    "cols = house_train_d.columns.tolist()\n",
    "cols = cols[0:70] + cols[71:269] + [cols[70]]\n",
    "house_train_d = house_train_d[cols] \n",
    "\n",
    "# Sanity Check\n",
    "print(house_train.shape)\n",
    "print(house_test.shape)\n",
    "print(house_train_d.shape)\n",
    "print(house_test_d.shape)"
   ]
  },
  {
   "cell_type": "code",
   "execution_count": 24,
   "metadata": {},
   "outputs": [
    {
     "data": {
      "text/plain": [
       "array([[ 2.95676560e-03,  1.74760579e-03,  1.64337881e-05, ...,\n",
       "         4.65812990e-09, -4.65812990e-09,  9.97890246e-01],\n",
       "       [ 3.27658539e-03, -1.40324160e-03,  2.23754170e-05, ...,\n",
       "        -3.07934481e-08,  3.07934481e-08, -6.28951572e-02],\n",
       "       [ 1.71252876e-01,  1.48955916e-01,  3.32225170e-04, ...,\n",
       "        -3.91610482e-07,  3.91610482e-07, -1.52808338e-02],\n",
       "       [ 3.18277853e-01, -6.18805380e-01,  1.88472687e-03, ...,\n",
       "        -4.02002741e-07,  4.02002741e-07, -2.05877187e-03],\n",
       "       [ 1.54197218e-02,  1.03820271e-01, -2.24717408e-04, ...,\n",
       "        -5.41576366e-08,  5.41576366e-08, -4.01316613e-03]])"
      ]
     },
     "execution_count": 24,
     "metadata": {},
     "output_type": "execute_result"
    }
   ],
   "source": [
    "pca = PCA(n_components=5)\n",
    "pca.fit(house_train_d)\n",
    "pca.components_ "
   ]
  },
  {
   "cell_type": "code",
   "execution_count": 27,
   "metadata": {},
   "outputs": [],
   "source": [
    "X = house_train_d.ix[:,0:265].values\n",
    "y = house_train_d.ix[:,265].values\n",
    "\n",
    "X_std = StandardScaler().fit_transform(X)"
   ]
  },
  {
   "cell_type": "code",
   "execution_count": 28,
   "metadata": {},
   "outputs": [
    {
     "data": {
      "text/plain": [
       "'file:///Users/adodd202/Documents/Bootcamp_Spring2018/HousingPricesML/temp-plot.html'"
      ]
     },
     "execution_count": 28,
     "metadata": {},
     "output_type": "execute_result"
    }
   ],
   "source": [
    "cov_mat = np.cov(X_std.T)\n",
    "\n",
    "eig_vals, eig_vecs = np.linalg.eig(cov_mat)\n",
    "\n",
    "# print('Eigenvectors \\n%s' %eig_vecs)\n",
    "# print('\\nEigenvalues \\n%s' %eig_vals)\n",
    "\n",
    "# for ev in eig_vecs:\n",
    "#     np.testing.assert_array_almost_equal(1.0, np.linalg.norm(ev))\n",
    "# print('Everything ok!')\n",
    "\n",
    "import plotly.plotly as py\n",
    "from plotly.graph_objs import *\n",
    "import plotly.tools as tls\n",
    "from plotly.offline import plot\n",
    "\n",
    "\n",
    "tot = sum(eig_vals.real)\n",
    "var_exp = [(i / tot)*100 for i in sorted(eig_vals.real, reverse=True)]\n",
    "cum_var_exp = np.cumsum(var_exp)\n",
    "\n",
    "trace1 = Bar(\n",
    "        x=['PC %s' %i for i in range(1,268)],\n",
    "        y=var_exp,\n",
    "        showlegend=False)\n",
    "\n",
    "trace2 = Scatter(\n",
    "        x=['PC %s' %i for i in range(1,268)], \n",
    "        y=cum_var_exp,\n",
    "        name='cumulative explained variance')\n",
    "\n",
    "data = Data([trace1, trace2])\n",
    "\n",
    "layout=Layout(\n",
    "        yaxis=YAxis(title='Explained variance in percent'),\n",
    "        title='Explained variance by different principal components')\n",
    "\n",
    "fig = Figure(data=data, layout=layout)\n",
    "\n",
    "# We see from this plot that the we could possibly reduce our features if we had the inclination...\n",
    "# I do not have the inclination at this time.\n",
    "plot(fig)"
   ]
  },
  {
   "cell_type": "markdown",
   "metadata": {},
   "source": [
    "## 4. Modeling and Prediction\n",
    "\n",
    "Here we add some potential models...\n",
    "\n",
    "Reference: \n",
    "https://www.kaggle.com/serigne/stacked-regressions-top-4-on-leaderboard\n",
    "https://www.kaggle.com/humananalog/xgboost-lasso/code"
   ]
  },
  {
   "cell_type": "markdown",
   "metadata": {},
   "source": [
    "### 4.1 Model 1: Linear, Lasso"
   ]
  },
  {
   "cell_type": "code",
   "execution_count": 77,
   "metadata": {},
   "outputs": [],
   "source": [
    "from sklearn.linear_model import Lasso\n",
    "from sklearn.metrics import mean_squared_error\n",
    "from sklearn.model_selection import train_test_split\n",
    "\n",
    "#########################################################################\n",
    "##### NOTE THE LOG, This is because error is calculated using log #######\n",
    "#########################################################################\n",
    "\n",
    "train = house_train_d.ix[:,0:265]\n",
    "target = house_train_d.ix[:,265]\n",
    "\n",
    "X_train, X_test, y_train, y_test = train_test_split(X, y, test_size=0.2, random_state=42)"
   ]
  },
  {
   "cell_type": "code",
   "execution_count": 78,
   "metadata": {
    "scrolled": true
   },
   "outputs": [],
   "source": [
    "# Lasso\n",
    "regr = Lasso(alpha=.0005, max_iter=50000, tol = .0001)\n",
    "regr.fit(train, target)\n",
    "\n",
    "# Run prediction on training set to get a rough idea of how well it does.\n",
    "y_pred = regr.predict(X_test)\n",
    "y_pred_lasso = y_pred"
   ]
  },
  {
   "cell_type": "code",
   "execution_count": 31,
   "metadata": {},
   "outputs": [
    {
     "name": "stdout",
     "output_type": "stream",
     "text": [
      "0.12317512348107965\n"
     ]
    }
   ],
   "source": [
    "def rmsle(y_true,y_pred):\n",
    "   assert len(y_true) == len(y_pred)\n",
    "   #return np.square(y_pred - y_true).mean() ** 0.5\n",
    "   return np.square(np.log(y_pred + 1) - np.log(y_true + 1)).mean() ** 0.5\n",
    "\n",
    "log_error = rmsle(y_test, y_pred)\n",
    "print(log_error)"
   ]
  },
  {
   "cell_type": "code",
   "execution_count": 31,
   "metadata": {},
   "outputs": [
    {
     "data": {
      "image/png": "[encoded data removed]",
      "text/plain": [
       "<matplotlib.figure.Figure at 0x1a1aa33978>"
      ]
     },
     "metadata": {},
     "output_type": "display_data"
    }
   ],
   "source": [
    "# Creating a scatter plot of the above results:\n",
    "ax = sns.regplot(x=y_pred, y=y_test,\n",
    "                 scatter_kws={\"marker\": \"D\", # Set marker style\n",
    "                        \"alpha\": .5,\n",
    "                        \"s\": 3})\n",
    "# Perfect world is a straight line.\n",
    "# Not too bad. Definitely room for improvement!"
   ]
  },
  {
   "cell_type": "markdown",
   "metadata": {},
   "source": [
    "### 4.2 Model 2: Random Forest"
   ]
  },
  {
   "cell_type": "code",
   "execution_count": 33,
   "metadata": {},
   "outputs": [
    {
     "name": "stdout",
     "output_type": "stream",
     "text": [
      "0.13780626403217083\n"
     ]
    }
   ],
   "source": [
    "from sklearn.ensemble import RandomForestRegressor\n",
    "\n",
    "regr = RandomForestRegressor(n_estimators=40, max_depth=10, random_state=0)\n",
    "regr.fit(X_train, y_train)\n",
    "\n",
    "y_pred = regr.predict(X_test)\n",
    "\n",
    "log_error = rmsle(y_test, y_pred)\n",
    "print(log_error)\n",
    "\n",
    "y_pred_rf = y_pred\n",
    "\n",
    "# Not the best score..."
   ]
  },
  {
   "cell_type": "markdown",
   "metadata": {},
   "source": [
    "### 4.3 Model 3: Kernel Ridge"
   ]
  },
  {
   "cell_type": "code",
   "execution_count": 34,
   "metadata": {},
   "outputs": [
    {
     "name": "stdout",
     "output_type": "stream",
     "text": [
      "0.14219913601663517\n"
     ]
    }
   ],
   "source": [
    "from sklearn.kernel_ridge import KernelRidge\n",
    "\n",
    "KRR = KernelRidge(alpha=1000000, kernel='polynomial', degree=2, coef0=2.5)\n",
    "KRR.fit(X_train,y_train)\n",
    "\n",
    "y_pred = KRR.predict(X_test)\n",
    "y_pred_krr = y_pred\n",
    "\n",
    "log_error = rmsle(y_test, y_pred)\n",
    "print(log_error)\n",
    "\n",
    "# Alpha higher than this leads to worse score..."
   ]
  },
  {
   "cell_type": "markdown",
   "metadata": {},
   "source": [
    "### Model 4: XGBoost"
   ]
  },
  {
   "cell_type": "code",
   "execution_count": 35,
   "metadata": {},
   "outputs": [
    {
     "name": "stdout",
     "output_type": "stream",
     "text": [
      "0.12055122708497598\n"
     ]
    }
   ],
   "source": [
    "import xgboost as xgb\n",
    "xgboost = xgb.XGBRegressor(\n",
    "                 colsample_bytree=0.2,\n",
    "                 gamma=0.0,\n",
    "                 learning_rate=0.01,\n",
    "                 max_depth=4,\n",
    "                 min_child_weight=1.5,\n",
    "                 n_estimators=7200,                                                                  \n",
    "                 reg_alpha=0.9,\n",
    "                 reg_lambda=0.6,\n",
    "                 subsample=0.2,\n",
    "                 seed=42,\n",
    "                 silent=1)\n",
    "\n",
    "xgboost.fit(X_train,y_train)\n",
    "\n",
    "y_pred = xgboost.predict(X_test)\n",
    "y_pred_xgb = y_pred\n",
    "\n",
    "log_error = rmsle(y_test, y_pred)\n",
    "print(log_error)"
   ]
  },
  {
   "cell_type": "markdown",
   "metadata": {},
   "source": [
    "### 4.4 Model 5: Neural Net"
   ]
  },
  {
   "cell_type": "markdown",
   "metadata": {},
   "source": [
    "#### 4.4.1 Preprocessing"
   ]
  },
  {
   "cell_type": "code",
   "execution_count": 137,
   "metadata": {},
   "outputs": [],
   "source": [
    "# Double checking for types and number of NaNs\n",
    "# house_test_d.columns.to_series().groupby(house_train_d.dtypes).groups\n",
    "# house_test_d.isnull().sum().sum()"
   ]
  },
  {
   "cell_type": "code",
   "execution_count": 54,
   "metadata": {},
   "outputs": [
    {
     "name": "stdout",
     "output_type": "stream",
     "text": [
      "(1456, 266)\n",
      "(1459, 265)\n"
     ]
    },
    {
     "data": {
      "text/html": [
       "<div>\n",
       "<style scoped>\n",
       "    .dataframe tbody tr th:only-of-type {\n",
       "        vertical-align: middle;\n",
       "    }\n",
       "\n",
       "    .dataframe tbody tr th {\n",
       "        vertical-align: top;\n",
       "    }\n",
       "\n",
       "    .dataframe thead th {\n",
       "        text-align: right;\n",
       "    }\n",
       "</style>\n",
       "<table border=\"1\" class=\"dataframe\">\n",
       "  <thead>\n",
       "    <tr style=\"text-align: right;\">\n",
       "      <th></th>\n",
       "      <th>1stFlrSF</th>\n",
       "      <th>2ndFlrSF</th>\n",
       "      <th>3SsnPorch</th>\n",
       "      <th>Age</th>\n",
       "      <th>BadHeating</th>\n",
       "      <th>Bedroom</th>\n",
       "      <th>BoughtOffPlan</th>\n",
       "      <th>BsmtCond</th>\n",
       "      <th>BsmtExposure</th>\n",
       "      <th>BsmtFinSF1</th>\n",
       "      <th>...</th>\n",
       "      <th>SaleType_ConLI</th>\n",
       "      <th>SaleType_ConLw</th>\n",
       "      <th>SaleType_New</th>\n",
       "      <th>SaleType_Oth</th>\n",
       "      <th>SaleType_WD</th>\n",
       "      <th>Street_Grvl</th>\n",
       "      <th>Street_Pave</th>\n",
       "      <th>Utilities_AllPub</th>\n",
       "      <th>Utilities_NoSeWa</th>\n",
       "      <th>SalePrice</th>\n",
       "    </tr>\n",
       "  </thead>\n",
       "  <tbody>\n",
       "    <tr>\n",
       "      <th>0</th>\n",
       "      <td>0.180373</td>\n",
       "      <td>0.413559</td>\n",
       "      <td>0.0</td>\n",
       "      <td>0.050725</td>\n",
       "      <td>0.0</td>\n",
       "      <td>0.375</td>\n",
       "      <td>0.0</td>\n",
       "      <td>0.75</td>\n",
       "      <td>0.000000</td>\n",
       "      <td>0.322669</td>\n",
       "      <td>...</td>\n",
       "      <td>0.0</td>\n",
       "      <td>0.0</td>\n",
       "      <td>0.0</td>\n",
       "      <td>0.0</td>\n",
       "      <td>1.0</td>\n",
       "      <td>0.0</td>\n",
       "      <td>1.0</td>\n",
       "      <td>1.0</td>\n",
       "      <td>0.0</td>\n",
       "      <td>208500.0</td>\n",
       "    </tr>\n",
       "    <tr>\n",
       "      <th>1</th>\n",
       "      <td>0.320663</td>\n",
       "      <td>0.000000</td>\n",
       "      <td>0.0</td>\n",
       "      <td>0.246377</td>\n",
       "      <td>0.0</td>\n",
       "      <td>0.375</td>\n",
       "      <td>0.0</td>\n",
       "      <td>0.75</td>\n",
       "      <td>1.000000</td>\n",
       "      <td>0.446984</td>\n",
       "      <td>...</td>\n",
       "      <td>0.0</td>\n",
       "      <td>0.0</td>\n",
       "      <td>0.0</td>\n",
       "      <td>0.0</td>\n",
       "      <td>1.0</td>\n",
       "      <td>0.0</td>\n",
       "      <td>1.0</td>\n",
       "      <td>1.0</td>\n",
       "      <td>0.0</td>\n",
       "      <td>181500.0</td>\n",
       "    </tr>\n",
       "    <tr>\n",
       "      <th>2</th>\n",
       "      <td>0.202488</td>\n",
       "      <td>0.419370</td>\n",
       "      <td>0.0</td>\n",
       "      <td>0.065217</td>\n",
       "      <td>0.0</td>\n",
       "      <td>0.375</td>\n",
       "      <td>0.0</td>\n",
       "      <td>0.75</td>\n",
       "      <td>0.333333</td>\n",
       "      <td>0.222121</td>\n",
       "      <td>...</td>\n",
       "      <td>0.0</td>\n",
       "      <td>0.0</td>\n",
       "      <td>0.0</td>\n",
       "      <td>0.0</td>\n",
       "      <td>1.0</td>\n",
       "      <td>0.0</td>\n",
       "      <td>1.0</td>\n",
       "      <td>1.0</td>\n",
       "      <td>0.0</td>\n",
       "      <td>223500.0</td>\n",
       "    </tr>\n",
       "    <tr>\n",
       "      <th>3</th>\n",
       "      <td>0.216655</td>\n",
       "      <td>0.366102</td>\n",
       "      <td>0.0</td>\n",
       "      <td>0.688406</td>\n",
       "      <td>0.0</td>\n",
       "      <td>0.375</td>\n",
       "      <td>0.0</td>\n",
       "      <td>1.00</td>\n",
       "      <td>0.000000</td>\n",
       "      <td>0.098720</td>\n",
       "      <td>...</td>\n",
       "      <td>0.0</td>\n",
       "      <td>0.0</td>\n",
       "      <td>0.0</td>\n",
       "      <td>0.0</td>\n",
       "      <td>1.0</td>\n",
       "      <td>0.0</td>\n",
       "      <td>1.0</td>\n",
       "      <td>1.0</td>\n",
       "      <td>0.0</td>\n",
       "      <td>140000.0</td>\n",
       "    </tr>\n",
       "    <tr>\n",
       "      <th>4</th>\n",
       "      <td>0.280235</td>\n",
       "      <td>0.509927</td>\n",
       "      <td>0.0</td>\n",
       "      <td>0.072464</td>\n",
       "      <td>0.0</td>\n",
       "      <td>0.500</td>\n",
       "      <td>0.0</td>\n",
       "      <td>0.75</td>\n",
       "      <td>0.666667</td>\n",
       "      <td>0.299360</td>\n",
       "      <td>...</td>\n",
       "      <td>0.0</td>\n",
       "      <td>0.0</td>\n",
       "      <td>0.0</td>\n",
       "      <td>0.0</td>\n",
       "      <td>1.0</td>\n",
       "      <td>0.0</td>\n",
       "      <td>1.0</td>\n",
       "      <td>1.0</td>\n",
       "      <td>0.0</td>\n",
       "      <td>250000.0</td>\n",
       "    </tr>\n",
       "  </tbody>\n",
       "</table>\n",
       "<p>5 rows × 266 columns</p>\n",
       "</div>"
      ],
      "text/plain": [
       "   1stFlrSF  2ndFlrSF  3SsnPorch       Age  BadHeating  Bedroom  \\\n",
       "0  0.180373  0.413559        0.0  0.050725         0.0    0.375   \n",
       "1  0.320663  0.000000        0.0  0.246377         0.0    0.375   \n",
       "2  0.202488  0.419370        0.0  0.065217         0.0    0.375   \n",
       "3  0.216655  0.366102        0.0  0.688406         0.0    0.375   \n",
       "4  0.280235  0.509927        0.0  0.072464         0.0    0.500   \n",
       "\n",
       "   BoughtOffPlan  BsmtCond  BsmtExposure  BsmtFinSF1    ...      \\\n",
       "0            0.0      0.75      0.000000    0.322669    ...       \n",
       "1            0.0      0.75      1.000000    0.446984    ...       \n",
       "2            0.0      0.75      0.333333    0.222121    ...       \n",
       "3            0.0      1.00      0.000000    0.098720    ...       \n",
       "4            0.0      0.75      0.666667    0.299360    ...       \n",
       "\n",
       "   SaleType_ConLI  SaleType_ConLw  SaleType_New  SaleType_Oth  SaleType_WD  \\\n",
       "0             0.0             0.0           0.0           0.0          1.0   \n",
       "1             0.0             0.0           0.0           0.0          1.0   \n",
       "2             0.0             0.0           0.0           0.0          1.0   \n",
       "3             0.0             0.0           0.0           0.0          1.0   \n",
       "4             0.0             0.0           0.0           0.0          1.0   \n",
       "\n",
       "   Street_Grvl  Street_Pave  Utilities_AllPub  Utilities_NoSeWa  SalePrice  \n",
       "0          0.0          1.0               1.0               0.0   208500.0  \n",
       "1          0.0          1.0               1.0               0.0   181500.0  \n",
       "2          0.0          1.0               1.0               0.0   223500.0  \n",
       "3          0.0          1.0               1.0               0.0   140000.0  \n",
       "4          0.0          1.0               1.0               0.0   250000.0  \n",
       "\n",
       "[5 rows x 266 columns]"
      ]
     },
     "execution_count": 54,
     "metadata": {},
     "output_type": "execute_result"
    }
   ],
   "source": [
    "import warnings\n",
    "import tensorflow as tf\n",
    "from sklearn.preprocessing import MinMaxScaler\n",
    "\n",
    "warnings.filterwarnings('ignore')\n",
    "\n",
    "train = house_train_d.ix[:,0:265]\n",
    "test = house_test_d\n",
    "\n",
    "col_train = list(train.columns)\n",
    "col_train_bis = list(train.columns)\n",
    "\n",
    "#col_train_bis.remove('SalePrice')\n",
    "\n",
    "\n",
    "mat_train = np.matrix(train) # matrix from train (1456 rows)\n",
    "mat_test  = np.matrix(test)  # matrix from test( ~1456 rows)\n",
    "# mat_new = np.matrix(train.drop('SalePrice',axis = 1))  # mat_train but removing sale price\n",
    "# mat_y = np.array(train.SalePrice).reshape((1456,1))   # just sale price\n",
    "\n",
    "# Scaling mat_y\n",
    "#prepro_y = MinMaxScaler()\n",
    "#prepro_y.fit(mat_y)\n",
    "\n",
    "# Scaling mat_test\n",
    "prepro_test = MinMaxScaler()\n",
    "prepro_test.fit(mat_test)\n",
    "\n",
    "# Scaling mat_train\n",
    "prepro = MinMaxScaler()\n",
    "mat_train_part = mat_train[:,0:265]\n",
    "prepro.fit(mat_train_part)\n",
    "\n",
    "# Scaling mat_new\n",
    "#prepro_test = MinMaxScaler()\n",
    "#prepro_test.fit(mat_new)\n",
    "\n",
    "train = pd.DataFrame(prepro.transform(mat_train_part),columns = col_train)\n",
    "\n",
    "train.assign(SalePrice = house_train['SalePrice'], inplace = True)\n",
    "l1 = list(house_train_d['SalePrice'])\n",
    "train['SalePrice'] = l1\n",
    "\n",
    "test  = pd.DataFrame(prepro_test.transform(mat_test),columns = col_train_bis)\n",
    "\n",
    "print(train.shape)\n",
    "print(test.shape)\n",
    "train.head()"
   ]
  },
  {
   "cell_type": "markdown",
   "metadata": {},
   "source": [
    "### 4.4.2 Setup (cont.) and Training/Testing"
   ]
  },
  {
   "cell_type": "code",
   "execution_count": 57,
   "metadata": {},
   "outputs": [],
   "source": [
    "# List of features\n",
    "COLUMNS = col_train\n",
    "FEATURES = col_train_bis\n",
    "LABEL = \"SalePrice\"\n",
    "\n",
    "# Columns for tensorflow\n",
    "feature_cols = [tf.contrib.layers.real_valued_column(k) for k in FEATURES]\n",
    "\n",
    "# Training set and Prediction set with the features to predict\n",
    "training_set = train[COLUMNS]\n",
    "prediction_set = train.SalePrice\n",
    "\n",
    "#print(training_set.shape)\n",
    "#print(prediction_set)\n",
    "\n",
    "# Train and Test \n",
    "x_train, x_test, y_train, y_test = train_test_split(training_set[FEATURES] , prediction_set, test_size=0.33, random_state=42)\n",
    "y_train = pd.DataFrame(y_train, columns = [LABEL])\n",
    "training_set = pd.DataFrame(x_train, columns = FEATURES).merge(y_train, left_index = True, right_index = True)\n",
    "training_set.head()\n",
    "\n",
    "# Training for submission\n",
    "training_sub = training_set[col_train]"
   ]
  },
  {
   "cell_type": "code",
   "execution_count": 58,
   "metadata": {},
   "outputs": [
    {
     "data": {
      "text/html": [
       "<div>\n",
       "<style scoped>\n",
       "    .dataframe tbody tr th:only-of-type {\n",
       "        vertical-align: middle;\n",
       "    }\n",
       "\n",
       "    .dataframe tbody tr th {\n",
       "        vertical-align: top;\n",
       "    }\n",
       "\n",
       "    .dataframe thead th {\n",
       "        text-align: right;\n",
       "    }\n",
       "</style>\n",
       "<table border=\"1\" class=\"dataframe\">\n",
       "  <thead>\n",
       "    <tr style=\"text-align: right;\">\n",
       "      <th></th>\n",
       "      <th>1stFlrSF</th>\n",
       "      <th>2ndFlrSF</th>\n",
       "      <th>3SsnPorch</th>\n",
       "      <th>Age</th>\n",
       "      <th>BadHeating</th>\n",
       "      <th>Bedroom</th>\n",
       "      <th>BoughtOffPlan</th>\n",
       "      <th>BsmtCond</th>\n",
       "      <th>BsmtExposure</th>\n",
       "      <th>BsmtFinSF1</th>\n",
       "      <th>...</th>\n",
       "      <th>SaleType_ConLI</th>\n",
       "      <th>SaleType_ConLw</th>\n",
       "      <th>SaleType_New</th>\n",
       "      <th>SaleType_Oth</th>\n",
       "      <th>SaleType_WD</th>\n",
       "      <th>Street_Grvl</th>\n",
       "      <th>Street_Pave</th>\n",
       "      <th>Utilities_AllPub</th>\n",
       "      <th>Utilities_NoSeWa</th>\n",
       "      <th>SalePrice</th>\n",
       "    </tr>\n",
       "  </thead>\n",
       "  <tbody>\n",
       "    <tr>\n",
       "      <th>497</th>\n",
       "      <td>0.276088</td>\n",
       "      <td>0.332688</td>\n",
       "      <td>0.0</td>\n",
       "      <td>0.615942</td>\n",
       "      <td>0.0</td>\n",
       "      <td>0.500</td>\n",
       "      <td>0.0</td>\n",
       "      <td>0.75</td>\n",
       "      <td>0.000000</td>\n",
       "      <td>0.150366</td>\n",
       "      <td>...</td>\n",
       "      <td>0.0</td>\n",
       "      <td>0.0</td>\n",
       "      <td>0.0</td>\n",
       "      <td>0.0</td>\n",
       "      <td>1.0</td>\n",
       "      <td>0.0</td>\n",
       "      <td>1.0</td>\n",
       "      <td>1.0</td>\n",
       "      <td>0.0</td>\n",
       "      <td>184000.0</td>\n",
       "    </tr>\n",
       "    <tr>\n",
       "      <th>1261</th>\n",
       "      <td>0.266068</td>\n",
       "      <td>0.331235</td>\n",
       "      <td>0.0</td>\n",
       "      <td>0.384058</td>\n",
       "      <td>0.0</td>\n",
       "      <td>0.625</td>\n",
       "      <td>0.0</td>\n",
       "      <td>0.75</td>\n",
       "      <td>0.666667</td>\n",
       "      <td>0.000000</td>\n",
       "      <td>...</td>\n",
       "      <td>0.0</td>\n",
       "      <td>0.0</td>\n",
       "      <td>0.0</td>\n",
       "      <td>0.0</td>\n",
       "      <td>1.0</td>\n",
       "      <td>0.0</td>\n",
       "      <td>1.0</td>\n",
       "      <td>1.0</td>\n",
       "      <td>0.0</td>\n",
       "      <td>161500.0</td>\n",
       "    </tr>\n",
       "    <tr>\n",
       "      <th>411</th>\n",
       "      <td>0.249482</td>\n",
       "      <td>0.000000</td>\n",
       "      <td>0.0</td>\n",
       "      <td>0.398551</td>\n",
       "      <td>0.0</td>\n",
       "      <td>0.375</td>\n",
       "      <td>0.0</td>\n",
       "      <td>0.75</td>\n",
       "      <td>0.333333</td>\n",
       "      <td>0.482633</td>\n",
       "      <td>...</td>\n",
       "      <td>0.0</td>\n",
       "      <td>0.0</td>\n",
       "      <td>0.0</td>\n",
       "      <td>0.0</td>\n",
       "      <td>1.0</td>\n",
       "      <td>0.0</td>\n",
       "      <td>1.0</td>\n",
       "      <td>1.0</td>\n",
       "      <td>0.0</td>\n",
       "      <td>145000.0</td>\n",
       "    </tr>\n",
       "    <tr>\n",
       "      <th>1046</th>\n",
       "      <td>0.226676</td>\n",
       "      <td>0.000000</td>\n",
       "      <td>0.0</td>\n",
       "      <td>0.115942</td>\n",
       "      <td>0.0</td>\n",
       "      <td>0.375</td>\n",
       "      <td>0.0</td>\n",
       "      <td>0.75</td>\n",
       "      <td>0.000000</td>\n",
       "      <td>0.313528</td>\n",
       "      <td>...</td>\n",
       "      <td>0.0</td>\n",
       "      <td>0.0</td>\n",
       "      <td>0.0</td>\n",
       "      <td>0.0</td>\n",
       "      <td>1.0</td>\n",
       "      <td>0.0</td>\n",
       "      <td>1.0</td>\n",
       "      <td>1.0</td>\n",
       "      <td>0.0</td>\n",
       "      <td>145000.0</td>\n",
       "    </tr>\n",
       "    <tr>\n",
       "      <th>1033</th>\n",
       "      <td>0.214236</td>\n",
       "      <td>0.000000</td>\n",
       "      <td>0.0</td>\n",
       "      <td>0.521739</td>\n",
       "      <td>0.0</td>\n",
       "      <td>0.250</td>\n",
       "      <td>0.0</td>\n",
       "      <td>0.50</td>\n",
       "      <td>0.000000</td>\n",
       "      <td>0.000000</td>\n",
       "      <td>...</td>\n",
       "      <td>0.0</td>\n",
       "      <td>0.0</td>\n",
       "      <td>0.0</td>\n",
       "      <td>0.0</td>\n",
       "      <td>1.0</td>\n",
       "      <td>0.0</td>\n",
       "      <td>1.0</td>\n",
       "      <td>1.0</td>\n",
       "      <td>0.0</td>\n",
       "      <td>119750.0</td>\n",
       "    </tr>\n",
       "  </tbody>\n",
       "</table>\n",
       "<p>5 rows × 266 columns</p>\n",
       "</div>"
      ],
      "text/plain": [
       "      1stFlrSF  2ndFlrSF  3SsnPorch       Age  BadHeating  Bedroom  \\\n",
       "497   0.276088  0.332688        0.0  0.615942         0.0    0.500   \n",
       "1261  0.266068  0.331235        0.0  0.384058         0.0    0.625   \n",
       "411   0.249482  0.000000        0.0  0.398551         0.0    0.375   \n",
       "1046  0.226676  0.000000        0.0  0.115942         0.0    0.375   \n",
       "1033  0.214236  0.000000        0.0  0.521739         0.0    0.250   \n",
       "\n",
       "      BoughtOffPlan  BsmtCond  BsmtExposure  BsmtFinSF1    ...      \\\n",
       "497             0.0      0.75      0.000000    0.150366    ...       \n",
       "1261            0.0      0.75      0.666667    0.000000    ...       \n",
       "411             0.0      0.75      0.333333    0.482633    ...       \n",
       "1046            0.0      0.75      0.000000    0.313528    ...       \n",
       "1033            0.0      0.50      0.000000    0.000000    ...       \n",
       "\n",
       "      SaleType_ConLI  SaleType_ConLw  SaleType_New  SaleType_Oth  SaleType_WD  \\\n",
       "497              0.0             0.0           0.0           0.0          1.0   \n",
       "1261             0.0             0.0           0.0           0.0          1.0   \n",
       "411              0.0             0.0           0.0           0.0          1.0   \n",
       "1046             0.0             0.0           0.0           0.0          1.0   \n",
       "1033             0.0             0.0           0.0           0.0          1.0   \n",
       "\n",
       "      Street_Grvl  Street_Pave  Utilities_AllPub  Utilities_NoSeWa  SalePrice  \n",
       "497           0.0          1.0               1.0               0.0   184000.0  \n",
       "1261          0.0          1.0               1.0               0.0   161500.0  \n",
       "411           0.0          1.0               1.0               0.0   145000.0  \n",
       "1046          0.0          1.0               1.0               0.0   145000.0  \n",
       "1033          0.0          1.0               1.0               0.0   119750.0  \n",
       "\n",
       "[5 rows x 266 columns]"
      ]
     },
     "execution_count": 58,
     "metadata": {},
     "output_type": "execute_result"
    }
   ],
   "source": [
    "# Same thing but for the test set\n",
    "y_test = pd.DataFrame(y_test, columns = [LABEL])\n",
    "testing_set = pd.DataFrame(x_test, columns = FEATURES).merge(y_test, left_index = True, right_index = True)\n",
    "testing_set.head()"
   ]
  },
  {
   "cell_type": "code",
   "execution_count": 59,
   "metadata": {
    "collapsed": true
   },
   "outputs": [],
   "source": [
    "# Reset the index of training\n",
    "training_set.reset_index(drop = True, inplace =True)"
   ]
  },
  {
   "cell_type": "code",
   "execution_count": 60,
   "metadata": {
    "collapsed": true
   },
   "outputs": [],
   "source": [
    "def input_fn(data_set, pred = False):\n",
    "    \n",
    "    if pred == False:\n",
    "        \n",
    "        feature_cols = {k: tf.constant(data_set[k].values) for k in FEATURES}\n",
    "        labels = tf.constant(data_set[LABEL].values)\n",
    "        \n",
    "        return feature_cols, labels\n",
    "\n",
    "    if pred == True:\n",
    "        feature_cols = {k: tf.constant(data_set[k].values) for k in FEATURES}\n",
    "        \n",
    "        return feature_cols"
   ]
  },
  {
   "cell_type": "code",
   "execution_count": 61,
   "metadata": {},
   "outputs": [],
   "source": [
    "# print(COLUMNS)"
   ]
  },
  {
   "cell_type": "code",
   "execution_count": 62,
   "metadata": {},
   "outputs": [],
   "source": [
    "import tensorflow as tf\n",
    "tf.Session()\n",
    "\n",
    "# Model\n",
    "tf.logging.set_verbosity(tf.logging.ERROR)\n",
    "regressor = tf.contrib.learn.DNNRegressor(feature_columns=feature_cols, \n",
    "                                          activation_fn = tf.nn.relu, \n",
    "                                          hidden_units=[200,100,50,25,12])#, #100 removed                              \n",
    "                                          #optimizer = tf.train.GradientDescentOptimizer( learning_rate= 0.1 ))\n",
    "                                          #optimizer = tf.train.AdamOptimizer(learning_rate=.1))\n",
    "training_set.reset_index(drop = True, inplace =True)"
   ]
  },
  {
   "cell_type": "code",
   "execution_count": 65,
   "metadata": {},
   "outputs": [
    {
     "data": {
      "text/plain": [
       "DNNRegressor(params={'head': <tensorflow.contrib.learn.python.learn.estimators.head._RegressionHead object at 0x1a2f4785f8>, 'hidden_units': [200, 100, 50, 25, 12], 'feature_columns': (_RealValuedColumn(column_name='1stFlrSF', dimension=1, default_value=None, dtype=tf.float32, normalizer=None), _RealValuedColumn(column_name='2ndFlrSF', dimension=1, default_value=None, dtype=tf.float32, normalizer=None), _RealValuedColumn(column_name='3SsnPorch', dimension=1, default_value=None, dtype=tf.float32, normalizer=None), _RealValuedColumn(column_name='Age', dimension=1, default_value=None, dtype=tf.float32, normalizer=None), _RealValuedColumn(column_name='BadHeating', dimension=1, default_value=None, dtype=tf.float32, normalizer=None), _RealValuedColumn(column_name='Bedroom', dimension=1, default_value=None, dtype=tf.float32, normalizer=None), _RealValuedColumn(column_name='BoughtOffPlan', dimension=1, default_value=None, dtype=tf.float32, normalizer=None), _RealValuedColumn(column_name='BsmtCond', dimension=1, default_value=None, dtype=tf.float32, normalizer=None), _RealValuedColumn(column_name='BsmtExposure', dimension=1, default_value=None, dtype=tf.float32, normalizer=None), _RealValuedColumn(column_name='BsmtFinSF1', dimension=1, default_value=None, dtype=tf.float32, normalizer=None), _RealValuedColumn(column_name='BsmtFinSF2', dimension=1, default_value=None, dtype=tf.float32, normalizer=None), _RealValuedColumn(column_name='BsmtFinType1', dimension=1, default_value=None, dtype=tf.float32, normalizer=None), _RealValuedColumn(column_name='BsmtFinType2', dimension=1, default_value=None, dtype=tf.float32, normalizer=None), _RealValuedColumn(column_name='BsmtFullBath', dimension=1, default_value=None, dtype=tf.float32, normalizer=None), _RealValuedColumn(column_name='BsmtHalfBath', dimension=1, default_value=None, dtype=tf.float32, normalizer=None), _RealValuedColumn(column_name='BsmtQual', dimension=1, default_value=None, dtype=tf.float32, normalizer=None), _RealValuedColumn(column_name='BsmtUnfSF', dimension=1, default_value=None, dtype=tf.float32, normalizer=None), _RealValuedColumn(column_name='CentralAir', dimension=1, default_value=None, dtype=tf.float32, normalizer=None), _RealValuedColumn(column_name='EnclosedPorch', dimension=1, default_value=None, dtype=tf.float32, normalizer=None), _RealValuedColumn(column_name='ExterCond', dimension=1, default_value=None, dtype=tf.float32, normalizer=None), _RealValuedColumn(column_name='ExterQual', dimension=1, default_value=None, dtype=tf.float32, normalizer=None), _RealValuedColumn(column_name='Fence', dimension=1, default_value=None, dtype=tf.float32, normalizer=None), _RealValuedColumn(column_name='FireplaceQu', dimension=1, default_value=None, dtype=tf.float32, normalizer=None), _RealValuedColumn(column_name='Fireplaces', dimension=1, default_value=None, dtype=tf.float32, normalizer=None), _RealValuedColumn(column_name='FullBath', dimension=1, default_value=None, dtype=tf.float32, normalizer=None), _RealValuedColumn(column_name='Functional', dimension=1, default_value=None, dtype=tf.float32, normalizer=None), _RealValuedColumn(column_name='GarageArea', dimension=1, default_value=None, dtype=tf.float32, normalizer=None), _RealValuedColumn(column_name='GarageCars', dimension=1, default_value=None, dtype=tf.float32, normalizer=None), _RealValuedColumn(column_name='GarageCond', dimension=1, default_value=None, dtype=tf.float32, normalizer=None), _RealValuedColumn(column_name='GarageFinish', dimension=1, default_value=None, dtype=tf.float32, normalizer=None), _RealValuedColumn(column_name='GarageQual', dimension=1, default_value=None, dtype=tf.float32, normalizer=None), _RealValuedColumn(column_name='GarageYrBlt', dimension=1, default_value=None, dtype=tf.float32, normalizer=None), _RealValuedColumn(column_name='GrLivArea', dimension=1, default_value=None, dtype=tf.float32, normalizer=None), _RealValuedColumn(column_name='HalfBath', dimension=1, default_value=None, dtype=tf.float32, normalizer=None), _RealValuedColumn(column_name='Has2ndFloor', dimension=1, default_value=None, dtype=tf.float32, normalizer=None), _RealValuedColumn(column_name='Has3SsnPorch', dimension=1, default_value=None, dtype=tf.float32, normalizer=None), _RealValuedColumn(column_name='HasEnclosedPorch', dimension=1, default_value=None, dtype=tf.float32, normalizer=None), _RealValuedColumn(column_name='HasMasVnr', dimension=1, default_value=None, dtype=tf.float32, normalizer=None), _RealValuedColumn(column_name='HasOpenPorch', dimension=1, default_value=None, dtype=tf.float32, normalizer=None), _RealValuedColumn(column_name='HasScreenPorch', dimension=1, default_value=None, dtype=tf.float32, normalizer=None), _RealValuedColumn(column_name='HasShed', dimension=1, default_value=None, dtype=tf.float32, normalizer=None), _RealValuedColumn(column_name='HasWoodDeck', dimension=1, default_value=None, dtype=tf.float32, normalizer=None), _RealValuedColumn(column_name='HeatingQC', dimension=1, default_value=None, dtype=tf.float32, normalizer=None), _RealValuedColumn(column_name='HighSeason', dimension=1, default_value=None, dtype=tf.float32, normalizer=None), _RealValuedColumn(column_name='Id', dimension=1, default_value=None, dtype=tf.float32, normalizer=None), _RealValuedColumn(column_name='IsElectricalSBrkr', dimension=1, default_value=None, dtype=tf.float32, normalizer=None), _RealValuedColumn(column_name='IsGarageDetached', dimension=1, default_value=None, dtype=tf.float32, normalizer=None), _RealValuedColumn(column_name='IsLandLevel', dimension=1, default_value=None, dtype=tf.float32, normalizer=None), _RealValuedColumn(column_name='IsLandSlopeGentle', dimension=1, default_value=None, dtype=tf.float32, normalizer=None), _RealValuedColumn(column_name='IsPavedDrive', dimension=1, default_value=None, dtype=tf.float32, normalizer=None), _RealValuedColumn(column_name='IsRegularLotShape', dimension=1, default_value=None, dtype=tf.float32, normalizer=None), _RealValuedColumn(column_name='Kitchen', dimension=1, default_value=None, dtype=tf.float32, normalizer=None), _RealValuedColumn(column_name='KitchenQual', dimension=1, default_value=None, dtype=tf.float32, normalizer=None), _RealValuedColumn(column_name='LotArea', dimension=1, default_value=None, dtype=tf.float32, normalizer=None), _RealValuedColumn(column_name='LotFrontage', dimension=1, default_value=None, dtype=tf.float32, normalizer=None), _RealValuedColumn(column_name='LowQualFinSF', dimension=1, default_value=None, dtype=tf.float32, normalizer=None), _RealValuedColumn(column_name='MSSubClass', dimension=1, default_value=None, dtype=tf.float32, normalizer=None), _RealValuedColumn(column_name='MasVnrArea', dimension=1, default_value=None, dtype=tf.float32, normalizer=None), _RealValuedColumn(column_name='MiscVal', dimension=1, default_value=None, dtype=tf.float32, normalizer=None), _RealValuedColumn(column_name='MoSold', dimension=1, default_value=None, dtype=tf.float32, normalizer=None), _RealValuedColumn(column_name='NeighborhoodBin', dimension=1, default_value=None, dtype=tf.float32, normalizer=None), _RealValuedColumn(column_name='Neighborhood_Good', dimension=1, default_value=None, dtype=tf.float32, normalizer=None), _RealValuedColumn(column_name='NewerDwelling', dimension=1, default_value=None, dtype=tf.float32, normalizer=None), _RealValuedColumn(column_name='OpenPorchSF', dimension=1, default_value=None, dtype=tf.float32, normalizer=None), _RealValuedColumn(column_name='OverallCond', dimension=1, default_value=None, dtype=tf.float32, normalizer=None), _RealValuedColumn(column_name='OverallQual', dimension=1, default_value=None, dtype=tf.float32, normalizer=None), _RealValuedColumn(column_name='PoolArea', dimension=1, default_value=None, dtype=tf.float32, normalizer=None), _RealValuedColumn(column_name='RecentRemodel', dimension=1, default_value=None, dtype=tf.float32, normalizer=None), _RealValuedColumn(column_name='Remodeled', dimension=1, default_value=None, dtype=tf.float32, normalizer=None), _RealValuedColumn(column_name='SaleCondition_PriceDown', dimension=1, default_value=None, dtype=tf.float32, normalizer=None), _RealValuedColumn(column_name='ScreenPorch', dimension=1, default_value=None, dtype=tf.float32, normalizer=None), _RealValuedColumn(column_name='SeasonSold', dimension=1, default_value=None, dtype=tf.float32, normalizer=None), _RealValuedColumn(column_name='TimeSinceSold', dimension=1, default_value=None, dtype=tf.float32, normalizer=None), _RealValuedColumn(column_name='TotRmsAbvGrd', dimension=1, default_value=None, dtype=tf.float32, normalizer=None), _RealValuedColumn(column_name='TotalArea', dimension=1, default_value=None, dtype=tf.float32, normalizer=None), _RealValuedColumn(column_name='TotalArea1st2nd', dimension=1, default_value=None, dtype=tf.float32, normalizer=None), _RealValuedColumn(column_name='TotalBsmtSF', dimension=1, default_value=None, dtype=tf.float32, normalizer=None), _RealValuedColumn(column_name='VeryNewHouse', dimension=1, default_value=None, dtype=tf.float32, normalizer=None), _RealValuedColumn(column_name='WoodDeckSF', dimension=1, default_value=None, dtype=tf.float32, normalizer=None), _RealValuedColumn(column_name='YearBuilt', dimension=1, default_value=None, dtype=tf.float32, normalizer=None), _RealValuedColumn(column_name='YearRemodAdd', dimension=1, default_value=None, dtype=tf.float32, normalizer=None), _RealValuedColumn(column_name='YearsSinceRemodel', dimension=1, default_value=None, dtype=tf.float32, normalizer=None), _RealValuedColumn(column_name='YrSold', dimension=1, default_value=None, dtype=tf.float32, normalizer=None), _RealValuedColumn(column_name='Alley_Grvl', dimension=1, default_value=None, dtype=tf.float32, normalizer=None), _RealValuedColumn(column_name='Alley_No', dimension=1, default_value=None, dtype=tf.float32, normalizer=None), _RealValuedColumn(column_name='Alley_Pave', dimension=1, default_value=None, dtype=tf.float32, normalizer=None), _RealValuedColumn(column_name='BldgType_1Fam', dimension=1, default_value=None, dtype=tf.float32, normalizer=None), _RealValuedColumn(column_name='BldgType_2fmCon', dimension=1, default_value=None, dtype=tf.float32, normalizer=None), _RealValuedColumn(column_name='BldgType_Duplex', dimension=1, default_value=None, dtype=tf.float32, normalizer=None), _RealValuedColumn(column_name='BldgType_Twnhs', dimension=1, default_value=None, dtype=tf.float32, normalizer=None), _RealValuedColumn(column_name='BldgType_TwnhsE', dimension=1, default_value=None, dtype=tf.float32, normalizer=None), _RealValuedColumn(column_name='Condition1_Artery', dimension=1, default_value=None, dtype=tf.float32, normalizer=None), _RealValuedColumn(column_name='Condition1_Feedr', dimension=1, default_value=None, dtype=tf.float32, normalizer=None), _RealValuedColumn(column_name='Condition1_Norm', dimension=1, default_value=None, dtype=tf.float32, normalizer=None), _RealValuedColumn(column_name='Condition1_PosA', dimension=1, default_value=None, dtype=tf.float32, normalizer=None), _RealValuedColumn(column_name='Condition1_PosN', dimension=1, default_value=None, dtype=tf.float32, normalizer=None), _RealValuedColumn(column_name='Condition1_RRAe', dimension=1, default_value=None, dtype=tf.float32, normalizer=None), _RealValuedColumn(column_name='Condition1_RRAn', dimension=1, default_value=None, dtype=tf.float32, normalizer=None), _RealValuedColumn(column_name='Condition1_RRNe', dimension=1, default_value=None, dtype=tf.float32, normalizer=None), _RealValuedColumn(column_name='Condition1_RRNn', dimension=1, default_value=None, dtype=tf.float32, normalizer=None), _RealValuedColumn(column_name='Condition2_Artery', dimension=1, default_value=None, dtype=tf.float32, normalizer=None), _RealValuedColumn(column_name='Condition2_Feedr', dimension=1, default_value=None, dtype=tf.float32, normalizer=None), _RealValuedColumn(column_name='Condition2_Norm', dimension=1, default_value=None, dtype=tf.float32, normalizer=None), _RealValuedColumn(column_name='Condition2_PosA', dimension=1, default_value=None, dtype=tf.float32, normalizer=None), _RealValuedColumn(column_name='Condition2_PosN', dimension=1, default_value=None, dtype=tf.float32, normalizer=None), _RealValuedColumn(column_name='Condition2_RRAe', dimension=1, default_value=None, dtype=tf.float32, normalizer=None), _RealValuedColumn(column_name='Condition2_RRAn', dimension=1, default_value=None, dtype=tf.float32, normalizer=None), _RealValuedColumn(column_name='Condition2_RRNn', dimension=1, default_value=None, dtype=tf.float32, normalizer=None), _RealValuedColumn(column_name='Electrical_FuseA', dimension=1, default_value=None, dtype=tf.float32, normalizer=None), _RealValuedColumn(column_name='Electrical_FuseF', dimension=1, default_value=None, dtype=tf.float32, normalizer=None), _RealValuedColumn(column_name='Electrical_FuseP', dimension=1, default_value=None, dtype=tf.float32, normalizer=None), _RealValuedColumn(column_name='Electrical_Mix', dimension=1, default_value=None, dtype=tf.float32, normalizer=None), _RealValuedColumn(column_name='Electrical_SBrkr', dimension=1, default_value=None, dtype=tf.float32, normalizer=None), _RealValuedColumn(column_name='Exterior1st_AsbShng', dimension=1, default_value=None, dtype=tf.float32, normalizer=None), _RealValuedColumn(column_name='Exterior1st_AsphShn', dimension=1, default_value=None, dtype=tf.float32, normalizer=None), _RealValuedColumn(column_name='Exterior1st_BrkComm', dimension=1, default_value=None, dtype=tf.float32, normalizer=None), _RealValuedColumn(column_name='Exterior1st_BrkFace', dimension=1, default_value=None, dtype=tf.float32, normalizer=None), _RealValuedColumn(column_name='Exterior1st_CBlock', dimension=1, default_value=None, dtype=tf.float32, normalizer=None), _RealValuedColumn(column_name='Exterior1st_CemntBd', dimension=1, default_value=None, dtype=tf.float32, normalizer=None), _RealValuedColumn(column_name='Exterior1st_HdBoard', dimension=1, default_value=None, dtype=tf.float32, normalizer=None), _RealValuedColumn(column_name='Exterior1st_ImStucc', dimension=1, default_value=None, dtype=tf.float32, normalizer=None), _RealValuedColumn(column_name='Exterior1st_MetalSd', dimension=1, default_value=None, dtype=tf.float32, normalizer=None), _RealValuedColumn(column_name='Exterior1st_Plywood', dimension=1, default_value=None, dtype=tf.float32, normalizer=None), _RealValuedColumn(column_name='Exterior1st_Stone', dimension=1, default_value=None, dtype=tf.float32, normalizer=None), _RealValuedColumn(column_name='Exterior1st_Stucco', dimension=1, default_value=None, dtype=tf.float32, normalizer=None), _RealValuedColumn(column_name='Exterior1st_VinylSd', dimension=1, default_value=None, dtype=tf.float32, normalizer=None), _RealValuedColumn(column_name='Exterior1st_Wd_Sdng', dimension=1, default_value=None, dtype=tf.float32, normalizer=None), _RealValuedColumn(column_name='Exterior1st_WdShing', dimension=1, default_value=None, dtype=tf.float32, normalizer=None), _RealValuedColumn(column_name='Exterior2nd_AsbShng', dimension=1, default_value=None, dtype=tf.float32, normalizer=None), _RealValuedColumn(column_name='Exterior2nd_AsphShn', dimension=1, default_value=None, dtype=tf.float32, normalizer=None), _RealValuedColumn(column_name='Exterior2nd_Brk_Cmn', dimension=1, default_value=None, dtype=tf.float32, normalizer=None), _RealValuedColumn(column_name='Exterior2nd_BrkFace', dimension=1, default_value=None, dtype=tf.float32, normalizer=None), _RealValuedColumn(column_name='Exterior2nd_CBlock', dimension=1, default_value=None, dtype=tf.float32, normalizer=None), _RealValuedColumn(column_name='Exterior2nd_CmentBd', dimension=1, default_value=None, dtype=tf.float32, normalizer=None), _RealValuedColumn(column_name='Exterior2nd_HdBoard', dimension=1, default_value=None, dtype=tf.float32, normalizer=None), _RealValuedColumn(column_name='Exterior2nd_ImStucc', dimension=1, default_value=None, dtype=tf.float32, normalizer=None), _RealValuedColumn(column_name='Exterior2nd_MetalSd', dimension=1, default_value=None, dtype=tf.float32, normalizer=None), _RealValuedColumn(column_name='Exterior2nd_Other', dimension=1, default_value=None, dtype=tf.float32, normalizer=None), _RealValuedColumn(column_name='Exterior2nd_Plywood', dimension=1, default_value=None, dtype=tf.float32, normalizer=None), _RealValuedColumn(column_name='Exterior2nd_Stone', dimension=1, default_value=None, dtype=tf.float32, normalizer=None), _RealValuedColumn(column_name='Exterior2nd_Stucco', dimension=1, default_value=None, dtype=tf.float32, normalizer=None), _RealValuedColumn(column_name='Exterior2nd_VinylSd', dimension=1, default_value=None, dtype=tf.float32, normalizer=None), _RealValuedColumn(column_name='Exterior2nd_Wd_Sdng', dimension=1, default_value=None, dtype=tf.float32, normalizer=None), _RealValuedColumn(column_name='Foundation_BrkTil', dimension=1, default_value=None, dtype=tf.float32, normalizer=None), _RealValuedColumn(column_name='Foundation_CBlock', dimension=1, default_value=None, dtype=tf.float32, normalizer=None), _RealValuedColumn(column_name='Foundation_PConc', dimension=1, default_value=None, dtype=tf.float32, normalizer=None), _RealValuedColumn(column_name='Foundation_Slab', dimension=1, default_value=None, dtype=tf.float32, normalizer=None), _RealValuedColumn(column_name='Foundation_Stone', dimension=1, default_value=None, dtype=tf.float32, normalizer=None), _RealValuedColumn(column_name='Foundation_Wood', dimension=1, default_value=None, dtype=tf.float32, normalizer=None), _RealValuedColumn(column_name='GarageType_2Types', dimension=1, default_value=None, dtype=tf.float32, normalizer=None), _RealValuedColumn(column_name='GarageType_Attchd', dimension=1, default_value=None, dtype=tf.float32, normalizer=None), _RealValuedColumn(column_name='GarageType_Basment', dimension=1, default_value=None, dtype=tf.float32, normalizer=None), _RealValuedColumn(column_name='GarageType_BuiltIn', dimension=1, default_value=None, dtype=tf.float32, normalizer=None), _RealValuedColumn(column_name='GarageType_CarPort', dimension=1, default_value=None, dtype=tf.float32, normalizer=None), _RealValuedColumn(column_name='GarageType_Detchd', dimension=1, default_value=None, dtype=tf.float32, normalizer=None), _RealValuedColumn(column_name='GarageType_No', dimension=1, default_value=None, dtype=tf.float32, normalizer=None), _RealValuedColumn(column_name='Heating_Floor', dimension=1, default_value=None, dtype=tf.float32, normalizer=None), _RealValuedColumn(column_name='Heating_GasA', dimension=1, default_value=None, dtype=tf.float32, normalizer=None), _RealValuedColumn(column_name='Heating_GasW', dimension=1, default_value=None, dtype=tf.float32, normalizer=None), _RealValuedColumn(column_name='Heating_Grav', dimension=1, default_value=None, dtype=tf.float32, normalizer=None), _RealValuedColumn(column_name='Heating_OthW', dimension=1, default_value=None, dtype=tf.float32, normalizer=None), _RealValuedColumn(column_name='Heating_Wall', dimension=1, default_value=None, dtype=tf.float32, normalizer=None), _RealValuedColumn(column_name='HouseStyle_1_5Fin', dimension=1, default_value=None, dtype=tf.float32, normalizer=None), _RealValuedColumn(column_name='HouseStyle_1_5Unf', dimension=1, default_value=None, dtype=tf.float32, normalizer=None), _RealValuedColumn(column_name='HouseStyle_1Story', dimension=1, default_value=None, dtype=tf.float32, normalizer=None), _RealValuedColumn(column_name='HouseStyle_2_5Fin', dimension=1, default_value=None, dtype=tf.float32, normalizer=None), _RealValuedColumn(column_name='HouseStyle_2_5Unf', dimension=1, default_value=None, dtype=tf.float32, normalizer=None), _RealValuedColumn(column_name='HouseStyle_2Story', dimension=1, default_value=None, dtype=tf.float32, normalizer=None), _RealValuedColumn(column_name='HouseStyle_SFoyer', dimension=1, default_value=None, dtype=tf.float32, normalizer=None), _RealValuedColumn(column_name='HouseStyle_SLvl', dimension=1, default_value=None, dtype=tf.float32, normalizer=None), _RealValuedColumn(column_name='LandContour_Bnk', dimension=1, default_value=None, dtype=tf.float32, normalizer=None), _RealValuedColumn(column_name='LandContour_HLS', dimension=1, default_value=None, dtype=tf.float32, normalizer=None), _RealValuedColumn(column_name='LandContour_Low', dimension=1, default_value=None, dtype=tf.float32, normalizer=None), _RealValuedColumn(column_name='LandContour_Lvl', dimension=1, default_value=None, dtype=tf.float32, normalizer=None), _RealValuedColumn(column_name='LandSlope_Gtl', dimension=1, default_value=None, dtype=tf.float32, normalizer=None), _RealValuedColumn(column_name='LandSlope_Mod', dimension=1, default_value=None, dtype=tf.float32, normalizer=None), _RealValuedColumn(column_name='LandSlope_Sev', dimension=1, default_value=None, dtype=tf.float32, normalizer=None), _RealValuedColumn(column_name='LotConfig_Corner', dimension=1, default_value=None, dtype=tf.float32, normalizer=None), _RealValuedColumn(column_name='LotConfig_CulDSac', dimension=1, default_value=None, dtype=tf.float32, normalizer=None), _RealValuedColumn(column_name='LotConfig_FR2', dimension=1, default_value=None, dtype=tf.float32, normalizer=None), _RealValuedColumn(column_name='LotConfig_FR3', dimension=1, default_value=None, dtype=tf.float32, normalizer=None), _RealValuedColumn(column_name='LotConfig_Inside', dimension=1, default_value=None, dtype=tf.float32, normalizer=None), _RealValuedColumn(column_name='LotShape_IR1', dimension=1, default_value=None, dtype=tf.float32, normalizer=None), _RealValuedColumn(column_name='LotShape_IR2', dimension=1, default_value=None, dtype=tf.float32, normalizer=None), _RealValuedColumn(column_name='LotShape_IR3', dimension=1, default_value=None, dtype=tf.float32, normalizer=None), _RealValuedColumn(column_name='LotShape_Reg', dimension=1, default_value=None, dtype=tf.float32, normalizer=None), _RealValuedColumn(column_name='MSZoning_C', dimension=1, default_value=None, dtype=tf.float32, normalizer=None), _RealValuedColumn(column_name='MSZoning_FV', dimension=1, default_value=None, dtype=tf.float32, normalizer=None), _RealValuedColumn(column_name='MSZoning_RH', dimension=1, default_value=None, dtype=tf.float32, normalizer=None), _RealValuedColumn(column_name='MSZoning_RL', dimension=1, default_value=None, dtype=tf.float32, normalizer=None), _RealValuedColumn(column_name='MSZoning_RM', dimension=1, default_value=None, dtype=tf.float32, normalizer=None), _RealValuedColumn(column_name='MasVnrType_BrkCmn', dimension=1, default_value=None, dtype=tf.float32, normalizer=None), _RealValuedColumn(column_name='MasVnrType_BrkFace', dimension=1, default_value=None, dtype=tf.float32, normalizer=None), _RealValuedColumn(column_name='MasVnrType_No', dimension=1, default_value=None, dtype=tf.float32, normalizer=None), _RealValuedColumn(column_name='MasVnrType_None', dimension=1, default_value=None, dtype=tf.float32, normalizer=None), _RealValuedColumn(column_name='MasVnrType_Stone', dimension=1, default_value=None, dtype=tf.float32, normalizer=None), _RealValuedColumn(column_name='MiscFeature_Gar2', dimension=1, default_value=None, dtype=tf.float32, normalizer=None), _RealValuedColumn(column_name='MiscFeature_No', dimension=1, default_value=None, dtype=tf.float32, normalizer=None), _RealValuedColumn(column_name='MiscFeature_Othr', dimension=1, default_value=None, dtype=tf.float32, normalizer=None), _RealValuedColumn(column_name='MiscFeature_Shed', dimension=1, default_value=None, dtype=tf.float32, normalizer=None), _RealValuedColumn(column_name='MiscFeature_TenC', dimension=1, default_value=None, dtype=tf.float32, normalizer=None), _RealValuedColumn(column_name='Neighborhood_Blmngtn', dimension=1, default_value=None, dtype=tf.float32, normalizer=None), _RealValuedColumn(column_name='Neighborhood_Blueste', dimension=1, default_value=None, dtype=tf.float32, normalizer=None), _RealValuedColumn(column_name='Neighborhood_BrDale', dimension=1, default_value=None, dtype=tf.float32, normalizer=None), _RealValuedColumn(column_name='Neighborhood_BrkSide', dimension=1, default_value=None, dtype=tf.float32, normalizer=None), _RealValuedColumn(column_name='Neighborhood_ClearCr', dimension=1, default_value=None, dtype=tf.float32, normalizer=None), _RealValuedColumn(column_name='Neighborhood_CollgCr', dimension=1, default_value=None, dtype=tf.float32, normalizer=None), _RealValuedColumn(column_name='Neighborhood_Crawfor', dimension=1, default_value=None, dtype=tf.float32, normalizer=None), _RealValuedColumn(column_name='Neighborhood_Edwards', dimension=1, default_value=None, dtype=tf.float32, normalizer=None), _RealValuedColumn(column_name='Neighborhood_Gilbert', dimension=1, default_value=None, dtype=tf.float32, normalizer=None), _RealValuedColumn(column_name='Neighborhood_IDOTRR', dimension=1, default_value=None, dtype=tf.float32, normalizer=None), _RealValuedColumn(column_name='Neighborhood_MeadowV', dimension=1, default_value=None, dtype=tf.float32, normalizer=None), _RealValuedColumn(column_name='Neighborhood_Mitchel', dimension=1, default_value=None, dtype=tf.float32, normalizer=None), _RealValuedColumn(column_name='Neighborhood_NPkVill', dimension=1, default_value=None, dtype=tf.float32, normalizer=None), _RealValuedColumn(column_name='Neighborhood_NWAmes', dimension=1, default_value=None, dtype=tf.float32, normalizer=None), _RealValuedColumn(column_name='Neighborhood_Names', dimension=1, default_value=None, dtype=tf.float32, normalizer=None), _RealValuedColumn(column_name='Neighborhood_NoRidge', dimension=1, default_value=None, dtype=tf.float32, normalizer=None), _RealValuedColumn(column_name='Neighborhood_NridgHt', dimension=1, default_value=None, dtype=tf.float32, normalizer=None), _RealValuedColumn(column_name='Neighborhood_OldTown', dimension=1, default_value=None, dtype=tf.float32, normalizer=None), _RealValuedColumn(column_name='Neighborhood_SWISU', dimension=1, default_value=None, dtype=tf.float32, normalizer=None), _RealValuedColumn(column_name='Neighborhood_Sawyer', dimension=1, default_value=None, dtype=tf.float32, normalizer=None), _RealValuedColumn(column_name='Neighborhood_SawyerW', dimension=1, default_value=None, dtype=tf.float32, normalizer=None), _RealValuedColumn(column_name='Neighborhood_Somerst', dimension=1, default_value=None, dtype=tf.float32, normalizer=None), _RealValuedColumn(column_name='Neighborhood_StoneBr', dimension=1, default_value=None, dtype=tf.float32, normalizer=None), _RealValuedColumn(column_name='Neighborhood_Timber', dimension=1, default_value=None, dtype=tf.float32, normalizer=None), _RealValuedColumn(column_name='Neighborhood_Veenker', dimension=1, default_value=None, dtype=tf.float32, normalizer=None), _RealValuedColumn(column_name='PavedDrive_N', dimension=1, default_value=None, dtype=tf.float32, normalizer=None), _RealValuedColumn(column_name='PavedDrive_P', dimension=1, default_value=None, dtype=tf.float32, normalizer=None), _RealValuedColumn(column_name='PavedDrive_Y', dimension=1, default_value=None, dtype=tf.float32, normalizer=None), _RealValuedColumn(column_name='PoolQC_Ex', dimension=1, default_value=None, dtype=tf.float32, normalizer=None), _RealValuedColumn(column_name='PoolQC_Fa', dimension=1, default_value=None, dtype=tf.float32, normalizer=None), _RealValuedColumn(column_name='PoolQC_Gd', dimension=1, default_value=None, dtype=tf.float32, normalizer=None), _RealValuedColumn(column_name='PoolQC_No', dimension=1, default_value=None, dtype=tf.float32, normalizer=None), _RealValuedColumn(column_name='RoofMatl_CompShg', dimension=1, default_value=None, dtype=tf.float32, normalizer=None), _RealValuedColumn(column_name='RoofMatl_Membran', dimension=1, default_value=None, dtype=tf.float32, normalizer=None), _RealValuedColumn(column_name='RoofMatl_Metal', dimension=1, default_value=None, dtype=tf.float32, normalizer=None), _RealValuedColumn(column_name='RoofMatl_Roll', dimension=1, default_value=None, dtype=tf.float32, normalizer=None), _RealValuedColumn(column_name='RoofMatl_Tar_Grv', dimension=1, default_value=None, dtype=tf.float32, normalizer=None), _RealValuedColumn(column_name='RoofMatl_WdShake', dimension=1, default_value=None, dtype=tf.float32, normalizer=None), _RealValuedColumn(column_name='RoofMatl_WdShngl', dimension=1, default_value=None, dtype=tf.float32, normalizer=None), _RealValuedColumn(column_name='RoofStyle_Flat', dimension=1, default_value=None, dtype=tf.float32, normalizer=None), _RealValuedColumn(column_name='RoofStyle_Gable', dimension=1, default_value=None, dtype=tf.float32, normalizer=None), _RealValuedColumn(column_name='RoofStyle_Gambrel', dimension=1, default_value=None, dtype=tf.float32, normalizer=None), _RealValuedColumn(column_name='RoofStyle_Hip', dimension=1, default_value=None, dtype=tf.float32, normalizer=None), _RealValuedColumn(column_name='RoofStyle_Mansard', dimension=1, default_value=None, dtype=tf.float32, normalizer=None), _RealValuedColumn(column_name='RoofStyle_Shed', dimension=1, default_value=None, dtype=tf.float32, normalizer=None), _RealValuedColumn(column_name='SaleCondition_Abnorml', dimension=1, default_value=None, dtype=tf.float32, normalizer=None), _RealValuedColumn(column_name='SaleCondition_AdjLand', dimension=1, default_value=None, dtype=tf.float32, normalizer=None), _RealValuedColumn(column_name='SaleCondition_Alloca', dimension=1, default_value=None, dtype=tf.float32, normalizer=None), _RealValuedColumn(column_name='SaleCondition_Family', dimension=1, default_value=None, dtype=tf.float32, normalizer=None), _RealValuedColumn(column_name='SaleCondition_Normal', dimension=1, default_value=None, dtype=tf.float32, normalizer=None), _RealValuedColumn(column_name='SaleCondition_Partial', dimension=1, default_value=None, dtype=tf.float32, normalizer=None), _RealValuedColumn(column_name='SaleType_COD', dimension=1, default_value=None, dtype=tf.float32, normalizer=None), _RealValuedColumn(column_name='SaleType_CWD', dimension=1, default_value=None, dtype=tf.float32, normalizer=None), _RealValuedColumn(column_name='SaleType_Con', dimension=1, default_value=None, dtype=tf.float32, normalizer=None), _RealValuedColumn(column_name='SaleType_ConLD', dimension=1, default_value=None, dtype=tf.float32, normalizer=None), _RealValuedColumn(column_name='SaleType_ConLI', dimension=1, default_value=None, dtype=tf.float32, normalizer=None), _RealValuedColumn(column_name='SaleType_ConLw', dimension=1, default_value=None, dtype=tf.float32, normalizer=None), _RealValuedColumn(column_name='SaleType_New', dimension=1, default_value=None, dtype=tf.float32, normalizer=None), _RealValuedColumn(column_name='SaleType_Oth', dimension=1, default_value=None, dtype=tf.float32, normalizer=None), _RealValuedColumn(column_name='SaleType_WD', dimension=1, default_value=None, dtype=tf.float32, normalizer=None), _RealValuedColumn(column_name='Street_Grvl', dimension=1, default_value=None, dtype=tf.float32, normalizer=None), _RealValuedColumn(column_name='Street_Pave', dimension=1, default_value=None, dtype=tf.float32, normalizer=None), _RealValuedColumn(column_name='Utilities_AllPub', dimension=1, default_value=None, dtype=tf.float32, normalizer=None), _RealValuedColumn(column_name='Utilities_NoSeWa', dimension=1, default_value=None, dtype=tf.float32, normalizer=None)), 'optimizer': None, 'activation_fn': <function relu at 0x1a36a0f7b8>, 'dropout': None, 'gradient_clip_norm': None, 'embedding_lr_multipliers': None, 'input_layer_min_slice_size': None})"
      ]
     },
     "execution_count": 65,
     "metadata": {},
     "output_type": "execute_result"
    }
   ],
   "source": [
    "# Deep Neural Network Regressor with the training set which contain the data split by train test split\n",
    "regressor.fit(input_fn=lambda: input_fn(training_set), steps=4000)"
   ]
  },
  {
   "cell_type": "code",
   "execution_count": 66,
   "metadata": {},
   "outputs": [
    {
     "name": "stdout",
     "output_type": "stream",
     "text": [
      "{'loss': 795956200.0, 'global_step': 4000}\n"
     ]
    }
   ],
   "source": [
    "# Evaluation on the test set created by train_test_split\n",
    "ev = regressor.evaluate(input_fn=lambda: input_fn(testing_set), steps=1)\n",
    "print(ev)"
   ]
  },
  {
   "cell_type": "code",
   "execution_count": 73,
   "metadata": {},
   "outputs": [
    {
     "name": "stdout",
     "output_type": "stream",
     "text": [
      "(481,)\n",
      "(481,)\n",
      "0.13633003789967857\n"
     ]
    }
   ],
   "source": [
    "# Display the score on the testing set\n",
    "# 0.002X in average\n",
    "loss_score1 = ev[\"loss\"]\n",
    "#print(\"Final Loss on the testing set: {0:f}\".format(loss_score1))\n",
    "\n",
    "# Predictions\n",
    "y_pred = np.array(list(regressor.predict(input_fn=lambda: input_fn(testing_set))))\n",
    "y_pred_nn = y_pred\n",
    "# predictions = list(itertools.islice(y, testing_set.shape[0]))\n",
    "y_test = np.array(testing_set['SalePrice'])\n",
    "\n",
    "log_error = rmsle(y_test, y_pred)\n",
    "print(log_error)"
   ]
  },
  {
   "cell_type": "markdown",
   "metadata": {},
   "source": [
    "### 4.6 More Complex Sklearn Models (Work in progress)"
   ]
  },
  {
   "cell_type": "code",
   "execution_count": null,
   "metadata": {
    "collapsed": true
   },
   "outputs": [],
   "source": [
    "from sklearn.linear_model import ElasticNet, Lasso,  BayesianRidge, LassoLarsIC\n",
    "from sklearn.ensemble import RandomForestRegressor,  GradientBoostingRegressor\n",
    "from sklearn.kernel_ridge import KernelRidge\n",
    "from sklearn.pipeline import make_pipeline\n",
    "from sklearn.preprocessing import RobustScaler\n",
    "from sklearn.base import BaseEstimator, TransformerMixin, RegressorMixin, clone\n",
    "from sklearn.model_selection import KFold, cross_val_score, train_test_split\n",
    "from sklearn.metrics import mean_squared_error\n",
    "# import xgboost as xgb\n",
    "# import lightgbm as lgb"
   ]
  },
  {
   "cell_type": "code",
   "execution_count": null,
   "metadata": {
    "collapsed": true
   },
   "outputs": [],
   "source": [
    "#Validation function\n",
    "n_folds = 5\n",
    "\n",
    "def rmsle_cv(model):\n",
    "    cv = KFold(n_splits=5, shuffle=True, random_state=42)\n",
    "    score = np.sqrt(-cross_val_score(model, train, target, scoring=\"neg_mean_squared_error\", cv=cv))\n",
    "    return score\n",
    "\n",
    "#Models:\n",
    "# lasso = make_pipeline(RobustScaler(), Lasso(alpha =0.0005, random_state=1))\n",
    "\n",
    "# ENet = make_pipeline(RobustScaler(), ElasticNet(alpha=0.0005, l1_ratio=.9, random_state=3))\n",
    "\n",
    "# KRR = KernelRidge(alpha=0.6, kernel='polynomial', degree=2, coef0=2.5)\n",
    "\n",
    "# GBoost = GradientBoostingRegressor(n_estimators=3000, learning_rate=0.05,\n",
    "#                                    max_depth=4, max_features='sqrt',\n",
    "#                                    min_samples_leaf=15, min_samples_split=10, \n",
    "#                                    loss='huber', random_state =5)\n",
    "\n",
    "# model_lgb = lgb.LGBMRegressor(objective='regression',num_leaves=5,\n",
    "#                               learning_rate=0.05, n_estimators=720,\n",
    "#                               max_bin = 55, bagging_fraction = 0.8,\n",
    "#                               bagging_freq = 5, feature_fraction = 0.2319,\n",
    "#                               feature_fraction_seed=9, bagging_seed=9,\n",
    "#                               min_data_in_leaf =6, min_sum_hessian_in_leaf = 11)\n",
    "\n",
    "# score = rmsle_cv(lasso)\n",
    "# print(\"\\nLasso score: {:.4f} ({:.4f})\\n\".format(score.mean(), score.std()))"
   ]
  },
  {
   "cell_type": "markdown",
   "metadata": {},
   "source": [
    "## 5. Ensembling"
   ]
  },
  {
   "cell_type": "code",
   "execution_count": 90,
   "metadata": {},
   "outputs": [
    {
     "name": "stdout",
     "output_type": "stream",
     "text": [
      "(292,)\n",
      "(292,)\n",
      "(292,)\n",
      "(292,)\n",
      "0.11577818300853986\n"
     ]
    }
   ],
   "source": [
    "# Bring results together...\n",
    "# y_pred_lasso\n",
    "# y_pred_krr\n",
    "# y_pred_rf\n",
    "# y_pred_xgb\n",
    "# y_pred_nn\n",
    "print(y_pred_lasso.shape)\n",
    "print(y_pred_rf.shape)\n",
    "print(y_pred_krr.shape)\n",
    "print(y_pred_xgb.shape)\n",
    "y_pred = np.column_stack((y_pred_lasso, y_pred_rf, y_pred_krr, y_pred_xgb))\n",
    "y_pred = np.mean(y_pred, axis = 1)\n",
    "#y_pred = np.concatenate(y_pred_lasso, y_pred_rf, axis = 1)\n",
    "\n",
    "log_error = rmsle(y_test, y_pred)\n",
    "print(log_error)\n",
    "\n",
    "# Note the good score...\n"
   ]
  },
  {
   "cell_type": "markdown",
   "metadata": {},
   "source": [
    "## 6. Write to CSV (results, data, etc)"
   ]
  },
  {
   "cell_type": "code",
   "execution_count": null,
   "metadata": {
    "collapsed": true
   },
   "outputs": [],
   "source": [
    "# Here we are writing our cleaned dataframe to a CSV..."
   ]
  },
  {
   "cell_type": "code",
   "execution_count": null,
   "metadata": {
    "collapsed": true
   },
   "outputs": [],
   "source": [
    "house_train_d.to_csv(\"train_dummies.csv\")\n",
    "house_test_d.to_csv(\"test_dummies.csv\")"
   ]
  },
  {
   "cell_type": "code",
   "execution_count": null,
   "metadata": {
    "collapsed": true
   },
   "outputs": [],
   "source": []
  }
 ],
 "metadata": {
  "kernelspec": {
   "display_name": "Python [default]",
   "language": "python",
   "name": "python3"
  },
  "language_info": {
   "codemirror_mode": {
    "name": "ipython",
    "version": 3
   },
   "file_extension": ".py",
   "mimetype": "text/x-python",
   "name": "python",
   "nbconvert_exporter": "python",
   "pygments_lexer": "ipython3",
   "version": "3.6.4"
  }
 },
 "nbformat": 4,
 "nbformat_minor": 2
}
