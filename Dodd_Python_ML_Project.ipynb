{
 "cells": [
  {
   "cell_type": "markdown",
   "metadata": {},
   "source": [
    "Andrew Dodd\n",
    ", 2/21/18\n",
    "# Machine Learning Project Notebook\n",
    "## Table of Contents\n",
    "### 1. Imports\n",
    "### 2. Cleaning\n",
    "### 3. Exploration/Unsupervised Learning\n",
    "### 4. Modeling"
   ]
  },
  {
   "cell_type": "markdown",
   "metadata": {},
   "source": [
    "## 1. Imports"
   ]
  },
  {
   "cell_type": "code",
   "execution_count": 413,
   "metadata": {
    "collapsed": true
   },
   "outputs": [],
   "source": [
    "import pandas as pd\n",
    "import numpy as np\n",
    "import seaborn as sns\n",
    "import math\n",
    "from sklearn.preprocessing import StandardScaler\n",
    "from sklearn.decomposition import PCA\n",
    "%matplotlib inline\n",
    "\n",
    "house_train = pd.read_csv('./data/train.csv')\n",
    "house_test = pd.read_csv('./data/test.csv')\n",
    "\n",
    "house_train.rename(index=str, columns={\"BedroomAbvGr\":\"Bedroom\", \"KitchenAbvGr\":\"Kitchen\"},\n",
    "                   inplace = True)\n",
    "house_test.rename(index=str, columns={\"BedroomAbvGr\":\"Bedroom\", \"KitchenAbvGr\":\"Kitchen\"},\n",
    "                    inplace = True)\n",
    "\n",
    "names = list(house_test.columns.values)"
   ]
  },
  {
   "cell_type": "markdown",
   "metadata": {},
   "source": [
    "## 2. Cleaning\n",
    "Here we do the cleaning for the data. This will include examining the dataset, value imputation, visualization, filling or removing NAs, etc.\n",
    "\n",
    "### 2.1 Converting column types to numeric\n",
    "Now that we have our dataset imported, we need to convert the numeric parts into numeric."
   ]
  },
  {
   "cell_type": "code",
   "execution_count": 414,
   "metadata": {},
   "outputs": [],
   "source": [
    "with open(\"ColumnsExplained.txt\") as f:\n",
    "    content = f.readlines()\n",
    "    \n",
    "# you may also want to remove whitespace characters like `\\n` at the end of each line\n",
    "content = [x.strip() for x in content] \n",
    "\n",
    "import re\n",
    "\n",
    "prev_column = '' # Most recent column name\n",
    "num_lines = 0 # number of lines since column name\n",
    "i = 0\n",
    "for line in content:\n",
    "    if (re.search('^(.{1,20}):.*', line) != None) and (num_lines == 1):\n",
    "        house_train[prev_column] = pd.to_numeric(house_train[prev_column],errors = 'coerce')\n",
    "        house_test[prev_column] = pd.to_numeric(house_test[prev_column],errors = 'coerce')\n",
    "    if line.strip() == '':\n",
    "        num_lines += 1\n",
    "        next\n",
    "    if (re.search('^(.{1,20}):.*', line) != None):\n",
    "        prev_column = (re.search('^(.{1,20}):.*', line)).group(1)\n",
    "        num_lines = 0\n",
    "    i += 1"
   ]
  },
  {
   "cell_type": "code",
   "execution_count": 415,
   "metadata": {},
   "outputs": [
    {
     "data": {
      "text/html": [
       "<div>\n",
       "<style scoped>\n",
       "    .dataframe tbody tr th:only-of-type {\n",
       "        vertical-align: middle;\n",
       "    }\n",
       "\n",
       "    .dataframe tbody tr th {\n",
       "        vertical-align: top;\n",
       "    }\n",
       "\n",
       "    .dataframe thead th {\n",
       "        text-align: right;\n",
       "    }\n",
       "</style>\n",
       "<table border=\"1\" class=\"dataframe\">\n",
       "  <thead>\n",
       "    <tr style=\"text-align: right;\">\n",
       "      <th></th>\n",
       "      <th>Id</th>\n",
       "      <th>MSSubClass</th>\n",
       "      <th>LotFrontage</th>\n",
       "      <th>LotArea</th>\n",
       "      <th>OverallQual</th>\n",
       "      <th>OverallCond</th>\n",
       "      <th>YearBuilt</th>\n",
       "      <th>YearRemodAdd</th>\n",
       "      <th>MasVnrArea</th>\n",
       "      <th>BsmtFinSF1</th>\n",
       "      <th>...</th>\n",
       "      <th>WoodDeckSF</th>\n",
       "      <th>OpenPorchSF</th>\n",
       "      <th>EnclosedPorch</th>\n",
       "      <th>3SsnPorch</th>\n",
       "      <th>ScreenPorch</th>\n",
       "      <th>PoolArea</th>\n",
       "      <th>MiscVal</th>\n",
       "      <th>MoSold</th>\n",
       "      <th>YrSold</th>\n",
       "      <th>SalePrice</th>\n",
       "    </tr>\n",
       "  </thead>\n",
       "  <tbody>\n",
       "    <tr>\n",
       "      <th>count</th>\n",
       "      <td>1460.000000</td>\n",
       "      <td>1460.000000</td>\n",
       "      <td>1201.000000</td>\n",
       "      <td>1460.000000</td>\n",
       "      <td>1460.000000</td>\n",
       "      <td>1460.000000</td>\n",
       "      <td>1460.000000</td>\n",
       "      <td>1460.000000</td>\n",
       "      <td>1452.000000</td>\n",
       "      <td>1460.000000</td>\n",
       "      <td>...</td>\n",
       "      <td>1460.000000</td>\n",
       "      <td>1460.000000</td>\n",
       "      <td>1460.000000</td>\n",
       "      <td>1460.000000</td>\n",
       "      <td>1460.000000</td>\n",
       "      <td>1460.000000</td>\n",
       "      <td>1460.000000</td>\n",
       "      <td>1460.000000</td>\n",
       "      <td>1460.000000</td>\n",
       "      <td>1460.000000</td>\n",
       "    </tr>\n",
       "    <tr>\n",
       "      <th>mean</th>\n",
       "      <td>730.500000</td>\n",
       "      <td>56.897260</td>\n",
       "      <td>70.049958</td>\n",
       "      <td>10516.828082</td>\n",
       "      <td>6.099315</td>\n",
       "      <td>5.575342</td>\n",
       "      <td>1971.267808</td>\n",
       "      <td>1984.865753</td>\n",
       "      <td>103.685262</td>\n",
       "      <td>443.639726</td>\n",
       "      <td>...</td>\n",
       "      <td>94.244521</td>\n",
       "      <td>46.660274</td>\n",
       "      <td>21.954110</td>\n",
       "      <td>3.409589</td>\n",
       "      <td>15.060959</td>\n",
       "      <td>2.758904</td>\n",
       "      <td>43.489041</td>\n",
       "      <td>6.321918</td>\n",
       "      <td>2007.815753</td>\n",
       "      <td>180921.195890</td>\n",
       "    </tr>\n",
       "    <tr>\n",
       "      <th>std</th>\n",
       "      <td>421.610009</td>\n",
       "      <td>42.300571</td>\n",
       "      <td>24.284752</td>\n",
       "      <td>9981.264932</td>\n",
       "      <td>1.382997</td>\n",
       "      <td>1.112799</td>\n",
       "      <td>30.202904</td>\n",
       "      <td>20.645407</td>\n",
       "      <td>181.066207</td>\n",
       "      <td>456.098091</td>\n",
       "      <td>...</td>\n",
       "      <td>125.338794</td>\n",
       "      <td>66.256028</td>\n",
       "      <td>61.119149</td>\n",
       "      <td>29.317331</td>\n",
       "      <td>55.757415</td>\n",
       "      <td>40.177307</td>\n",
       "      <td>496.123024</td>\n",
       "      <td>2.703626</td>\n",
       "      <td>1.328095</td>\n",
       "      <td>79442.502883</td>\n",
       "    </tr>\n",
       "    <tr>\n",
       "      <th>min</th>\n",
       "      <td>1.000000</td>\n",
       "      <td>20.000000</td>\n",
       "      <td>21.000000</td>\n",
       "      <td>1300.000000</td>\n",
       "      <td>1.000000</td>\n",
       "      <td>1.000000</td>\n",
       "      <td>1872.000000</td>\n",
       "      <td>1950.000000</td>\n",
       "      <td>0.000000</td>\n",
       "      <td>0.000000</td>\n",
       "      <td>...</td>\n",
       "      <td>0.000000</td>\n",
       "      <td>0.000000</td>\n",
       "      <td>0.000000</td>\n",
       "      <td>0.000000</td>\n",
       "      <td>0.000000</td>\n",
       "      <td>0.000000</td>\n",
       "      <td>0.000000</td>\n",
       "      <td>1.000000</td>\n",
       "      <td>2006.000000</td>\n",
       "      <td>34900.000000</td>\n",
       "    </tr>\n",
       "    <tr>\n",
       "      <th>25%</th>\n",
       "      <td>365.750000</td>\n",
       "      <td>20.000000</td>\n",
       "      <td>59.000000</td>\n",
       "      <td>7553.500000</td>\n",
       "      <td>5.000000</td>\n",
       "      <td>5.000000</td>\n",
       "      <td>1954.000000</td>\n",
       "      <td>1967.000000</td>\n",
       "      <td>0.000000</td>\n",
       "      <td>0.000000</td>\n",
       "      <td>...</td>\n",
       "      <td>0.000000</td>\n",
       "      <td>0.000000</td>\n",
       "      <td>0.000000</td>\n",
       "      <td>0.000000</td>\n",
       "      <td>0.000000</td>\n",
       "      <td>0.000000</td>\n",
       "      <td>0.000000</td>\n",
       "      <td>5.000000</td>\n",
       "      <td>2007.000000</td>\n",
       "      <td>129975.000000</td>\n",
       "    </tr>\n",
       "    <tr>\n",
       "      <th>50%</th>\n",
       "      <td>730.500000</td>\n",
       "      <td>50.000000</td>\n",
       "      <td>69.000000</td>\n",
       "      <td>9478.500000</td>\n",
       "      <td>6.000000</td>\n",
       "      <td>5.000000</td>\n",
       "      <td>1973.000000</td>\n",
       "      <td>1994.000000</td>\n",
       "      <td>0.000000</td>\n",
       "      <td>383.500000</td>\n",
       "      <td>...</td>\n",
       "      <td>0.000000</td>\n",
       "      <td>25.000000</td>\n",
       "      <td>0.000000</td>\n",
       "      <td>0.000000</td>\n",
       "      <td>0.000000</td>\n",
       "      <td>0.000000</td>\n",
       "      <td>0.000000</td>\n",
       "      <td>6.000000</td>\n",
       "      <td>2008.000000</td>\n",
       "      <td>163000.000000</td>\n",
       "    </tr>\n",
       "    <tr>\n",
       "      <th>75%</th>\n",
       "      <td>1095.250000</td>\n",
       "      <td>70.000000</td>\n",
       "      <td>80.000000</td>\n",
       "      <td>11601.500000</td>\n",
       "      <td>7.000000</td>\n",
       "      <td>6.000000</td>\n",
       "      <td>2000.000000</td>\n",
       "      <td>2004.000000</td>\n",
       "      <td>166.000000</td>\n",
       "      <td>712.250000</td>\n",
       "      <td>...</td>\n",
       "      <td>168.000000</td>\n",
       "      <td>68.000000</td>\n",
       "      <td>0.000000</td>\n",
       "      <td>0.000000</td>\n",
       "      <td>0.000000</td>\n",
       "      <td>0.000000</td>\n",
       "      <td>0.000000</td>\n",
       "      <td>8.000000</td>\n",
       "      <td>2009.000000</td>\n",
       "      <td>214000.000000</td>\n",
       "    </tr>\n",
       "    <tr>\n",
       "      <th>max</th>\n",
       "      <td>1460.000000</td>\n",
       "      <td>190.000000</td>\n",
       "      <td>313.000000</td>\n",
       "      <td>215245.000000</td>\n",
       "      <td>10.000000</td>\n",
       "      <td>9.000000</td>\n",
       "      <td>2010.000000</td>\n",
       "      <td>2010.000000</td>\n",
       "      <td>1600.000000</td>\n",
       "      <td>5644.000000</td>\n",
       "      <td>...</td>\n",
       "      <td>857.000000</td>\n",
       "      <td>547.000000</td>\n",
       "      <td>552.000000</td>\n",
       "      <td>508.000000</td>\n",
       "      <td>480.000000</td>\n",
       "      <td>738.000000</td>\n",
       "      <td>15500.000000</td>\n",
       "      <td>12.000000</td>\n",
       "      <td>2010.000000</td>\n",
       "      <td>755000.000000</td>\n",
       "    </tr>\n",
       "  </tbody>\n",
       "</table>\n",
       "<p>8 rows × 38 columns</p>\n",
       "</div>"
      ],
      "text/plain": [
       "                Id   MSSubClass  LotFrontage        LotArea  OverallQual  \\\n",
       "count  1460.000000  1460.000000  1201.000000    1460.000000  1460.000000   \n",
       "mean    730.500000    56.897260    70.049958   10516.828082     6.099315   \n",
       "std     421.610009    42.300571    24.284752    9981.264932     1.382997   \n",
       "min       1.000000    20.000000    21.000000    1300.000000     1.000000   \n",
       "25%     365.750000    20.000000    59.000000    7553.500000     5.000000   \n",
       "50%     730.500000    50.000000    69.000000    9478.500000     6.000000   \n",
       "75%    1095.250000    70.000000    80.000000   11601.500000     7.000000   \n",
       "max    1460.000000   190.000000   313.000000  215245.000000    10.000000   \n",
       "\n",
       "       OverallCond    YearBuilt  YearRemodAdd   MasVnrArea   BsmtFinSF1  \\\n",
       "count  1460.000000  1460.000000   1460.000000  1452.000000  1460.000000   \n",
       "mean      5.575342  1971.267808   1984.865753   103.685262   443.639726   \n",
       "std       1.112799    30.202904     20.645407   181.066207   456.098091   \n",
       "min       1.000000  1872.000000   1950.000000     0.000000     0.000000   \n",
       "25%       5.000000  1954.000000   1967.000000     0.000000     0.000000   \n",
       "50%       5.000000  1973.000000   1994.000000     0.000000   383.500000   \n",
       "75%       6.000000  2000.000000   2004.000000   166.000000   712.250000   \n",
       "max       9.000000  2010.000000   2010.000000  1600.000000  5644.000000   \n",
       "\n",
       "           ...         WoodDeckSF  OpenPorchSF  EnclosedPorch    3SsnPorch  \\\n",
       "count      ...        1460.000000  1460.000000    1460.000000  1460.000000   \n",
       "mean       ...          94.244521    46.660274      21.954110     3.409589   \n",
       "std        ...         125.338794    66.256028      61.119149    29.317331   \n",
       "min        ...           0.000000     0.000000       0.000000     0.000000   \n",
       "25%        ...           0.000000     0.000000       0.000000     0.000000   \n",
       "50%        ...           0.000000    25.000000       0.000000     0.000000   \n",
       "75%        ...         168.000000    68.000000       0.000000     0.000000   \n",
       "max        ...         857.000000   547.000000     552.000000   508.000000   \n",
       "\n",
       "       ScreenPorch     PoolArea       MiscVal       MoSold       YrSold  \\\n",
       "count  1460.000000  1460.000000   1460.000000  1460.000000  1460.000000   \n",
       "mean     15.060959     2.758904     43.489041     6.321918  2007.815753   \n",
       "std      55.757415    40.177307    496.123024     2.703626     1.328095   \n",
       "min       0.000000     0.000000      0.000000     1.000000  2006.000000   \n",
       "25%       0.000000     0.000000      0.000000     5.000000  2007.000000   \n",
       "50%       0.000000     0.000000      0.000000     6.000000  2008.000000   \n",
       "75%       0.000000     0.000000      0.000000     8.000000  2009.000000   \n",
       "max     480.000000   738.000000  15500.000000    12.000000  2010.000000   \n",
       "\n",
       "           SalePrice  \n",
       "count    1460.000000  \n",
       "mean   180921.195890  \n",
       "std     79442.502883  \n",
       "min     34900.000000  \n",
       "25%    129975.000000  \n",
       "50%    163000.000000  \n",
       "75%    214000.000000  \n",
       "max    755000.000000  \n",
       "\n",
       "[8 rows x 38 columns]"
      ]
     },
     "execution_count": 415,
     "metadata": {},
     "output_type": "execute_result"
    }
   ],
   "source": [
    "# Showing some interesting values...\n",
    "house_train.describe()"
   ]
  },
  {
   "cell_type": "code",
   "execution_count": 532,
   "metadata": {},
   "outputs": [],
   "source": [
    "# house_train.columns.to_series().groupby(house_train.dtypes).groups"
   ]
  },
  {
   "cell_type": "markdown",
   "metadata": {},
   "source": [
    "### 2.2 Converting strings to factors and fixing values\n",
    "\n",
    "Here we will figure out which train and test columns have values that are not a subset of the text file. In some cases, I will adjust these values."
   ]
  },
  {
   "cell_type": "code",
   "execution_count": 417,
   "metadata": {},
   "outputs": [],
   "source": [
    "prev_column = '' # Most recent column name\n",
    "i = 0      # Number of loop iterations\n",
    "flag = 0   # This is an indicator of whether we want to be parsing column categories\n",
    "           # 0 corresponds to no, 1 corresponds to yes\n",
    "           # It is set to 1 once we pass a blank row.\n",
    "start = 0  # This is the number of column categories we have iterated through so far\n",
    "\n",
    "# MAKE A DICTIONARY HERE\n",
    "all_col_categ = {}\n",
    "one_category_list = []\n",
    "category_counter = 0\n",
    "columnName = ''\n",
    "\n",
    "# Iterating through entire list of column names and their categories.\n",
    "for line in content:\n",
    "    # print(\"-\"*60)\n",
    "    # print(\"line number:  %d\" %i)\n",
    "    \n",
    "    # Check if it's not a new column name, flag is 1, and line is not blank\n",
    "    # Let's get a list of the data\n",
    "    if (re.search('^(.{1,20}):.*', line) == None) and (flag == 1) and line.strip() != '':\n",
    "        # Using regex, second match is what we want:\n",
    "        category = re.search('^[ |\\t]*?([A-Za-z0-9_-]*)[ |\\t]*(.{1,50})?',line).group(1)\n",
    "        one_category_list.append(category)\n",
    "        category_counter += 1\n",
    "        \n",
    "    # Here we check if this is the blank line after all the category names of a column.\n",
    "    # It checks that our flag is 1 and that we have a blank line.\n",
    "    if (flag == 1) and line.strip() == '':\n",
    "        all_col_categ[columnName]=one_category_list\n",
    "        #all_col_categ.append(one_category_list)\n",
    "        \n",
    "    # Adding to the flag\n",
    "    if line.strip() == '':\n",
    "        flag += 1\n",
    "        \n",
    "    # Reset our flag to zero when we get to a new name\n",
    "    if (re.search('^(.{1,20}):.*', line) != None):\n",
    "        prev_column = (re.search('^(.{1,20}):.*', line)).group(1)\n",
    "        one_category_list = []   # reset our category list to null\n",
    "        columnName = re.search('^(.{1,20}):.*', line).group(1)\n",
    "        flag = 0             # reset our flag to 0\n",
    "        category_counter = 0 # reset our category counter\n",
    "        \n",
    "    i += 1\n",
    "#Missed last category set:\n",
    "last_categories = ['Normal','Abnormal','AdjLand','Alloca','Family','Partial']\n",
    "all_col_categ['SaleCondition'] = last_categories\n",
    "\n",
    "#print(all_col_categ)"
   ]
  },
  {
   "cell_type": "markdown",
   "metadata": {},
   "source": [
    "Here we will go through all of the columns. In each column, we check if it is numeric. If it is not, we will compare the category options in the text file to the categories in the dataset. If they do not match, we print the column name."
   ]
  },
  {
   "cell_type": "code",
   "execution_count": 531,
   "metadata": {},
   "outputs": [],
   "source": [
    "# Our two lists of column names are not in order together\n",
    "\n",
    "import numbers\n",
    "j = 0\n",
    "for i in range(len(names)):\n",
    "    name = names[i]\n",
    "    \n",
    "    # If the column is not numeric, we will check the categories\n",
    "    if isinstance(house_train[name][0], numbers.Number) == 0:  \n",
    "#         print(i)\n",
    "#         print('-'*100)\n",
    "#         print(name)\n",
    "        all_col_set = set(all_col_categ[name])   # set of all ~42 categories from columns.txt\n",
    "\n",
    "        # Check if sets are equal for train and test set. If they are not, print them.\n",
    "        \n",
    "        train_col = house_train.iloc[:, [i]]\n",
    "        set_unique_train = set(pd.unique(train_col.values.ravel()))\n",
    "        test_col = house_test.iloc[:, [i]]\n",
    "        set_unique_test = set(pd.unique(test_col.values.ravel()))\n",
    "        \n",
    "#         if set_unique_train.issubset(all_col_set)==0 or set_unique_test.issubset(all_col_set)==0:\n",
    "#             print(all_col_set)\n",
    "#             print('.'*50)\n",
    "        \n",
    "#         if set_unique_train.issubset(all_col_set)==0:\n",
    "#             print(\"The train unique values are not contained in the set from columns.txt\")\n",
    "#             print(set_unique_train)\n",
    "#             print('.'*50)\n",
    "        \n",
    "#         if set_unique_test.issubset(all_col_set)==0:\n",
    "#             print(\"The test unique values are not contained in the set from columns.txt\")\n",
    "#             print(set_unique_test)\n",
    "            \n",
    "        #CHECK TEST TOO\n",
    "        \n",
    "        j += 1\n"
   ]
  },
  {
   "cell_type": "markdown",
   "metadata": {},
   "source": [
    "Fixing misnamed values"
   ]
  },
  {
   "cell_type": "code",
   "execution_count": 419,
   "metadata": {},
   "outputs": [],
   "source": [
    "# MSZoning\n",
    "mask = house_train.MSZoning == 'C (all)'\n",
    "house_train.loc[mask, 'MSZoning'] = 'C'\n",
    "\n",
    "# Utilities\n",
    "# Interesting that the Utilities training set are all included, but test only has AllPub and nan...\n",
    "\n",
    "# Neighborhood\n",
    "mask = house_train.Neighborhood == 'NAmes'\n",
    "house_train.loc[mask, 'Neighborhood'] = 'Names'\n",
    "mask = house_test.Neighborhood == 'NAmes'\n",
    "house_test.loc[mask, 'Neighborhood'] = 'Names'\n",
    "\n",
    "# Building type: ignoring because the train and test match.\n",
    "\n",
    "# House style - looks fine.\n",
    "# Interestingly, 2.5 Fin is in only the training set, does not appear in test set.\n",
    "\n",
    "# RoofMat1\n",
    "# Train haas 4 more categories than test. Train has ClyTile, Metal, Membran, and Roll, which test does not have.\n",
    "\n",
    "# Exterior1st\n",
    "# Train has stone and ImStucc (test does not have these.)\n",
    "# Test does not have ImStucc at all. Also has nan.\n",
    "# Maybe we want to change ImStucc in to Stucc in train set?\n",
    "\n",
    "# Exterior2nd\n",
    "# nan is included in test, but not in train\n",
    "\n",
    "# MasVnrType\n",
    "# No Cblock, but we do have nans\n",
    "\n",
    "# I did not write all the mismatched columns. The above is about half of them.\n",
    "# I don't think we need to change any of the values to something else at this moment. \n",
    "# Next we'll look at nans."
   ]
  },
  {
   "cell_type": "markdown",
   "metadata": {},
   "source": [
    "### 2.3  Fixing all the NaNs"
   ]
  },
  {
   "cell_type": "code",
   "execution_count": 420,
   "metadata": {},
   "outputs": [],
   "source": [
    "########################################## TRAIN #######################################\n",
    "mask = house_train.Alley.isnull()\n",
    "house_train.loc[mask, 'Alley'] = 'No'\n",
    "\n",
    "mask = house_train.PoolQC.isnull()\n",
    "house_train.loc[mask, 'PoolQC'] = 'No'\n",
    "\n",
    "mask = house_train.FireplaceQu.isnull()\n",
    "house_train.loc[mask, 'FireplaceQu'] = 'No'\n",
    "\n",
    "mask = house_train.Fence.isnull()\n",
    "house_train.loc[mask, 'Fence'] = 'No'\n",
    "\n",
    "mask = house_train.MiscFeature.isnull()\n",
    "house_train.loc[mask, 'MiscFeature'] = 'No'\n",
    "\n",
    "# Garage\n",
    "mask = house_train.GarageType.isnull()\n",
    "house_train.loc[mask, 'GarageType'] = 'No'\n",
    "\n",
    "mask = house_train.GarageFinish.isnull()\n",
    "house_train.loc[mask, 'GarageFinish'] = 'No'\n",
    "\n",
    "mask = house_train.GarageCond.isnull()\n",
    "house_train.loc[mask, 'GarageCond'] = 'No'\n",
    "\n",
    "mask = house_train.GarageQual.isnull()\n",
    "house_train.loc[mask, 'GarageQual'] = 'No'\n",
    "\n",
    "# Basement\n",
    "mask = house_train.BsmtQual.isnull()\n",
    "house_train.loc[mask, 'BsmtQual'] = 'No'\n",
    "\n",
    "mask = house_train.BsmtCond.isnull()\n",
    "house_train.loc[mask, 'BsmtCond'] = 'No'\n",
    "\n",
    "#mask = house_train.BsmtExposure.isnull()\n",
    "#house_train.loc[mask, 'BsmtExposure'] = 'No'\n",
    "\n",
    "mask = house_train.BsmtFinType1.isnull()\n",
    "house_train.loc[mask, 'BsmtFinType1'] = 'No'\n",
    "\n",
    "mask = house_train.BsmtFinType2.isnull()\n",
    "house_train.loc[mask, 'BsmtFinType2'] = 'No'\n",
    "\n",
    "# Other\n",
    "mask = house_train.MasVnrType.isnull()\n",
    "house_train.loc[mask, 'MasVnrType'] = 'No'\n",
    "\n",
    "mask = house_train.MasVnrArea.isnull()\n",
    "house_train.loc[mask, 'MasVnrArea'] = 0\n",
    "\n",
    "\n",
    "\n",
    "########################################## TEST #######################################\n",
    "mask = house_test.Alley.isnull()\n",
    "house_test.loc[mask, 'Alley'] = 'No'\n",
    "\n",
    "mask = house_test.PoolQC.isnull()\n",
    "house_test.loc[mask, 'PoolQC'] = 'No'\n",
    "\n",
    "mask = house_test.FireplaceQu.isnull()\n",
    "house_test.loc[mask, 'FireplaceQu'] = 'No'\n",
    "\n",
    "mask = house_test.Fence.isnull()\n",
    "house_test.loc[mask, 'Fence'] = 'No'\n",
    "\n",
    "mask = house_test.MiscFeature.isnull()\n",
    "house_test.loc[mask, 'MiscFeature'] = 'No'\n",
    "\n",
    "# Garage\n",
    "mask = house_test.GarageType.isnull()\n",
    "house_test.loc[mask, 'GarageType'] = 'No'\n",
    "\n",
    "mask = house_test.GarageFinish.isnull()\n",
    "house_test.loc[mask, 'GarageFinish'] = 'No'\n",
    "\n",
    "mask = house_test.GarageCond.isnull()\n",
    "house_test.loc[mask, 'GarageCond'] = 'No'\n",
    "\n",
    "mask = house_test.GarageQual.isnull()\n",
    "house_test.loc[mask, 'GarageQual'] = 'No'\n",
    "\n",
    "# Basement\n",
    "mask = house_test.BsmtQual.isnull()\n",
    "house_test.loc[mask, 'BsmtQual'] = 'No'\n",
    "\n",
    "mask = house_test.BsmtCond.isnull()\n",
    "house_test.loc[mask, 'BsmtCond'] = 'No'\n",
    "\n",
    "#mask = house_test.BsmtExposure.isnull()\n",
    "#house_test.loc[mask, 'BsmtExposure'] = 'No'\n",
    "\n",
    "mask = house_test.BsmtFinType1.isnull()\n",
    "house_test.loc[mask, 'BsmtFinType1'] = 'No'\n",
    "\n",
    "mask = house_test.BsmtFinType2.isnull()\n",
    "house_test.loc[mask, 'BsmtFinType2'] = 'No'\n",
    "\n",
    "# Other\n",
    "mask = house_test.MasVnrType.isnull()\n",
    "house_test.loc[mask, 'MasVnrType'] = 'No'\n",
    "\n",
    "mask = house_test.MasVnrArea.isnull()\n",
    "house_test.loc[mask, 'MasVnrArea'] = 0"
   ]
  },
  {
   "cell_type": "code",
   "execution_count": 421,
   "metadata": {},
   "outputs": [
    {
     "data": {
      "image/png": "[encoded data removed]",
      "text/plain": [
       "<matplotlib.figure.Figure at 0x1a2576c898>"
      ]
     },
     "metadata": {},
     "output_type": "display_data"
    }
   ],
   "source": [
    "# Examining year built and garage, maybe we should have our GarageYrBlt nans be YearBuilt? \n",
    "# Perhaps this is not true though...\n",
    "sns.lmplot('GarageYrBlt', # Horizontal axis\n",
    "           'YearBuilt', # Vertical axis\n",
    "           data=house_train, # Data source\n",
    "           fit_reg=False, # Don't fix a regression line\n",
    "           #hue=\"z\", # Set color\n",
    "           scatter_kws={\"marker\": \"D\", # Set marker style\n",
    "                        \"s\": 100}) # S marker size\n",
    "\n",
    "# I think it is fair to say this...it probably just means that there is no garage...\n",
    "mask = house_test.GarageYrBlt.isnull()\n",
    "house_test.loc[mask, 'GarageYrBlt'] = house_test.YearBuilt\n",
    "\n",
    "mask = house_train.GarageYrBlt.isnull()\n",
    "house_train.loc[mask, 'GarageYrBlt'] = house_train.YearBuilt\n"
   ]
  },
  {
   "cell_type": "markdown",
   "metadata": {},
   "source": [
    "Filling in the last remaining NaNs with KNN:\n",
    " * Lot Frontage (~300)\n",
    " * Electrical (1)\n",
    " * "
   ]
  },
  {
   "cell_type": "code",
   "execution_count": 422,
   "metadata": {},
   "outputs": [],
   "source": [
    "# from fancyimpute import KNN \n",
    "\n",
    "# house_train = KNN(k=20).complete(house_train)\n",
    "# house_test = KNN(k=20).complete(house_test)\n",
    "\n",
    "# Filling in the numeric with the median value.\n",
    "# here we impute the median of a bunch of 1 nans (number of basement bathrooms)\n",
    "# The larger imputation here for error causing is lot frontage, with around ~300 imputations.\n",
    "house_train.fillna(house_train.median(),inplace = True)\n",
    "house_test.fillna(house_test.median(),inplace = True)\n",
    "\n",
    "# Filling in the categoricals with the median value.\n",
    "house_train = house_train.apply(lambda x:x.fillna(x.value_counts().index[0]))\n",
    "house_test = house_test.apply(lambda x:x.fillna(x.value_counts().index[0]))\n",
    "\n",
    "# Test\n",
    "for i in range(len(names)):\n",
    "    s = house_test.iloc[:,i]\n",
    "    sum1 = s.isnull().sum()\n",
    "    if sum1 != 0:\n",
    "        print(names[i])\n",
    "        print(sum1)\n",
    "\n",
    "# Train\n",
    "for i in range(len(names)):\n",
    "    s = house_train.iloc[:,i]\n",
    "    sum1 = s.isnull().sum()\n",
    "    if sum1 != 0:\n",
    "        print(names[i])\n",
    "        print(sum1)\n",
    "        \n",
    "# Nothing printed means no more NAs! Now we can do other stuff!"
   ]
  },
  {
   "cell_type": "markdown",
   "metadata": {},
   "source": [
    "### 2.3 Converting ordinal categories into numeric."
   ]
  },
  {
   "cell_type": "markdown",
   "metadata": {
    "collapsed": true
   },
   "source": [
    "Here we will convert the following columns from categorical to numeric:\n",
    "* GarageQual\n",
    "* GarageCond\n",
    "* FireplaceQu\n",
    "* KitchenQual\n",
    "* HeatingQC\n",
    "* BsmtCond\n",
    "* BsmtQual\n",
    "* ExterCond\n",
    "* ExterQual"
   ]
  },
  {
   "cell_type": "code",
   "execution_count": 423,
   "metadata": {},
   "outputs": [
    {
     "name": "stdout",
     "output_type": "stream",
     "text": [
      "{'TA', 'Fa', 'Ex', 'Gd', 'Po'}\n",
      "ExterCond\n"
     ]
    }
   ],
   "source": [
    "train_col = house_train.iloc[:, [28]]\n",
    "set_unique_train = set(pd.unique(train_col.values.ravel()))\n",
    "print(set_unique_train)\n",
    "print(names[28])"
   ]
  },
  {
   "cell_type": "code",
   "execution_count": 424,
   "metadata": {},
   "outputs": [],
   "source": [
    "#########################################\n",
    "# TRAIN\n",
    "#########################################\n",
    "\n",
    "qual_dict = {\"No\": 0, \"Po\": 1, \"Fa\": 2, \"TA\": 3, \"Gd\": 4, \"Ex\": 5,\n",
    "            0:0, 1:1, 2:2, 3:3, 4:4, 5:5}\n",
    "house_train[\"ExterQual\"] = house_train[\"ExterQual\"].map(qual_dict).astype(int)\n",
    "house_train[\"ExterCond\"] = house_train[\"ExterCond\"].map(qual_dict).astype(int)\n",
    "house_train[\"BsmtQual\"] = house_train[\"BsmtQual\"].map(qual_dict).astype(int)\n",
    "house_train[\"BsmtCond\"] = house_train[\"BsmtCond\"].map(qual_dict).astype(int)\n",
    "house_train[\"HeatingQC\"] = house_train[\"HeatingQC\"].map(qual_dict).astype(int)\n",
    "house_train[\"KitchenQual\"] = house_train[\"KitchenQual\"].map(qual_dict).astype(int)\n",
    "house_train[\"FireplaceQu\"] = house_train[\"FireplaceQu\"].map(qual_dict).astype(int)\n",
    "house_train[\"GarageQual\"] = house_train[\"GarageQual\"].map(qual_dict).astype(int)\n",
    "house_train[\"GarageCond\"] = house_train[\"GarageCond\"].map(qual_dict).astype(int)\n",
    "\n",
    "#########################################\n",
    "# TEST\n",
    "#########################################\n",
    "\n",
    "qual_dict = {\"No\": 0, \"Po\": 1, \"Fa\": 2, \"TA\": 3, \"Gd\": 4, \"Ex\": 5,\n",
    "            0:0, 1:1, 2:2, 3:3, 4:4, 5:5}\n",
    "house_test[\"ExterQual\"] = house_test[\"ExterQual\"].map(qual_dict).astype(int)\n",
    "house_test[\"ExterCond\"] = house_test[\"ExterCond\"].map(qual_dict).astype(int)\n",
    "house_test[\"BsmtQual\"] = house_test[\"BsmtQual\"].map(qual_dict).astype(int)\n",
    "house_test[\"BsmtCond\"] = house_test[\"BsmtCond\"].map(qual_dict).astype(int)\n",
    "house_test[\"HeatingQC\"] = house_test[\"HeatingQC\"].map(qual_dict).astype(int)\n",
    "house_test[\"KitchenQual\"] = house_test[\"KitchenQual\"].map(qual_dict).astype(int)\n",
    "house_test[\"FireplaceQu\"] = house_test[\"FireplaceQu\"].map(qual_dict).astype(int)\n",
    "house_test[\"GarageQual\"] = house_test[\"GarageQual\"].map(qual_dict).astype(int)\n",
    "house_test[\"GarageCond\"] = house_test[\"GarageCond\"].map(qual_dict).astype(int)"
   ]
  },
  {
   "cell_type": "code",
   "execution_count": 425,
   "metadata": {},
   "outputs": [],
   "source": [
    "#########################################\n",
    "# TRAIN\n",
    "#########################################\n",
    "\n",
    "house_train[\"BsmtExposure\"] = house_train[\"BsmtExposure\"].map({None: 0, \"No\": 1, \"Mn\": 2, \"Av\": 3, \"Gd\": 4,\n",
    "                                                              0:0, 1:1, 2:2, 3:3, 4:4}).astype(int)\n",
    "\n",
    "bsmt_fin_dict = {\"No\": 0, \"Unf\": 1, \"LwQ\": 2, \"Rec\": 3, \"BLQ\": 4, \"ALQ\": 5, \"GLQ\": 6,\n",
    "                0:0, 1:1, 2:2, 3:3, 4:4, 5:5, 6:6}\n",
    "house_train[\"BsmtFinType1\"] = house_train[\"BsmtFinType1\"].map(bsmt_fin_dict).astype(int)\n",
    "house_train[\"BsmtFinType2\"] = house_train[\"BsmtFinType2\"].map(bsmt_fin_dict).astype(int)\n",
    "\n",
    "house_train[\"Functional\"] = house_train[\"Functional\"].map(\n",
    "        {\"No\": 0, \"Sal\": 1, \"Sev\": 2, \"Maj2\": 3, \"Maj1\": 4, \n",
    "         \"Mod\": 5, \"Min2\": 6, \"Min1\": 7, \"Typ\": 8, \n",
    "          0:0, 1:1, 2:2, 3:3, 4:4, 5:5, 6:6, 7:7, 8:8}).astype(int)\n",
    "\n",
    "house_train[\"GarageFinish\"] = house_train[\"GarageFinish\"].map(\n",
    "        {\"No\": 0, \"Unf\": 1, \"RFn\": 2, \"Fin\": 3, 0:0, 1:1, 2:2, 3:3}).astype(int)\n",
    "\n",
    "house_train[\"Fence\"] = house_train[\"Fence\"].map(\n",
    "        {\"No\": 0, \"MnWw\": 1, \"GdWo\": 2, \"MnPrv\": 3, \"GdPrv\": 4,\n",
    "         0:0, 1:1, 2:2, 3:3, 4:4}).astype(int)\n",
    "\n",
    "house_train[\"CentralAir\"] = house_train[\"CentralAir\"].map(\n",
    "        {\"N\": 0, \"Y\": 1,\n",
    "         0:0, 1:1}).astype(int)\n",
    "\n",
    "#########################################\n",
    "# TEST\n",
    "#########################################\n",
    "\n",
    "house_test[\"BsmtExposure\"] = house_test[\"BsmtExposure\"].map({None: 0, \"No\": 1, \"Mn\": 2, \"Av\": 3, \"Gd\": 4,\n",
    "                                                              0:0, 1:1, 2:2, 3:3, 4:4}).astype(int)\n",
    "\n",
    "bsmt_fin_dict = {\"No\": 0, \"Unf\": 1, \"LwQ\": 2, \"Rec\": 3, \"BLQ\": 4, \"ALQ\": 5, \"GLQ\": 6,\n",
    "                0:0, 1:1, 2:2, 3:3, 4:4, 5:5, 6:6}\n",
    "house_test[\"BsmtFinType1\"] = house_test[\"BsmtFinType1\"].map(bsmt_fin_dict).astype(int)\n",
    "house_test[\"BsmtFinType2\"] = house_test[\"BsmtFinType2\"].map(bsmt_fin_dict).astype(int)\n",
    "\n",
    "house_test[\"Functional\"] = house_test[\"Functional\"].map(\n",
    "        {\"No\": 0, \"Sal\": 1, \"Sev\": 2, \"Maj2\": 3, \"Maj1\": 4, \n",
    "         \"Mod\": 5, \"Min2\": 6, \"Min1\": 7, \"Typ\": 8, \n",
    "          0:0, 1:1, 2:2, 3:3, 4:4, 5:5, 6:6, 7:7, 8:8}).astype(int)\n",
    "\n",
    "house_test[\"GarageFinish\"] = house_test[\"GarageFinish\"].map(\n",
    "        {\"No\": 0, \"Unf\": 1, \"RFn\": 2, \"Fin\": 3, 0:0, 1:1, 2:2, 3:3}).astype(int)\n",
    "\n",
    "house_test[\"Fence\"] = house_test[\"Fence\"].map(\n",
    "        {\"No\": 0, \"MnWw\": 1, \"GdWo\": 2, \"MnPrv\": 3, \"GdPrv\": 4,\n",
    "         0:0, 1:1, 2:2, 3:3, 4:4}).astype(int)\n",
    "\n",
    "house_test[\"CentralAir\"] = house_test[\"CentralAir\"].map(\n",
    "        {\"N\": 0, \"Y\": 1,\n",
    "         0:0, 1:1}).astype(int)"
   ]
  },
  {
   "cell_type": "code",
   "execution_count": 426,
   "metadata": {},
   "outputs": [
    {
     "name": "stdout",
     "output_type": "stream",
     "text": [
      "{dtype('int64'): Index(['Id', 'MSSubClass', 'LotArea', 'OverallQual', 'OverallCond',\n",
      "       'YearBuilt', 'YearRemodAdd', 'ExterQual', 'ExterCond', 'BsmtQual',\n",
      "       'BsmtCond', 'BsmtExposure', 'BsmtFinType1', 'BsmtFinSF1',\n",
      "       'BsmtFinType2', 'BsmtFinSF2', 'BsmtUnfSF', 'TotalBsmtSF', 'HeatingQC',\n",
      "       'CentralAir', '1stFlrSF', '2ndFlrSF', 'LowQualFinSF', 'GrLivArea',\n",
      "       'BsmtFullBath', 'BsmtHalfBath', 'FullBath', 'HalfBath', 'Bedroom',\n",
      "       'Kitchen', 'KitchenQual', 'TotRmsAbvGrd', 'Functional', 'Fireplaces',\n",
      "       'FireplaceQu', 'GarageFinish', 'GarageCars', 'GarageArea', 'GarageQual',\n",
      "       'GarageCond', 'WoodDeckSF', 'OpenPorchSF', 'EnclosedPorch', '3SsnPorch',\n",
      "       'ScreenPorch', 'PoolArea', 'Fence', 'MiscVal', 'MoSold', 'YrSold',\n",
      "       'SalePrice'],\n",
      "      dtype='object'), dtype('float64'): Index(['LotFrontage', 'MasVnrArea', 'GarageYrBlt'], dtype='object'), dtype('O'): Index(['MSZoning', 'Street', 'Alley', 'LotShape', 'LandContour', 'Utilities',\n",
      "       'LotConfig', 'LandSlope', 'Neighborhood', 'Condition1', 'Condition2',\n",
      "       'BldgType', 'HouseStyle', 'RoofStyle', 'RoofMatl', 'Exterior1st',\n",
      "       'Exterior2nd', 'MasVnrType', 'Foundation', 'Heating', 'Electrical',\n",
      "       'GarageType', 'PavedDrive', 'PoolQC', 'MiscFeature', 'SaleType',\n",
      "       'SaleCondition'],\n",
      "      dtype='object')}\n"
     ]
    }
   ],
   "source": [
    "x = house_train.columns.to_series().groupby(house_train.dtypes).groups\n",
    "# print(x)"
   ]
  },
  {
   "cell_type": "markdown",
   "metadata": {},
   "source": [
    "### 2.4 Non-ordinal Categorical Variables and Feature Engineering"
   ]
  },
  {
   "cell_type": "code",
   "execution_count": 427,
   "metadata": {
    "collapsed": true
   },
   "outputs": [],
   "source": [
    "#########################################\n",
    "# TRAIN\n",
    "#########################################\n",
    "\n",
    "# IR2 and IR3 don't appear that often, so just make a distinction\n",
    "# between regular and irregular.\n",
    "house_train[\"IsRegularLotShape\"] = (house_train[\"LotShape\"] == \"Reg\") * 1\n",
    "\n",
    "# Most properties are level; bin the other possibilities together\n",
    "# as \"not level\".\n",
    "house_train[\"IsLandLevel\"] = (house_train[\"LandContour\"] == \"Lvl\") * 1\n",
    "\n",
    "# Most land slopes are gentle; treat the others as \"not gentle\".\n",
    "house_train[\"IsLandSlopeGentle\"] = (house_train[\"LandSlope\"] == \"Gtl\") * 1\n",
    "\n",
    "# Most properties use standard circuit breakers.\n",
    "house_train[\"IsElectricalSBrkr\"] = (house_train[\"Electrical\"] == \"SBrkr\") * 1\n",
    "\n",
    "# About 2/3rd have an attached garage.\n",
    "house_train[\"IsGarageDetached\"] = (house_train[\"GarageType\"] == \"Detchd\") * 1\n",
    "\n",
    "# Most have a paved drive. Treat dirt/gravel and partial pavement\n",
    "# as \"not paved\".\n",
    "house_train[\"IsPavedDrive\"] = (house_train[\"PavedDrive\"] == \"Y\") * 1\n",
    "\n",
    "# The only interesting \"misc. feature\" is the presence of a shed.\n",
    "house_train[\"HasShed\"] = (house_train[\"MiscFeature\"] == \"Shed\") * 1.  \n",
    "\n",
    "# If YearRemodAdd != YearBuilt, then a remodeling took place at some point.\n",
    "house_train[\"Remodeled\"] = (house_train[\"YearRemodAdd\"] != house_train[\"YearBuilt\"]) * 1\n",
    "    \n",
    "# Did a remodeling happen in the year the house was sold?\n",
    "house_train[\"RecentRemodel\"] = (house_train[\"YearRemodAdd\"] == house_train[\"YrSold\"]) * 1\n",
    "    \n",
    "# Was this house sold in the year it was built?\n",
    "house_train[\"VeryNewHouse\"] = (house_train[\"YearBuilt\"] == house_train[\"YrSold\"]) * 1\n",
    "\n",
    "#########################################\n",
    "# TEST\n",
    "#########################################\n",
    "\n",
    "# IR2 and IR3 don't appear that often, so just make a distinction\n",
    "# between regular and irregular.\n",
    "house_test[\"IsRegularLotShape\"] = (house_test[\"LotShape\"] == \"Reg\") * 1\n",
    "\n",
    "# Most properties are level; bin the other possibilities together\n",
    "# as \"not level\".\n",
    "house_test[\"IsLandLevel\"] = (house_test[\"LandContour\"] == \"Lvl\") * 1\n",
    "\n",
    "# Most land slopes are gentle; treat the others as \"not gentle\".\n",
    "house_test[\"IsLandSlopeGentle\"] = (house_test[\"LandSlope\"] == \"Gtl\") * 1\n",
    "\n",
    "# Most properties use standard circuit breakers.\n",
    "house_test[\"IsElectricalSBrkr\"] = (house_test[\"Electrical\"] == \"SBrkr\") * 1\n",
    "\n",
    "# About 2/3rd have an attached garage.\n",
    "house_test[\"IsGarageDetached\"] = (house_test[\"GarageType\"] == \"Detchd\") * 1\n",
    "\n",
    "# Most have a paved drive. Treat dirt/gravel and partial pavement\n",
    "# as \"not paved\".\n",
    "house_test[\"IsPavedDrive\"] = (house_test[\"PavedDrive\"] == \"Y\") * 1\n",
    "\n",
    "# The only interesting \"misc. feature\" is the presence of a shed.\n",
    "house_test[\"HasShed\"] = (house_test[\"MiscFeature\"] == \"Shed\") * 1.  \n",
    "\n",
    "# If YearRemodAdd != YearBuilt, then a remodeling took place at some point.\n",
    "house_test[\"Remodeled\"] = (house_test[\"YearRemodAdd\"] != house_test[\"YearBuilt\"]) * 1\n",
    "    \n",
    "# Did a remodeling happen in the year the house was sold?\n",
    "house_test[\"RecentRemodel\"] = (house_test[\"YearRemodAdd\"] == house_test[\"YrSold\"]) * 1\n",
    "    \n",
    "# Was this house sold in the year it was built?\n",
    "house_test[\"VeryNewHouse\"] = (house_test[\"YearBuilt\"] == house_test[\"YrSold\"]) * 1"
   ]
  },
  {
   "cell_type": "markdown",
   "metadata": {},
   "source": [
    "More feature engineering, a lot of it coming from:\n",
    "https://www.kaggle.com/humananalog/xgboost-lasso/code"
   ]
  },
  {
   "cell_type": "code",
   "execution_count": 428,
   "metadata": {},
   "outputs": [],
   "source": [
    "# More feature engineering...\n",
    "\n",
    "#########################################\n",
    "# TRAIN\n",
    "#########################################\n",
    "\n",
    "house_train[\"Has2ndFloor\"] = (house_train[\"2ndFlrSF\"] == 0) * 1\n",
    "house_train[\"HasMasVnr\"] = (house_train[\"MasVnrArea\"] == 0) * 1\n",
    "house_train[\"HasWoodDeck\"] = (house_train[\"WoodDeckSF\"] == 0) * 1\n",
    "house_train[\"HasOpenPorch\"] = (house_train[\"OpenPorchSF\"] == 0) * 1\n",
    "house_train[\"HasEnclosedPorch\"] = (house_train[\"EnclosedPorch\"] == 0) * 1\n",
    "house_train[\"Has3SsnPorch\"] = (house_train[\"3SsnPorch\"] == 0) * 1\n",
    "house_train[\"HasScreenPorch\"] = (house_train[\"ScreenPorch\"] == 0) * 1\n",
    "\n",
    "# Months with the largest number of deals may be significant.\n",
    "house_train[\"HighSeason\"] = house_train[\"MoSold\"].replace( \n",
    "        {1: 0, 2: 0, 3: 0, 4: 1, 5: 1, 6: 1, 7: 1, 8: 0, 9: 0, 10: 0, 11: 0, 12: 0})\n",
    "\n",
    "house_train[\"NewerDwelling\"] = house_train[\"MSSubClass\"].replace(\n",
    "        {20: 1, 30: 0, 40: 0, 45: 0,50: 0, 60: 1, 70: 0, 75: 0, 80: 0, 85: 0,\n",
    "         90: 0, 120: 1, 150: 0, 160: 0, 180: 0, 190: 0})   \n",
    "    \n",
    "house_train.loc[house_train.Neighborhood == 'NridgHt', \"Neighborhood_Good\"] = 1\n",
    "house_train.loc[house_train.Neighborhood == 'Crawfor', \"Neighborhood_Good\"] = 1\n",
    "house_train.loc[house_train.Neighborhood == 'StoneBr', \"Neighborhood_Good\"] = 1\n",
    "house_train.loc[house_train.Neighborhood == 'Somerst', \"Neighborhood_Good\"] = 1\n",
    "house_train.loc[house_train.Neighborhood == 'NoRidge', \"Neighborhood_Good\"] = 1\n",
    "house_train[\"Neighborhood_Good\"].fillna(0, inplace=True)\n",
    "\n",
    "house_train[\"SaleCondition_PriceDown\"] = house_train.SaleCondition.replace(\n",
    "        {'Abnorml': 1, 'Alloca': 1, 'AdjLand': 1, 'Family': 1, 'Normal': 0, 'Partial': 0})\n",
    "\n",
    "# House completed before sale or not\n",
    "house_train[\"BoughtOffPlan\"] = house_train.SaleCondition.replace(\n",
    "        {\"Abnorml\" : 0, \"Alloca\" : 0, \"AdjLand\" : 0, \"Family\" : 0, \"Normal\" : 0, \"Partial\" : 1})\n",
    "    \n",
    "house_train[\"BadHeating\"] = house_train.HeatingQC.replace(\n",
    "        {5: 0, 4: 0, 3: 0, 2: 1, 1: 1, 0:0})\n",
    "\n",
    "area_cols = ['LotFrontage', 'LotArea', 'MasVnrArea', 'BsmtFinSF1', 'BsmtFinSF2', 'BsmtUnfSF',\n",
    "                 'TotalBsmtSF', '1stFlrSF', '2ndFlrSF', 'GrLivArea', 'GarageArea', 'WoodDeckSF', \n",
    "                 'OpenPorchSF', 'EnclosedPorch', '3SsnPorch', 'ScreenPorch', 'LowQualFinSF', 'PoolArea' ]\n",
    "house_train[\"TotalArea\"] = house_train[area_cols].sum(axis=1)\n",
    "\n",
    "house_train[\"TotalArea1st2nd\"] = house_train[\"1stFlrSF\"] + house_train[\"2ndFlrSF\"]\n",
    "\n",
    "house_train[\"Age\"] = 2010 - house_train[\"YearBuilt\"]\n",
    "house_train[\"TimeSinceSold\"] = 2010 - house_train[\"YrSold\"]\n",
    "\n",
    "house_train[\"SeasonSold\"] = house_train[\"MoSold\"].map({12:0, 1:0, 2:0, 3:1, 4:1, 5:1, \n",
    "                                                  6:2, 7:2, 8:2, 9:3, 10:3, 11:3}).astype(int)\n",
    "    \n",
    "house_train[\"YearsSinceRemodel\"] = house_train[\"YrSold\"] - house_train[\"YearRemodAdd\"]\n",
    "\n",
    "#########################################\n",
    "# TEST\n",
    "#########################################\n",
    "\n",
    "house_test[\"Has2ndFloor\"] = (house_test[\"2ndFlrSF\"] == 0) * 1\n",
    "house_test[\"HasMasVnr\"] = (house_test[\"MasVnrArea\"] == 0) * 1\n",
    "house_test[\"HasWoodDeck\"] = (house_test[\"WoodDeckSF\"] == 0) * 1\n",
    "house_test[\"HasOpenPorch\"] = (house_test[\"OpenPorchSF\"] == 0) * 1\n",
    "house_test[\"HasEnclosedPorch\"] = (house_test[\"EnclosedPorch\"] == 0) * 1\n",
    "house_test[\"Has3SsnPorch\"] = (house_test[\"3SsnPorch\"] == 0) * 1\n",
    "house_test[\"HasScreenPorch\"] = (house_test[\"ScreenPorch\"] == 0) * 1\n",
    "\n",
    "# Months with the largest number of deals may be significant.\n",
    "house_test[\"HighSeason\"] = house_test[\"MoSold\"].replace( \n",
    "        {1: 0, 2: 0, 3: 0, 4: 1, 5: 1, 6: 1, 7: 1, 8: 0, 9: 0, 10: 0, 11: 0, 12: 0})\n",
    "\n",
    "house_test[\"NewerDwelling\"] = house_test[\"MSSubClass\"].replace(\n",
    "        {20: 1, 30: 0, 40: 0, 45: 0,50: 0, 60: 1, 70: 0, 75: 0, 80: 0, 85: 0,\n",
    "         90: 0, 120: 1, 150: 0, 160: 0, 180: 0, 190: 0})   \n",
    "    \n",
    "house_test.loc[house_test.Neighborhood == 'NridgHt', \"Neighborhood_Good\"] = 1\n",
    "house_test.loc[house_test.Neighborhood == 'Crawfor', \"Neighborhood_Good\"] = 1\n",
    "house_test.loc[house_test.Neighborhood == 'StoneBr', \"Neighborhood_Good\"] = 1\n",
    "house_test.loc[house_test.Neighborhood == 'Somerst', \"Neighborhood_Good\"] = 1\n",
    "house_test.loc[house_test.Neighborhood == 'NoRidge', \"Neighborhood_Good\"] = 1\n",
    "house_test[\"Neighborhood_Good\"].fillna(0, inplace=True)\n",
    "\n",
    "house_test[\"SaleCondition_PriceDown\"] = house_test.SaleCondition.replace(\n",
    "        {'Abnorml': 1, 'Alloca': 1, 'AdjLand': 1, 'Family': 1, 'Normal': 0, 'Partial': 0})\n",
    "\n",
    "# House completed before sale or not\n",
    "house_test[\"BoughtOffPlan\"] = house_test.SaleCondition.replace(\n",
    "        {\"Abnorml\" : 0, \"Alloca\" : 0, \"AdjLand\" : 0, \"Family\" : 0, \"Normal\" : 0, \"Partial\" : 1})\n",
    "    \n",
    "house_test[\"BadHeating\"] = house_test.HeatingQC.replace(\n",
    "        {5: 0, 4: 0, 3: 0, 2: 1, 1: 1, 0:0})\n",
    "\n",
    "area_cols = ['LotFrontage', 'LotArea', 'MasVnrArea', 'BsmtFinSF1', 'BsmtFinSF2', 'BsmtUnfSF',\n",
    "                 'TotalBsmtSF', '1stFlrSF', '2ndFlrSF', 'GrLivArea', 'GarageArea', 'WoodDeckSF', \n",
    "                 'OpenPorchSF', 'EnclosedPorch', '3SsnPorch', 'ScreenPorch', 'LowQualFinSF', 'PoolArea' ]\n",
    "house_test[\"TotalArea\"] = house_test[area_cols].sum(axis=1)\n",
    "\n",
    "house_test[\"TotalArea1st2nd\"] = house_test[\"1stFlrSF\"] + house_test[\"2ndFlrSF\"]\n",
    "\n",
    "house_test[\"Age\"] = 2010 - house_test[\"YearBuilt\"]\n",
    "house_test[\"TimeSinceSold\"] = 2010 - house_test[\"YrSold\"]\n",
    "\n",
    "house_test[\"SeasonSold\"] = house_test[\"MoSold\"].map({12:0, 1:0, 2:0, 3:1, 4:1, 5:1, \n",
    "                                                  6:2, 7:2, 8:2, 9:3, 10:3, 11:3}).astype(int)\n",
    "    \n",
    "house_test[\"YearsSinceRemodel\"] = house_test[\"YrSold\"] - house_test[\"YearRemodAdd\"]"
   ]
  },
  {
   "cell_type": "markdown",
   "metadata": {},
   "source": [
    "Now we add in some neighborhood information:"
   ]
  },
  {
   "cell_type": "code",
   "execution_count": 429,
   "metadata": {
    "collapsed": true
   },
   "outputs": [],
   "source": [
    "\n",
    "    \n",
    "# Bin by neighborhood (a little arbitrarily). Values were computed by: \n",
    "# train_df[\"SalePrice\"].groupby(train_df[\"Neighborhood\"]).median().sort_values()\n",
    "neighborhood_map = {\n",
    "        \"MeadowV\" : 0,  #  88000\n",
    "        \"IDOTRR\" : 1,   # 103000\n",
    "        \"BrDale\" : 1,   # 106000\n",
    "        \"OldTown\" : 1,  # 119000\n",
    "        \"Edwards\" : 1,  # 119500\n",
    "        \"BrkSide\" : 1,  # 124300\n",
    "        \"Sawyer\" : 1,   # 135000\n",
    "        \"Blueste\" : 1,  # 137500\n",
    "        \"SWISU\" : 2,    # 139500\n",
    "        \"Names\" : 2,    # 140000\n",
    "        \"NPkVill\" : 2,  # 146000\n",
    "        \"Mitchel\" : 2,  # 153500\n",
    "        \"SawyerW\" : 2,  # 179900\n",
    "        \"Gilbert\" : 2,  # 181000\n",
    "        \"NWAmes\" : 2,   # 182900\n",
    "        \"Blmngtn\" : 2,  # 191000\n",
    "        \"CollgCr\" : 2,  # 197200\n",
    "        \"ClearCr\" : 3,  # 200250\n",
    "        \"Crawfor\" : 3,  # 200624\n",
    "        \"Veenker\" : 3,  # 218000\n",
    "        \"Somerst\" : 3,  # 225500\n",
    "        \"Timber\" : 3,   # 228475\n",
    "        \"StoneBr\" : 4,  # 278000\n",
    "        \"NoRidge\" : 4,  # 290000\n",
    "        \"NridgHt\" : 4,  # 315000\n",
    "}\n",
    "\n",
    "house_train[\"NeighborhoodBin\"] = house_train[\"Neighborhood\"].map(neighborhood_map)\n",
    "house_test[\"NeighborhoodBin\"] = house_test[\"Neighborhood\"].map(neighborhood_map)"
   ]
  },
  {
   "cell_type": "markdown",
   "metadata": {},
   "source": [
    "Let's see if the USA market housing fluxuations affected this small town. We can put all the points on a plot..."
   ]
  },
  {
   "cell_type": "code",
   "execution_count": 430,
   "metadata": {
    "scrolled": false
   },
   "outputs": [
    {
     "data": {
      "text/plain": [
       "<seaborn.axisgrid.FacetGrid at 0x114f196a0>"
      ]
     },
     "execution_count": 430,
     "metadata": {},
     "output_type": "execute_result"
    },
    {
     "data": {
      "image/png": "[encoded data removed]",
      "text/plain": [
       "<matplotlib.figure.Figure at 0x1094cce48>"
      ]
     },
     "metadata": {},
     "output_type": "display_data"
    }
   ],
   "source": [
    "sns.lmplot('YearBuilt', # Horizontal axis\n",
    "           'SalePrice', # Vertical axis\n",
    "           data=house_train, # Data source\n",
    "           fit_reg=False, # Don't fix a regression line\n",
    "           scatter_kws={\"marker\": \"D\", # Set marker style\n",
    "                        \"alpha\": .2,\n",
    "                        \"s\": 1}) # S marker size\n",
    "\n",
    "# There is a definite trend here in price, but this might be learned from the year columns..."
   ]
  },
  {
   "cell_type": "code",
   "execution_count": 530,
   "metadata": {},
   "outputs": [],
   "source": [
    "# house_train.columns.to_series().groupby(house_train.dtypes).groups"
   ]
  },
  {
   "cell_type": "markdown",
   "metadata": {},
   "source": [
    "Now we have done some good feature engineering. For the rest of the categorical features that are left, we can either omit them or use them as one hot features (get_dummies). We'll see what's best in the future."
   ]
  },
  {
   "cell_type": "markdown",
   "metadata": {},
   "source": [
    "### 2.5 Removing Outliers"
   ]
  },
  {
   "cell_type": "markdown",
   "metadata": {},
   "source": [
    "In order to refine our algorithm we are going to want to remove outliers, points that are too far beyond the realm of likelihood..."
   ]
  },
  {
   "cell_type": "code",
   "execution_count": 432,
   "metadata": {},
   "outputs": [
    {
     "data": {
      "text/plain": [
       "<seaborn.axisgrid.FacetGrid at 0x1a25d81860>"
      ]
     },
     "execution_count": 432,
     "metadata": {},
     "output_type": "execute_result"
    },
    {
     "data": {
      "image/png": "[encoded data removed]",
      "text/plain": [
       "<matplotlib.figure.Figure at 0x1a25d81780>"
      ]
     },
     "metadata": {},
     "output_type": "display_data"
    }
   ],
   "source": [
    "sns.lmplot('GrLivArea', # Horizontal axis\n",
    "           'SalePrice', # Vertical axis\n",
    "           data=house_train, # Data source\n",
    "           fit_reg=False, # Don't fix a regression line\n",
    "           scatter_kws={\"marker\": \"D\", # Set marker style\n",
    "                        \"alpha\": .2,\n",
    "                        \"s\": 1}) # S marker size"
   ]
  },
  {
   "cell_type": "code",
   "execution_count": 433,
   "metadata": {},
   "outputs": [],
   "source": [
    "# Based on the author's paper, we will remove some of the outliers:\n",
    "house_train = house_train.drop(house_train[(house_train.GrLivArea > 4000) & (house_train['SalePrice']<300000)].index)"
   ]
  },
  {
   "cell_type": "markdown",
   "metadata": {},
   "source": [
    "## 3.0 Exploration, Unsupervised Learning"
   ]
  },
  {
   "cell_type": "markdown",
   "metadata": {},
   "source": [
    "Now we want to look for some more structure in the data. Are there discernible groups? What features are the primary drivers of SalePrice?\n",
    "\n",
    "First we will make some dummies for the categorical features so we can do PCA. "
   ]
  },
  {
   "cell_type": "code",
   "execution_count": 384,
   "metadata": {},
   "outputs": [
    {
     "name": "stdout",
     "output_type": "stream",
     "text": [
      "(1456, 111)\n",
      "(1459, 110)\n",
      "(1456, 268)\n",
      "(1459, 267)\n"
     ]
    },
    {
     "name": "stderr",
     "output_type": "stream",
     "text": [
      "/anaconda/lib/python3.6/site-packages/ipykernel_launcher.py:7: SettingWithCopyWarning: \n",
      "A value is trying to be set on a copy of a slice from a DataFrame\n",
      "\n",
      "See the caveats in the documentation: http://pandas.pydata.org/pandas-docs/stable/indexing.html#indexing-view-versus-copy\n",
      "  import sys\n"
     ]
    }
   ],
   "source": [
    "full_df = pd.concat(( house_train, house_test ))\n",
    "full_df_dummies  = pd.get_dummies(full_df)\n",
    "\n",
    "house_train_d = full_df_dummies[0:1456]\n",
    "house_test_d = full_df_dummies[1456:2915]\n",
    "\n",
    "house_test_d.drop(['SalePrice'], axis=1, inplace = True)\n",
    "\n",
    "# Putting SalePrice last, check that the columns are in same order...\n",
    "names = list(house_train_d.columns.values)\n",
    "cols = house_train_d.columns.tolist()\n",
    "cols = cols[0:70] + cols[71:269] + [cols[70]]\n",
    "house_train_d = house_train_d[cols] \n",
    "\n",
    "# Sanity Check\n",
    "print(house_train.shape)\n",
    "print(house_test.shape)\n",
    "print(house_train_d.shape)\n",
    "print(house_test_d.shape)"
   ]
  },
  {
   "cell_type": "code",
   "execution_count": 385,
   "metadata": {},
   "outputs": [
    {
     "data": {
      "text/plain": [
       "array([[ 3.01100575e-03,  1.66672596e-03,  1.81520658e-05, ...,\n",
       "         4.90929137e-09, -4.90929137e-09,  9.97737451e-01],\n",
       "       [ 3.22050182e-03, -1.32137525e-03,  2.05623152e-05, ...,\n",
       "        -3.11522905e-08,  3.11522905e-08, -6.52440389e-02],\n",
       "       [ 1.70113630e-01,  1.51928898e-01,  3.04159486e-04, ...,\n",
       "        -3.95401436e-07,  3.95401436e-07, -1.53950230e-02],\n",
       "       [ 3.19832027e-01, -6.17095590e-01,  1.82517361e-03, ...,\n",
       "        -4.17699822e-07,  4.17699822e-07, -2.31989950e-03],\n",
       "       [ 1.11338316e-02,  1.09407676e-01, -2.25667864e-04, ...,\n",
       "        -4.07036332e-08,  4.07036332e-08, -3.88545175e-03]])"
      ]
     },
     "execution_count": 385,
     "metadata": {},
     "output_type": "execute_result"
    }
   ],
   "source": [
    "pca = PCA(n_components=5)\n",
    "pca.fit(house_train_d)\n",
    "pca.components_ "
   ]
  },
  {
   "cell_type": "code",
   "execution_count": null,
   "metadata": {
    "collapsed": true
   },
   "outputs": [],
   "source": [
    "X = house_train_d.ix[:,0:267].values\n",
    "y = house_train_d.ix[:,267].values\n",
    "\n",
    "X_std = StandardScaler().fit_transform(X)"
   ]
  },
  {
   "cell_type": "code",
   "execution_count": 533,
   "metadata": {},
   "outputs": [
    {
     "data": {
      "text/plain": [
       "'file:///Users/adodd202/Documents/Bootcamp_Spring2018/HousingPricesML/temp-plot.html'"
      ]
     },
     "execution_count": 533,
     "metadata": {},
     "output_type": "execute_result"
    }
   ],
   "source": [
    "cov_mat = np.cov(X_std.T)\n",
    "\n",
    "eig_vals, eig_vecs = np.linalg.eig(cov_mat)\n",
    "\n",
    "# print('Eigenvectors \\n%s' %eig_vecs)\n",
    "# print('\\nEigenvalues \\n%s' %eig_vals)\n",
    "\n",
    "# for ev in eig_vecs:\n",
    "#     np.testing.assert_array_almost_equal(1.0, np.linalg.norm(ev))\n",
    "# print('Everything ok!')\n",
    "\n",
    "import plotly.plotly as py\n",
    "from plotly.graph_objs import *\n",
    "import plotly.tools as tls\n",
    "from plotly.offline import plot\n",
    "\n",
    "\n",
    "tot = sum(eig_vals.real)\n",
    "var_exp = [(i / tot)*100 for i in sorted(eig_vals.real, reverse=True)]\n",
    "cum_var_exp = np.cumsum(var_exp)\n",
    "\n",
    "trace1 = Bar(\n",
    "        x=['PC %s' %i for i in range(1,268)],\n",
    "        y=var_exp,\n",
    "        showlegend=False)\n",
    "\n",
    "trace2 = Scatter(\n",
    "        x=['PC %s' %i for i in range(1,268)], \n",
    "        y=cum_var_exp,\n",
    "        name='cumulative explained variance')\n",
    "\n",
    "data = Data([trace1, trace2])\n",
    "\n",
    "layout=Layout(\n",
    "        yaxis=YAxis(title='Explained variance in percent'),\n",
    "        title='Explained variance by different principal components')\n",
    "\n",
    "fig = Figure(data=data, layout=layout)\n",
    "\n",
    "# We see from this plot that the we could possibly reduce our features if we had the inclination...\n",
    "# I do not have the inclination at this time.\n",
    "plot(fig)"
   ]
  },
  {
   "cell_type": "markdown",
   "metadata": {},
   "source": [
    "## 4. Modeling and Prediction\n",
    "\n",
    "Here we add some potential models...\n",
    "\n",
    "Reference: \n",
    "https://www.kaggle.com/serigne/stacked-regressions-top-4-on-leaderboard\n",
    "https://www.kaggle.com/humananalog/xgboost-lasso/code"
   ]
  },
  {
   "cell_type": "markdown",
   "metadata": {},
   "source": [
    "### 4.1 Model 1: Linear, Lasso"
   ]
  },
  {
   "cell_type": "code",
   "execution_count": 482,
   "metadata": {},
   "outputs": [],
   "source": [
    "from sklearn.linear_model import Lasso\n",
    "from sklearn.metrics import mean_squared_error\n",
    "from sklearn.model_selection import train_test_split\n",
    "\n",
    "#########################################################################\n",
    "##### NOTE THE LOG, This is because error is calculated using log #######\n",
    "#########################################################################\n",
    "\n",
    "train = house_train_d.ix[:,0:267]\n",
    "target = house_train_d.ix[:,267]\n",
    "\n",
    "X_train, X_test, y_train, y_test = train_test_split(X, y, test_size=0.2, random_state=42)"
   ]
  },
  {
   "cell_type": "code",
   "execution_count": 499,
   "metadata": {
    "scrolled": true
   },
   "outputs": [
    {
     "name": "stderr",
     "output_type": "stream",
     "text": [
      "/anaconda/lib/python3.6/site-packages/sklearn/linear_model/coordinate_descent.py:491: ConvergenceWarning:\n",
      "\n",
      "Objective did not converge. You might want to increase the number of iterations. Fitting data with very small alpha may cause precision problems.\n",
      "\n"
     ]
    }
   ],
   "source": [
    "# Lasso\n",
    "regr = Lasso(alpha=.0005, max_iter=50000, tol = .0001)\n",
    "regr.fit(train, target)\n",
    "\n",
    "# Run prediction on training set to get a rough idea of how well it does.\n",
    "y_pred = regr.predict(X_test)"
   ]
  },
  {
   "cell_type": "code",
   "execution_count": 500,
   "metadata": {},
   "outputs": [
    {
     "name": "stdout",
     "output_type": "stream",
     "text": [
      "0.12059440492559287\n"
     ]
    }
   ],
   "source": [
    "def rmsle(y_true,y_pred):\n",
    "   assert len(y_true) == len(y_pred)\n",
    "   return np.square(np.log(y_pred + 1) - np.log(y_true + 1)).mean() ** 0.5\n",
    "\n",
    "log_error = rmsle(y_test, y_pred)\n",
    "print(log_error)"
   ]
  },
  {
   "cell_type": "code",
   "execution_count": 494,
   "metadata": {},
   "outputs": [
    {
     "data": {
      "image/png": "[encoded data removed]",
      "text/plain": [
       "<matplotlib.figure.Figure at 0x1a30751a20>"
      ]
     },
     "metadata": {},
     "output_type": "display_data"
    }
   ],
   "source": [
    "# Creating a scatter plot of the above results:\n",
    "ax = sns.regplot(x=y_pred, y=y_test,\n",
    "                 scatter_kws={\"marker\": \"D\", # Set marker style\n",
    "                        \"alpha\": .5,\n",
    "                        \"s\": 3})\n",
    "# Perfect world is a straight line.\n",
    "# Not too bad. Definitely room for improvement!"
   ]
  },
  {
   "cell_type": "markdown",
   "metadata": {},
   "source": [
    "### 4.2 Model 2: Random Forest"
   ]
  },
  {
   "cell_type": "code",
   "execution_count": 516,
   "metadata": {},
   "outputs": [
    {
     "name": "stdout",
     "output_type": "stream",
     "text": [
      "0.1390482782665518\n"
     ]
    }
   ],
   "source": [
    "from sklearn.ensemble import RandomForestRegressor\n",
    "\n",
    "regr = RandomForestRegressor(n_estimators=40, max_depth=10, random_state=0)\n",
    "regr.fit(X_train, y_train)\n",
    "\n",
    "y_pred = regr.predict(X_test)\n",
    "\n",
    "log_error = rmsle(y_test, y_pred)\n",
    "print(log_error)\n",
    "\n",
    "# Not the best score..."
   ]
  },
  {
   "cell_type": "markdown",
   "metadata": {},
   "source": [
    "### 4.3 Model 3: Kernel Ridge"
   ]
  },
  {
   "cell_type": "code",
   "execution_count": 524,
   "metadata": {},
   "outputs": [
    {
     "name": "stdout",
     "output_type": "stream",
     "text": [
      "0.13303906179596506\n"
     ]
    }
   ],
   "source": [
    "from sklearn.ensemble import RandomForestRegressor\n",
    "\n",
    "KRR = KernelRidge(alpha=1000000, kernel='polynomial', degree=2, coef0=2.5)\n",
    "KRR.fit(X_train,y_train)\n",
    "\n",
    "y_pred = KRR.predict(X_test)\n",
    "\n",
    "log_error = rmsle(y_test, y_pred)\n",
    "print(log_error)\n",
    "\n",
    "# Alpha higher than this leads to worse score..."
   ]
  },
  {
   "cell_type": "markdown",
   "metadata": {},
   "source": [
    "### 4.4 More Complex Sklearn Models (Work in progress)"
   ]
  },
  {
   "cell_type": "code",
   "execution_count": 528,
   "metadata": {},
   "outputs": [],
   "source": [
    "from sklearn.linear_model import ElasticNet, Lasso,  BayesianRidge, LassoLarsIC\n",
    "from sklearn.ensemble import RandomForestRegressor,  GradientBoostingRegressor\n",
    "from sklearn.kernel_ridge import KernelRidge\n",
    "from sklearn.pipeline import make_pipeline\n",
    "from sklearn.preprocessing import RobustScaler\n",
    "from sklearn.base import BaseEstimator, TransformerMixin, RegressorMixin, clone\n",
    "from sklearn.model_selection import KFold, cross_val_score, train_test_split\n",
    "from sklearn.metrics import mean_squared_error\n",
    "# import xgboost as xgb\n",
    "# import lightgbm as lgb"
   ]
  },
  {
   "cell_type": "code",
   "execution_count": 529,
   "metadata": {},
   "outputs": [],
   "source": [
    "#Validation function\n",
    "n_folds = 5\n",
    "\n",
    "def rmsle_cv(model):\n",
    "    cv = KFold(n_splits=5, shuffle=True, random_state=42)\n",
    "    score = np.sqrt(-cross_val_score(model, train, target, scoring=\"neg_mean_squared_error\", cv=cv))\n",
    "    return score\n",
    "\n",
    "#Models:\n",
    "# lasso = make_pipeline(RobustScaler(), Lasso(alpha =0.0005, random_state=1))\n",
    "\n",
    "# ENet = make_pipeline(RobustScaler(), ElasticNet(alpha=0.0005, l1_ratio=.9, random_state=3))\n",
    "\n",
    "# KRR = KernelRidge(alpha=0.6, kernel='polynomial', degree=2, coef0=2.5)\n",
    "\n",
    "# GBoost = GradientBoostingRegressor(n_estimators=3000, learning_rate=0.05,\n",
    "#                                    max_depth=4, max_features='sqrt',\n",
    "#                                    min_samples_leaf=15, min_samples_split=10, \n",
    "#                                    loss='huber', random_state =5)\n",
    "\n",
    "# model_lgb = lgb.LGBMRegressor(objective='regression',num_leaves=5,\n",
    "#                               learning_rate=0.05, n_estimators=720,\n",
    "#                               max_bin = 55, bagging_fraction = 0.8,\n",
    "#                               bagging_freq = 5, feature_fraction = 0.2319,\n",
    "#                               feature_fraction_seed=9, bagging_seed=9,\n",
    "#                               min_data_in_leaf =6, min_sum_hessian_in_leaf = 11)\n",
    "\n",
    "# score = rmsle_cv(lasso)\n",
    "# print(\"\\nLasso score: {:.4f} ({:.4f})\\n\".format(score.mean(), score.std()))"
   ]
  },
  {
   "cell_type": "markdown",
   "metadata": {},
   "source": [
    "### 5. Write to CSV (results, data, etc)"
   ]
  },
  {
   "cell_type": "code",
   "execution_count": 525,
   "metadata": {
    "collapsed": true
   },
   "outputs": [],
   "source": [
    "# Here we are writing our cleaned dataframe to a CSV..."
   ]
  },
  {
   "cell_type": "code",
   "execution_count": 526,
   "metadata": {
    "collapsed": true
   },
   "outputs": [],
   "source": [
    "house_train_d.to_csv(\"train_dummies.csv\")\n",
    "house_test_d.to_csv(\"test_dummies.csv\")"
   ]
  },
  {
   "cell_type": "code",
   "execution_count": null,
   "metadata": {
    "collapsed": true
   },
   "outputs": [],
   "source": []
  }
 ],
 "metadata": {
  "kernelspec": {
   "display_name": "Python 3",
   "language": "python",
   "name": "python3"
  },
  "language_info": {
   "codemirror_mode": {
    "name": "ipython",
    "version": 3
   },
   "file_extension": ".py",
   "mimetype": "text/x-python",
   "name": "python",
   "nbconvert_exporter": "python",
   "pygments_lexer": "ipython3",
   "version": "3.6.2"
  }
 },
 "nbformat": 4,
 "nbformat_minor": 2
}
